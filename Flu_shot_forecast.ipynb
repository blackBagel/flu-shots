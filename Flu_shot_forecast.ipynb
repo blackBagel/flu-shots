{
  "cells": [
    {
      "cell_type": "code",
      "execution_count": null,
      "metadata": {
        "colab": {
          "base_uri": "https://localhost:8080/"
        },
        "id": "eMrl6usofinv",
        "outputId": "5ee9766f-5d78-4723-9998-ef6056a078ff"
      },
      "outputs": [],
      "source": [
        "# ! pip install category_encoders sklearn-pandas tqdm xgboost lightgbm shapash scikit-learn-intelex eli5"
      ]
    },
    {
      "cell_type": "code",
      "execution_count": 3,
      "metadata": {
        "colab": {
          "base_uri": "https://localhost:8080/"
        },
        "id": "q0zKwjfW3nWP",
        "outputId": "00a8f178-3c21-4bc8-ee7a-286f3c44e4ae"
      },
      "outputs": [
        {
          "name": "stderr",
          "output_type": "stream",
          "text": [
            "Intel(R) Extension for Scikit-learn* enabled (https://github.com/intel/scikit-learn-intelex)\n"
          ]
        }
      ],
      "source": [
        "# from __future__ import print_function\n",
        "import pandas as pd\n",
        "import numpy as np\n",
        "import os\n",
        "# from google.colab import drive\n",
        "from tqdm import tqdm\n",
        "# from joblib import Parallel, delayed\n",
        "# import re\n",
        "import math\n",
        "from sklearn.impute import SimpleImputer\n",
        "# from sklearn.experimental import enable_iterative_imputer\n",
        "# from sklearn.impute import IterativeImputer\n",
        "from sklearn_pandas import DataFrameMapper, gen_features\n",
        "from category_encoders import OneHotEncoder, OrdinalEncoder\n",
        "# from category_encoders import CountEncoder\n",
        "from sklearn.model_selection import train_test_split\n",
        "from sklearn.model_selection import cross_validate, StratifiedShuffleSplit\n",
        "from sklearn.metrics import roc_auc_score\n",
        "from sklearn.pipeline import Pipeline\n",
        "# from sklearn.compose import ColumnTransformer\n",
        "from sklearn.feature_selection import SelectKBest, chi2, mutual_info_classif\n",
        "\n",
        "from sklearn.linear_model import LogisticRegression\n",
        "from sklearn.svm import SVC\n",
        "# from sklearn.naive_bayes import MultinomialNB\n",
        "from sklearn.ensemble import RandomForestClassifier\n",
        "from xgboost import XGBClassifier\n",
        "from lightgbm import LGBMClassifier\n",
        "from sklearnex import patch_sklearn\n",
        "patch_sklearn()\n",
        "\n",
        "import eli5\n",
        "import pickle\n",
        "from time import perf_counter\n",
        "import matplotlib.pyplot as plt\n",
        "%matplotlib inline"
      ]
    },
    {
      "cell_type": "code",
      "execution_count": 4,
      "metadata": {
        "colab": {
          "base_uri": "https://localhost:8080/"
        },
        "id": "s3rl9ji-gO6L",
        "outputId": "0497af61-3f5f-412a-db43-4f38c95a9b9a"
      },
      "outputs": [],
      "source": [
        "# DRIVE_PATH = '/gdrive/My Drive/Data_Projects/Flu_Shots'\n",
        "# drive.mount('/gdrive')\n",
        "# os.chdir(DRIVE_PATH)\n",
        "# !ls"
      ]
    },
    {
      "cell_type": "code",
      "execution_count": 5,
      "metadata": {
        "id": "Ye0RaaW3_-8c"
      },
      "outputs": [],
      "source": [
        "df_train = pd.read_csv(\"training_set_features.csv\", index_col=0)\n",
        "labels_train = pd.read_csv(\"training_set_labels.csv\", index_col=0)"
      ]
    },
    {
      "cell_type": "code",
      "execution_count": 6,
      "metadata": {
        "colab": {
          "base_uri": "https://localhost:8080/",
          "height": 783
        },
        "id": "w02OyLWKl7mD",
        "outputId": "b201636a-1c00-4326-c8e7-41de3262d1b7"
      },
      "outputs": [
        {
          "data": {
            "text/html": [
              "<div>\n",
              "<style scoped>\n",
              "    .dataframe tbody tr th:only-of-type {\n",
              "        vertical-align: middle;\n",
              "    }\n",
              "\n",
              "    .dataframe tbody tr th {\n",
              "        vertical-align: top;\n",
              "    }\n",
              "\n",
              "    .dataframe thead th {\n",
              "        text-align: right;\n",
              "    }\n",
              "</style>\n",
              "<table border=\"1\" class=\"dataframe\">\n",
              "  <thead>\n",
              "    <tr style=\"text-align: right;\">\n",
              "      <th></th>\n",
              "      <th>h1n1_concern</th>\n",
              "      <th>h1n1_knowledge</th>\n",
              "      <th>behavioral_antiviral_meds</th>\n",
              "      <th>behavioral_avoidance</th>\n",
              "      <th>behavioral_face_mask</th>\n",
              "      <th>behavioral_wash_hands</th>\n",
              "      <th>behavioral_large_gatherings</th>\n",
              "      <th>behavioral_outside_home</th>\n",
              "      <th>behavioral_touch_face</th>\n",
              "      <th>doctor_recc_h1n1</th>\n",
              "      <th>...</th>\n",
              "      <th>income_poverty</th>\n",
              "      <th>marital_status</th>\n",
              "      <th>rent_or_own</th>\n",
              "      <th>employment_status</th>\n",
              "      <th>hhs_geo_region</th>\n",
              "      <th>census_msa</th>\n",
              "      <th>household_adults</th>\n",
              "      <th>household_children</th>\n",
              "      <th>employment_industry</th>\n",
              "      <th>employment_occupation</th>\n",
              "    </tr>\n",
              "    <tr>\n",
              "      <th>respondent_id</th>\n",
              "      <th></th>\n",
              "      <th></th>\n",
              "      <th></th>\n",
              "      <th></th>\n",
              "      <th></th>\n",
              "      <th></th>\n",
              "      <th></th>\n",
              "      <th></th>\n",
              "      <th></th>\n",
              "      <th></th>\n",
              "      <th></th>\n",
              "      <th></th>\n",
              "      <th></th>\n",
              "      <th></th>\n",
              "      <th></th>\n",
              "      <th></th>\n",
              "      <th></th>\n",
              "      <th></th>\n",
              "      <th></th>\n",
              "      <th></th>\n",
              "      <th></th>\n",
              "    </tr>\n",
              "  </thead>\n",
              "  <tbody>\n",
              "    <tr>\n",
              "      <th>0</th>\n",
              "      <td>1.0</td>\n",
              "      <td>0.0</td>\n",
              "      <td>0.0</td>\n",
              "      <td>0.0</td>\n",
              "      <td>0.0</td>\n",
              "      <td>0.0</td>\n",
              "      <td>0.0</td>\n",
              "      <td>1.0</td>\n",
              "      <td>1.0</td>\n",
              "      <td>0.0</td>\n",
              "      <td>...</td>\n",
              "      <td>Below Poverty</td>\n",
              "      <td>Not Married</td>\n",
              "      <td>Own</td>\n",
              "      <td>Not in Labor Force</td>\n",
              "      <td>oxchjgsf</td>\n",
              "      <td>Non-MSA</td>\n",
              "      <td>0.0</td>\n",
              "      <td>0.0</td>\n",
              "      <td>NaN</td>\n",
              "      <td>NaN</td>\n",
              "    </tr>\n",
              "    <tr>\n",
              "      <th>1</th>\n",
              "      <td>3.0</td>\n",
              "      <td>2.0</td>\n",
              "      <td>0.0</td>\n",
              "      <td>1.0</td>\n",
              "      <td>0.0</td>\n",
              "      <td>1.0</td>\n",
              "      <td>0.0</td>\n",
              "      <td>1.0</td>\n",
              "      <td>1.0</td>\n",
              "      <td>0.0</td>\n",
              "      <td>...</td>\n",
              "      <td>Below Poverty</td>\n",
              "      <td>Not Married</td>\n",
              "      <td>Rent</td>\n",
              "      <td>Employed</td>\n",
              "      <td>bhuqouqj</td>\n",
              "      <td>MSA, Not Principle  City</td>\n",
              "      <td>0.0</td>\n",
              "      <td>0.0</td>\n",
              "      <td>pxcmvdjn</td>\n",
              "      <td>xgwztkwe</td>\n",
              "    </tr>\n",
              "    <tr>\n",
              "      <th>2</th>\n",
              "      <td>1.0</td>\n",
              "      <td>1.0</td>\n",
              "      <td>0.0</td>\n",
              "      <td>1.0</td>\n",
              "      <td>0.0</td>\n",
              "      <td>0.0</td>\n",
              "      <td>0.0</td>\n",
              "      <td>0.0</td>\n",
              "      <td>0.0</td>\n",
              "      <td>NaN</td>\n",
              "      <td>...</td>\n",
              "      <td>&lt;= $75,000, Above Poverty</td>\n",
              "      <td>Not Married</td>\n",
              "      <td>Own</td>\n",
              "      <td>Employed</td>\n",
              "      <td>qufhixun</td>\n",
              "      <td>MSA, Not Principle  City</td>\n",
              "      <td>2.0</td>\n",
              "      <td>0.0</td>\n",
              "      <td>rucpziij</td>\n",
              "      <td>xtkaffoo</td>\n",
              "    </tr>\n",
              "    <tr>\n",
              "      <th>3</th>\n",
              "      <td>1.0</td>\n",
              "      <td>1.0</td>\n",
              "      <td>0.0</td>\n",
              "      <td>1.0</td>\n",
              "      <td>0.0</td>\n",
              "      <td>1.0</td>\n",
              "      <td>1.0</td>\n",
              "      <td>0.0</td>\n",
              "      <td>0.0</td>\n",
              "      <td>0.0</td>\n",
              "      <td>...</td>\n",
              "      <td>Below Poverty</td>\n",
              "      <td>Not Married</td>\n",
              "      <td>Rent</td>\n",
              "      <td>Not in Labor Force</td>\n",
              "      <td>lrircsnp</td>\n",
              "      <td>MSA, Principle City</td>\n",
              "      <td>0.0</td>\n",
              "      <td>0.0</td>\n",
              "      <td>NaN</td>\n",
              "      <td>NaN</td>\n",
              "    </tr>\n",
              "    <tr>\n",
              "      <th>4</th>\n",
              "      <td>2.0</td>\n",
              "      <td>1.0</td>\n",
              "      <td>0.0</td>\n",
              "      <td>1.0</td>\n",
              "      <td>0.0</td>\n",
              "      <td>1.0</td>\n",
              "      <td>1.0</td>\n",
              "      <td>0.0</td>\n",
              "      <td>1.0</td>\n",
              "      <td>0.0</td>\n",
              "      <td>...</td>\n",
              "      <td>&lt;= $75,000, Above Poverty</td>\n",
              "      <td>Married</td>\n",
              "      <td>Own</td>\n",
              "      <td>Employed</td>\n",
              "      <td>qufhixun</td>\n",
              "      <td>MSA, Not Principle  City</td>\n",
              "      <td>1.0</td>\n",
              "      <td>0.0</td>\n",
              "      <td>wxleyezf</td>\n",
              "      <td>emcorrxb</td>\n",
              "    </tr>\n",
              "  </tbody>\n",
              "</table>\n",
              "<p>5 rows × 35 columns</p>\n",
              "</div>"
            ],
            "text/plain": [
              "               h1n1_concern  h1n1_knowledge  behavioral_antiviral_meds  \\\n",
              "respondent_id                                                            \n",
              "0                       1.0             0.0                        0.0   \n",
              "1                       3.0             2.0                        0.0   \n",
              "2                       1.0             1.0                        0.0   \n",
              "3                       1.0             1.0                        0.0   \n",
              "4                       2.0             1.0                        0.0   \n",
              "\n",
              "               behavioral_avoidance  behavioral_face_mask  \\\n",
              "respondent_id                                               \n",
              "0                               0.0                   0.0   \n",
              "1                               1.0                   0.0   \n",
              "2                               1.0                   0.0   \n",
              "3                               1.0                   0.0   \n",
              "4                               1.0                   0.0   \n",
              "\n",
              "               behavioral_wash_hands  behavioral_large_gatherings  \\\n",
              "respondent_id                                                       \n",
              "0                                0.0                          0.0   \n",
              "1                                1.0                          0.0   \n",
              "2                                0.0                          0.0   \n",
              "3                                1.0                          1.0   \n",
              "4                                1.0                          1.0   \n",
              "\n",
              "               behavioral_outside_home  behavioral_touch_face  \\\n",
              "respondent_id                                                   \n",
              "0                                  1.0                    1.0   \n",
              "1                                  1.0                    1.0   \n",
              "2                                  0.0                    0.0   \n",
              "3                                  0.0                    0.0   \n",
              "4                                  0.0                    1.0   \n",
              "\n",
              "               doctor_recc_h1n1  ...             income_poverty  \\\n",
              "respondent_id                    ...                              \n",
              "0                           0.0  ...              Below Poverty   \n",
              "1                           0.0  ...              Below Poverty   \n",
              "2                           NaN  ...  <= $75,000, Above Poverty   \n",
              "3                           0.0  ...              Below Poverty   \n",
              "4                           0.0  ...  <= $75,000, Above Poverty   \n",
              "\n",
              "               marital_status  rent_or_own   employment_status  \\\n",
              "respondent_id                                                    \n",
              "0                 Not Married          Own  Not in Labor Force   \n",
              "1                 Not Married         Rent            Employed   \n",
              "2                 Not Married          Own            Employed   \n",
              "3                 Not Married         Rent  Not in Labor Force   \n",
              "4                     Married          Own            Employed   \n",
              "\n",
              "               hhs_geo_region                census_msa  household_adults  \\\n",
              "respondent_id                                                               \n",
              "0                    oxchjgsf                   Non-MSA               0.0   \n",
              "1                    bhuqouqj  MSA, Not Principle  City               0.0   \n",
              "2                    qufhixun  MSA, Not Principle  City               2.0   \n",
              "3                    lrircsnp       MSA, Principle City               0.0   \n",
              "4                    qufhixun  MSA, Not Principle  City               1.0   \n",
              "\n",
              "               household_children  employment_industry  employment_occupation  \n",
              "respondent_id                                                                  \n",
              "0                             0.0                  NaN                    NaN  \n",
              "1                             0.0             pxcmvdjn               xgwztkwe  \n",
              "2                             0.0             rucpziij               xtkaffoo  \n",
              "3                             0.0                  NaN                    NaN  \n",
              "4                             0.0             wxleyezf               emcorrxb  \n",
              "\n",
              "[5 rows x 35 columns]"
            ]
          },
          "execution_count": 6,
          "metadata": {},
          "output_type": "execute_result"
        }
      ],
      "source": [
        "df_train.head()"
      ]
    },
    {
      "cell_type": "code",
      "execution_count": 7,
      "metadata": {
        "colab": {
          "base_uri": "https://localhost:8080/",
          "height": 423
        },
        "id": "6g-lCEkmmO6T",
        "outputId": "be5531ea-e4fa-469c-8c99-9b214002b936"
      },
      "outputs": [
        {
          "data": {
            "text/html": [
              "<div>\n",
              "<style scoped>\n",
              "    .dataframe tbody tr th:only-of-type {\n",
              "        vertical-align: middle;\n",
              "    }\n",
              "\n",
              "    .dataframe tbody tr th {\n",
              "        vertical-align: top;\n",
              "    }\n",
              "\n",
              "    .dataframe thead th {\n",
              "        text-align: right;\n",
              "    }\n",
              "</style>\n",
              "<table border=\"1\" class=\"dataframe\">\n",
              "  <thead>\n",
              "    <tr style=\"text-align: right;\">\n",
              "      <th></th>\n",
              "      <th>h1n1_vaccine</th>\n",
              "      <th>seasonal_vaccine</th>\n",
              "    </tr>\n",
              "    <tr>\n",
              "      <th>respondent_id</th>\n",
              "      <th></th>\n",
              "      <th></th>\n",
              "    </tr>\n",
              "  </thead>\n",
              "  <tbody>\n",
              "    <tr>\n",
              "      <th>0</th>\n",
              "      <td>0</td>\n",
              "      <td>0</td>\n",
              "    </tr>\n",
              "    <tr>\n",
              "      <th>1</th>\n",
              "      <td>0</td>\n",
              "      <td>1</td>\n",
              "    </tr>\n",
              "    <tr>\n",
              "      <th>2</th>\n",
              "      <td>0</td>\n",
              "      <td>0</td>\n",
              "    </tr>\n",
              "    <tr>\n",
              "      <th>3</th>\n",
              "      <td>0</td>\n",
              "      <td>1</td>\n",
              "    </tr>\n",
              "    <tr>\n",
              "      <th>4</th>\n",
              "      <td>0</td>\n",
              "      <td>0</td>\n",
              "    </tr>\n",
              "    <tr>\n",
              "      <th>...</th>\n",
              "      <td>...</td>\n",
              "      <td>...</td>\n",
              "    </tr>\n",
              "    <tr>\n",
              "      <th>26702</th>\n",
              "      <td>0</td>\n",
              "      <td>0</td>\n",
              "    </tr>\n",
              "    <tr>\n",
              "      <th>26703</th>\n",
              "      <td>0</td>\n",
              "      <td>0</td>\n",
              "    </tr>\n",
              "    <tr>\n",
              "      <th>26704</th>\n",
              "      <td>0</td>\n",
              "      <td>1</td>\n",
              "    </tr>\n",
              "    <tr>\n",
              "      <th>26705</th>\n",
              "      <td>0</td>\n",
              "      <td>0</td>\n",
              "    </tr>\n",
              "    <tr>\n",
              "      <th>26706</th>\n",
              "      <td>0</td>\n",
              "      <td>0</td>\n",
              "    </tr>\n",
              "  </tbody>\n",
              "</table>\n",
              "<p>26707 rows × 2 columns</p>\n",
              "</div>"
            ],
            "text/plain": [
              "               h1n1_vaccine  seasonal_vaccine\n",
              "respondent_id                                \n",
              "0                         0                 0\n",
              "1                         0                 1\n",
              "2                         0                 0\n",
              "3                         0                 1\n",
              "4                         0                 0\n",
              "...                     ...               ...\n",
              "26702                     0                 0\n",
              "26703                     0                 0\n",
              "26704                     0                 1\n",
              "26705                     0                 0\n",
              "26706                     0                 0\n",
              "\n",
              "[26707 rows x 2 columns]"
            ]
          },
          "execution_count": 7,
          "metadata": {},
          "output_type": "execute_result"
        }
      ],
      "source": [
        "labels_train"
      ]
    },
    {
      "cell_type": "code",
      "execution_count": 8,
      "metadata": {
        "colab": {
          "base_uri": "https://localhost:8080/"
        },
        "id": "hh9MIJcKmGjK",
        "outputId": "cf5c8c4f-cbb1-4fa2-b290-6f90d0d322dc"
      },
      "outputs": [
        {
          "data": {
            "text/plain": [
              "0"
            ]
          },
          "execution_count": 8,
          "metadata": {},
          "output_type": "execute_result"
        }
      ],
      "source": [
        "# df_train = df_train.set_index(\"respondent_id\")\n",
        "# labels_train = labels_train.set_index(\"respondent_id\")\n",
        "\n",
        "# Checking if there are inconcistency issues in the data\n",
        "(df_train.index != labels_train.index).sum()"
      ]
    },
    {
      "cell_type": "code",
      "execution_count": 9,
      "metadata": {
        "colab": {
          "base_uri": "https://localhost:8080/",
          "height": 317
        },
        "id": "yfvAzyY7F_h3",
        "outputId": "40a99d31-c76a-4451-8e07-904c9a4c8bb6"
      },
      "outputs": [
        {
          "data": {
            "image/png": "[encoded data removed]",
            "text/plain": [
              "<Figure size 432x288 with 2 Axes>"
            ]
          },
          "metadata": {
            "needs_background": "light"
          },
          "output_type": "display_data"
        }
      ],
      "source": [
        "# checking distribution of labels to understand what type of CV split i need\n",
        "\n",
        "# fig, (ax1, ax2) = plt.subplots(2,1)\n",
        "# labels_train.h1n1_vaccine.plot(kind='hist', ax=ax1, title='h1n1')\n",
        "# labels_train.seasonal_vaccine.plot(kind='hist', ax=ax2, title='seasonal')\n",
        "# fig.tight_layout()\n",
        "labels_train.plot.hist(subplots = True);"
      ]
    },
    {
      "cell_type": "markdown",
      "metadata": {
        "id": "br-jjNbdjqnz"
      },
      "source": [
        "#### Train validation split"
      ]
    },
    {
      "cell_type": "code",
      "execution_count": 10,
      "metadata": {
        "colab": {
          "base_uri": "https://localhost:8080/"
        },
        "id": "AJzxLq7LjzYD",
        "outputId": "771dde86-806b-4771-d70c-830539e8a891"
      },
      "outputs": [
        {
          "name": "stdout",
          "output_type": "stream",
          "text": [
            "26709\n"
          ]
        }
      ],
      "source": [
        "# Checking how many observations in test set\n",
        "# ! wc -l \"test_set_features.csv\"\n",
        "! type \"test_set_features.csv\" | find /c /v \"\""
      ]
    },
    {
      "cell_type": "markdown",
      "metadata": {
        "id": "9RQDMUYdlGuK"
      },
      "source": [
        "Unfortunately, the test set is the same size as the train set.  \n",
        "So since i can't create a validation set as big, i'll just take a small fraction of the train set for validation"
      ]
    },
    {
      "cell_type": "markdown",
      "metadata": {},
      "source": [
        "I later decided to use cross validation since the data wasn't that huge\n",
        "So no need for train val split"
      ]
    },
    {
      "cell_type": "code",
      "execution_count": 11,
      "metadata": {
        "id": "6DvOuOZOjDcD"
      },
      "outputs": [],
      "source": [
        "# TRAIN_VAL_RAND_STATE = 1\n",
        "# TRAIN_VAL_SPLIT = 0.3\n",
        "\n",
        "# # We use the same train-test split to test all of the models\n",
        "# df_train_for_val, df_val, labels_train_for_val, labels_val = train_test_split(df_train,\n",
        "#                                                                               labels_train,\n",
        "#                                                                               random_state=TRAIN_VAL_RAND_STATE,\n",
        "#                                                                               test_size=TRAIN_VAL_SPLIT,\n",
        "#                                                                               shuffle=True)\n",
        "\n",
        "# print(f\"train size: {len(df_train_for_val)}\")\n",
        "# print(f\"val size: {len(df_val)}\")\n",
        "# print(f\"train labels size: {len(labels_train_for_val)}\")\n",
        "# print(f\"val labels size: {len(labels_val)}\")"
      ]
    },
    {
      "cell_type": "code",
      "execution_count": 12,
      "metadata": {},
      "outputs": [
        {
          "name": "stdout",
          "output_type": "stream",
          "text": [
            "According to CDC Data of March 2022 for Flu Vaccines: \n",
            "Coverage is 49.34% \n",
            "vs 50.66% non covered\n"
          ]
        }
      ],
      "source": [
        "# Coverage is 34.7% for adults 18-49 years, 50.% for adults 50-64 years, and 67.7% for adults 65 years and older\n",
        "all_data_amount = len(df_train)\n",
        "# print(df_train['age_group'].unique())\n",
        "adults = df_train.query('age_group == \"35 - 44 Years\" | age_group == \"18 - 34 Years\"')\n",
        "older_adults = df_train.query('age_group == \"45 - 54 Years\" | age_group == \"55 - 64 Years\"')\n",
        "old_adults = df_train.query('age_group == \"65+ Years\"')\n",
        "\n",
        "coverage = 0.347 * len(adults) + 0.5 * len(older_adults) + 0.677 * len(old_adults)\n",
        "non_covered = all_data_amount - coverage\n",
        "\n",
        "coverege_perc = round(coverage * 100 / all_data_amount,2)\n",
        "non_coverege_perc = round(non_covered * 100 / all_data_amount,2)\n",
        "print(f'According to CDC Data of March 2022 for Flu Vaccines: \\nCoverage is {coverege_perc}% \\nvs {non_coverege_perc}% non covered')"
      ]
    },
    {
      "cell_type": "markdown",
      "metadata": {
        "id": "BZIj5fOuewkJ"
      },
      "source": [
        "#### Creating functions for testing preprocessors"
      ]
    },
    {
      "cell_type": "code",
      "execution_count": 13,
      "metadata": {
        "id": "lnY-Elx07q2G"
      },
      "outputs": [],
      "source": [
        "# def get_columns_after_transform(column_transformer):\n",
        "#   columns_after_processing = [column for _,_,columns in column_transformer.transformers_ for column in columns]\n",
        "#   return columns_after_processing"
      ]
    },
    {
      "cell_type": "code",
      "execution_count": 14,
      "metadata": {
        "id": "02GIVsXwK1UU"
      },
      "outputs": [],
      "source": [
        "# def pass_through_transformer(df, transformer):\n",
        "#   df_processed = df.copy()\n",
        "#   df_processed = transformer.fit_transform(df_processed)\n",
        "\n",
        "#   columns_after_processing = get_columns_after_transform(transformer)\n",
        "\n",
        "#   df_processed = pd.DataFrame(df_processed,\n",
        "#                               columns = columns_after_processing,\n",
        "#                               index=df.index)\n",
        "  \n",
        "#   return df_processed"
      ]
    },
    {
      "cell_type": "markdown",
      "metadata": {
        "id": "HqpPXWOqFIoo"
      },
      "source": [
        "Making sure i assigned the correct columns to the transformed df  \n",
        "And that I processed the columns as intended "
      ]
    },
    {
      "cell_type": "code",
      "execution_count": 15,
      "metadata": {
        "id": "XKwtBJBJ9MCM"
      },
      "outputs": [],
      "source": [
        "def compare_df_row_changes(df_from, df_to):\n",
        "  '''\n",
        "    Expects DFs with identical ids and column order!\n",
        "  '''\n",
        "  df1 = df_from.copy()\n",
        "  df2 = df_to.copy()\n",
        "\n",
        "  ne_stacked = (df1 != df2).stack()\n",
        "  changed = ne_stacked[ne_stacked]\n",
        "  changed.index.names = ['id', 'column']\n",
        "\n",
        "  difference_locations = np.where(df1 != df2)\n",
        "\n",
        "  changed_from = df1.values[difference_locations]\n",
        "  changed_to = df2.values[difference_locations]\n",
        "\n",
        "  print(pd.DataFrame({'from': changed_from, 'to': changed_to}, index=changed.index))"
      ]
    },
    {
      "cell_type": "code",
      "execution_count": 16,
      "metadata": {
        "id": "__xPrVEnIrcQ"
      },
      "outputs": [],
      "source": [
        "def test_column_transformer(df, transformer):\n",
        "  # df_before = df.copy()\n",
        "  # df_after = pass_through_transformer(df_before, transformer)\n",
        "\n",
        "  # columns_after_processing = get_columns_after_transform(transformer)\n",
        "\n",
        "  # df1 = df_before[columns_after_processing].iloc[[0,1], :]\n",
        "  # df2 = df_after.iloc[[0,1], :]\n",
        "  df_before  = df.copy()\n",
        "  df_after = data_preparation_pipeline.fit_transform(df_before)\n",
        "\n",
        "  df_before_compared = df_before[df_after.columns].iloc[[0,1], :]\n",
        "  df_after_compared = df_after.iloc[[0,1], :]\n",
        "\n",
        "  compare_df_row_changes(df_before_compared, df_after_compared)"
      ]
    },
    {
      "cell_type": "code",
      "execution_count": 17,
      "metadata": {
        "colab": {
          "base_uri": "https://localhost:8080/"
        },
        "id": "c_pMDzsnca-s",
        "outputId": "0ffb8d59-7144-45fc-e600-a90b1d12b3c5"
      },
      "outputs": [
        {
          "name": "stdout",
          "output_type": "stream",
          "text": [
            "The df has 35 columns\n",
            "Column name                  | dtype   | Amount of nulls\n",
            "--------------------------------------------------------\n",
            "h1n1_concern                 | float64 | 92\n",
            "h1n1_knowledge               | float64 | 116\n",
            "behavioral_antiviral_meds    | float64 | 71\n",
            "behavioral_avoidance         | float64 | 208\n",
            "behavioral_face_mask         | float64 | 19\n",
            "behavioral_wash_hands        | float64 | 42\n",
            "behavioral_large_gatherings  | float64 | 87\n",
            "behavioral_outside_home      | float64 | 82\n",
            "behavioral_touch_face        | float64 | 128\n",
            "doctor_recc_h1n1             | float64 | 2160\n",
            "doctor_recc_seasonal         | float64 | 2160\n",
            "chronic_med_condition        | float64 | 971\n",
            "child_under_6_months         | float64 | 820\n",
            "health_worker                | float64 | 804\n",
            "health_insurance             | float64 | 12274\n",
            "opinion_h1n1_vacc_effective  | float64 | 391\n",
            "opinion_h1n1_risk            | float64 | 388\n",
            "opinion_h1n1_sick_from_vacc  | float64 | 395\n",
            "opinion_seas_vacc_effective  | float64 | 462\n",
            "opinion_seas_risk            | float64 | 514\n",
            "opinion_seas_sick_from_vacc  | float64 | 537\n",
            "age_group                    | object  | 0\n",
            "education                    | object  | 1407\n",
            "race                         | object  | 0\n",
            "sex                          | object  | 0\n",
            "income_poverty               | object  | 4423\n",
            "marital_status               | object  | 1408\n",
            "rent_or_own                  | object  | 2042\n",
            "employment_status            | object  | 1463\n",
            "hhs_geo_region               | object  | 0\n",
            "census_msa                   | object  | 0\n",
            "household_adults             | float64 | 249\n",
            "household_children           | float64 | 249\n",
            "employment_industry          | object  | 13330\n",
            "employment_occupation        | object  | 13470\n",
            "\n",
            "Columns that have more than 1.0% null values:\n",
            "['doctor_recc_h1n1', 'doctor_recc_seasonal', 'chronic_med_condition', 'child_under_6_months', 'health_worker', 'health_insurance', 'opinion_h1n1_vacc_effective', 'opinion_h1n1_risk', 'opinion_h1n1_sick_from_vacc', 'opinion_seas_vacc_effective', 'opinion_seas_risk', 'opinion_seas_sick_from_vacc', 'education', 'income_poverty', 'marital_status', 'rent_or_own', 'employment_status', 'employment_industry', 'employment_occupation']\n"
          ]
        }
      ],
      "source": [
        "def describe_columns(df):\n",
        "  TOO_MANY_NULLS_PERCENT = 0.01\n",
        "  columns_with_lots_of_nulls = []\n",
        "\n",
        "  print(f\"The df has {df.shape[1]} columns\")\n",
        "  print(\"Column name                  | dtype   | Amount of nulls\")\n",
        "  print(\"--------------------------------------------------------\")\n",
        "  for column in df.columns:\n",
        "    num_of_nulls = df[column].isnull().sum()\n",
        "    col_dtype = str(df.dtypes[column])\n",
        "    print(f\"{column:<28} | {col_dtype:<7} | {num_of_nulls}\")\n",
        "\n",
        "    if num_of_nulls > len(df_train) * TOO_MANY_NULLS_PERCENT:\n",
        "      columns_with_lots_of_nulls.append(column)\n",
        "\n",
        "  print()\n",
        "  print(f\"Columns that have more than {TOO_MANY_NULLS_PERCENT * 100}% null values:\")\n",
        "  print(columns_with_lots_of_nulls)\n",
        "\n",
        "describe_columns(df_train)"
      ]
    },
    {
      "cell_type": "markdown",
      "metadata": {
        "id": "5_VtC4ROKpyr"
      },
      "source": [
        "### Handling nulls"
      ]
    },
    {
      "cell_type": "code",
      "execution_count": 18,
      "metadata": {
        "id": "NGDLUq6yPAyU"
      },
      "outputs": [],
      "source": [
        "columns_with_type_float = df_train.select_dtypes(include=['float64']).columns.tolist()\n",
        "columns_with_type_string = df_train.select_dtypes(include=['object']).columns.tolist()"
      ]
    },
    {
      "cell_type": "markdown",
      "metadata": {
        "id": "WmYIz10oB4yv"
      },
      "source": [
        "#### Float64 Features "
      ]
    },
    {
      "cell_type": "code",
      "execution_count": 19,
      "metadata": {
        "colab": {
          "base_uri": "https://localhost:8080/",
          "height": 981
        },
        "id": "vV6wj6Y0e32U",
        "outputId": "2ecf5359-c557-4233-c7de-41606d32f8f4"
      },
      "outputs": [
        {
          "name": "stderr",
          "output_type": "stream",
          "text": [
            "100%|██████████| 23/23 [00:00<00:00, 39.82it/s]\n"
          ]
        },
        {
          "data": {
            "image/png": "[encoded data removed]",
            "text/plain": [
              "<Figure size 1584x1296 with 24 Axes>"
            ]
          },
          "metadata": {
            "needs_background": "light"
          },
          "output_type": "display_data"
        }
      ],
      "source": [
        "fig, axes = plt.subplots(ncols=3, nrows=8, figsize=(22,18))\n",
        "axes_list = [item for sublist in axes for item in sublist] \n",
        "\n",
        "# plot every month's daily count of transactions\n",
        "for column in tqdm(columns_with_type_float):\n",
        "  ax = axes_list.pop(0)\n",
        "  df_train[column].plot(kind='hist', ax=ax)\n",
        "  ax.set_title(column)\n",
        "\n",
        "fig.tight_layout()"
      ]
    },
    {
      "cell_type": "code",
      "execution_count": 20,
      "metadata": {
        "id": "fKTsMvv9uv9c"
      },
      "outputs": [],
      "source": [
        "# columns_that_can_have_better_impute = ['doctor_recc_h1n1', # X\n",
        "#                                        'doctor_recc_seasonal', # X\n",
        "#                                        'health_insurance', # V\n",
        "#                                        'education', # \n",
        "#                                        'income_poverty',\n",
        "#                                        'marital_status',\n",
        "#                                        'rent_or_own',\n",
        "#                                        'employment_status', \n",
        "#                                        'employment_industry',\n",
        "#                                        'employment_occupation']\n"
      ]
    },
    {
      "cell_type": "code",
      "execution_count": 21,
      "metadata": {
        "id": "3TUB_BmywBY1"
      },
      "outputs": [],
      "source": [
        "features_to_not_impute = {'respondent_id'}\n",
        "\n",
        "# for now i'll impute the doctor_recc features with most freq values\n",
        "# mostly because a placeholder value is too much of a hassle for a temporary setup\n",
        "float_features_for_placeholder_impute = set()\n",
        "# float_features_for_placeholder_impute = {'doctor_recc_h1n1',\n",
        "#                                          'doctor_recc_seasonal'}\n",
        "\n",
        "# Since all the data is categorical, all the features will be MF imputed by default \n",
        "# Feautures that need to be specially imputed are the odd ones\n",
        "# And i'll explicitly take them out of the default list\n",
        "all_float_features = set(df_train.select_dtypes(include=['float64']).columns)\n",
        "\n",
        "float_features_for_mf_impute =  all_float_features \\\n",
        " - float_features_for_placeholder_impute \\\n",
        " - features_to_not_impute\n",
        "\n",
        "float_features_to_preprocess = float_features_for_mf_impute | float_features_for_placeholder_impute"
      ]
    },
    {
      "cell_type": "markdown",
      "metadata": {
        "id": "vUOlYRWqCKne"
      },
      "source": [
        "#### String Categorical Features"
      ]
    },
    {
      "cell_type": "code",
      "execution_count": 22,
      "metadata": {
        "colab": {
          "base_uri": "https://localhost:8080/",
          "height": 1000
        },
        "id": "FU2aqxv3CTGL",
        "outputId": "c1e2d871-a8c2-477b-c382-92b4fa0b2846"
      },
      "outputs": [
        {
          "name": "stderr",
          "output_type": "stream",
          "text": [
            "100%|██████████| 12/12 [00:00<00:00, 72.76it/s]\n"
          ]
        },
        {
          "data": {
            "image/png": "[encoded data removed]",
            "text/plain": [
              "<Figure size 1584x1440 with 12 Axes>"
            ]
          },
          "metadata": {
            "needs_background": "light"
          },
          "output_type": "display_data"
        }
      ],
      "source": [
        "PLOTS_PER_ROW = 2\n",
        "n_rows = math.ceil(len(columns_with_type_string) / PLOTS_PER_ROW)\n",
        "fig, axes = plt.subplots(ncols=PLOTS_PER_ROW, nrows=n_rows, figsize=(22,20))\n",
        "axes_list = [column for row in axes for column in row] \n",
        "\n",
        "# plot every feature's frequency of each value\n",
        "for column in tqdm(columns_with_type_string):\n",
        "  ax = axes_list.pop(0)\n",
        "  df_train.groupby(column).size().plot.barh(title=column, ax=ax)\n",
        "\n",
        "fig.tight_layout()"
      ]
    },
    {
      "cell_type": "markdown",
      "metadata": {
        "id": "P7sKsMbXN9zG"
      },
      "source": [
        "Since I don't want to start fiddling with Advanced imputation techniques, for now I'll only impute `race` and `rent_or_own` using the most frequent value, and all the rest of the features will simply have a literal string `NaN` where empty so I could still get some sense of which features are useful for this classification"
      ]
    },
    {
      "cell_type": "code",
      "execution_count": 23,
      "metadata": {
        "id": "PXHe3n48Oqdd"
      },
      "outputs": [],
      "source": [
        "string_features_for_mf_impute = { 'race', 'rent_or_own' }\n",
        "string_features_for_placeholder_impute = set(columns_with_type_string) - string_features_for_mf_impute\n",
        "string_features_to_preprocess = string_features_for_mf_impute | string_features_for_placeholder_impute"
      ]
    },
    {
      "cell_type": "markdown",
      "metadata": {
        "id": "SHMtpYKwCUNk"
      },
      "source": [
        "#### Imputation"
      ]
    },
    {
      "cell_type": "code",
      "execution_count": 24,
      "metadata": {
        "colab": {
          "base_uri": "https://localhost:8080/",
          "height": 458
        },
        "id": "D9dHg3Vz184P",
        "outputId": "605c4024-8d56-406b-abe1-4ebf7643a95c"
      },
      "outputs": [
        {
          "data": {
            "text/html": [
              "<div>\n",
              "<style scoped>\n",
              "    .dataframe tbody tr th:only-of-type {\n",
              "        vertical-align: middle;\n",
              "    }\n",
              "\n",
              "    .dataframe tbody tr th {\n",
              "        vertical-align: top;\n",
              "    }\n",
              "\n",
              "    .dataframe thead th {\n",
              "        text-align: right;\n",
              "    }\n",
              "</style>\n",
              "<table border=\"1\" class=\"dataframe\">\n",
              "  <thead>\n",
              "    <tr style=\"text-align: right;\">\n",
              "      <th></th>\n",
              "      <th>h1n1_concern</th>\n",
              "      <th>h1n1_knowledge</th>\n",
              "      <th>behavioral_antiviral_meds</th>\n",
              "      <th>behavioral_avoidance</th>\n",
              "      <th>behavioral_face_mask</th>\n",
              "      <th>behavioral_wash_hands</th>\n",
              "      <th>behavioral_large_gatherings</th>\n",
              "      <th>behavioral_outside_home</th>\n",
              "      <th>behavioral_touch_face</th>\n",
              "      <th>doctor_recc_h1n1</th>\n",
              "      <th>...</th>\n",
              "      <th>income_poverty</th>\n",
              "      <th>marital_status</th>\n",
              "      <th>rent_or_own</th>\n",
              "      <th>employment_status</th>\n",
              "      <th>hhs_geo_region</th>\n",
              "      <th>census_msa</th>\n",
              "      <th>household_adults</th>\n",
              "      <th>household_children</th>\n",
              "      <th>employment_industry</th>\n",
              "      <th>employment_occupation</th>\n",
              "    </tr>\n",
              "    <tr>\n",
              "      <th>respondent_id</th>\n",
              "      <th></th>\n",
              "      <th></th>\n",
              "      <th></th>\n",
              "      <th></th>\n",
              "      <th></th>\n",
              "      <th></th>\n",
              "      <th></th>\n",
              "      <th></th>\n",
              "      <th></th>\n",
              "      <th></th>\n",
              "      <th></th>\n",
              "      <th></th>\n",
              "      <th></th>\n",
              "      <th></th>\n",
              "      <th></th>\n",
              "      <th></th>\n",
              "      <th></th>\n",
              "      <th></th>\n",
              "      <th></th>\n",
              "      <th></th>\n",
              "      <th></th>\n",
              "    </tr>\n",
              "  </thead>\n",
              "  <tbody>\n",
              "    <tr>\n",
              "      <th>0</th>\n",
              "      <td>1.0</td>\n",
              "      <td>0.0</td>\n",
              "      <td>0.0</td>\n",
              "      <td>0.0</td>\n",
              "      <td>0.0</td>\n",
              "      <td>0.0</td>\n",
              "      <td>0.0</td>\n",
              "      <td>1.0</td>\n",
              "      <td>1.0</td>\n",
              "      <td>0.0</td>\n",
              "      <td>...</td>\n",
              "      <td>Below Poverty</td>\n",
              "      <td>Not Married</td>\n",
              "      <td>Own</td>\n",
              "      <td>Not in Labor Force</td>\n",
              "      <td>oxchjgsf</td>\n",
              "      <td>Non-MSA</td>\n",
              "      <td>0.0</td>\n",
              "      <td>0.0</td>\n",
              "      <td>NaN</td>\n",
              "      <td>NaN</td>\n",
              "    </tr>\n",
              "    <tr>\n",
              "      <th>1</th>\n",
              "      <td>3.0</td>\n",
              "      <td>2.0</td>\n",
              "      <td>0.0</td>\n",
              "      <td>1.0</td>\n",
              "      <td>0.0</td>\n",
              "      <td>1.0</td>\n",
              "      <td>0.0</td>\n",
              "      <td>1.0</td>\n",
              "      <td>1.0</td>\n",
              "      <td>0.0</td>\n",
              "      <td>...</td>\n",
              "      <td>Below Poverty</td>\n",
              "      <td>Not Married</td>\n",
              "      <td>Rent</td>\n",
              "      <td>Employed</td>\n",
              "      <td>bhuqouqj</td>\n",
              "      <td>MSA, Not Principle  City</td>\n",
              "      <td>0.0</td>\n",
              "      <td>0.0</td>\n",
              "      <td>pxcmvdjn</td>\n",
              "      <td>xgwztkwe</td>\n",
              "    </tr>\n",
              "    <tr>\n",
              "      <th>2</th>\n",
              "      <td>1.0</td>\n",
              "      <td>1.0</td>\n",
              "      <td>0.0</td>\n",
              "      <td>1.0</td>\n",
              "      <td>0.0</td>\n",
              "      <td>0.0</td>\n",
              "      <td>0.0</td>\n",
              "      <td>0.0</td>\n",
              "      <td>0.0</td>\n",
              "      <td>NaN</td>\n",
              "      <td>...</td>\n",
              "      <td>&lt;= $75,000, Above Poverty</td>\n",
              "      <td>Not Married</td>\n",
              "      <td>Own</td>\n",
              "      <td>Employed</td>\n",
              "      <td>qufhixun</td>\n",
              "      <td>MSA, Not Principle  City</td>\n",
              "      <td>2.0</td>\n",
              "      <td>0.0</td>\n",
              "      <td>rucpziij</td>\n",
              "      <td>xtkaffoo</td>\n",
              "    </tr>\n",
              "    <tr>\n",
              "      <th>3</th>\n",
              "      <td>1.0</td>\n",
              "      <td>1.0</td>\n",
              "      <td>0.0</td>\n",
              "      <td>1.0</td>\n",
              "      <td>0.0</td>\n",
              "      <td>1.0</td>\n",
              "      <td>1.0</td>\n",
              "      <td>0.0</td>\n",
              "      <td>0.0</td>\n",
              "      <td>0.0</td>\n",
              "      <td>...</td>\n",
              "      <td>Below Poverty</td>\n",
              "      <td>Not Married</td>\n",
              "      <td>Rent</td>\n",
              "      <td>Not in Labor Force</td>\n",
              "      <td>lrircsnp</td>\n",
              "      <td>MSA, Principle City</td>\n",
              "      <td>0.0</td>\n",
              "      <td>0.0</td>\n",
              "      <td>NaN</td>\n",
              "      <td>NaN</td>\n",
              "    </tr>\n",
              "    <tr>\n",
              "      <th>4</th>\n",
              "      <td>2.0</td>\n",
              "      <td>1.0</td>\n",
              "      <td>0.0</td>\n",
              "      <td>1.0</td>\n",
              "      <td>0.0</td>\n",
              "      <td>1.0</td>\n",
              "      <td>1.0</td>\n",
              "      <td>0.0</td>\n",
              "      <td>1.0</td>\n",
              "      <td>0.0</td>\n",
              "      <td>...</td>\n",
              "      <td>&lt;= $75,000, Above Poverty</td>\n",
              "      <td>Married</td>\n",
              "      <td>Own</td>\n",
              "      <td>Employed</td>\n",
              "      <td>qufhixun</td>\n",
              "      <td>MSA, Not Principle  City</td>\n",
              "      <td>1.0</td>\n",
              "      <td>0.0</td>\n",
              "      <td>wxleyezf</td>\n",
              "      <td>emcorrxb</td>\n",
              "    </tr>\n",
              "  </tbody>\n",
              "</table>\n",
              "<p>5 rows × 35 columns</p>\n",
              "</div>"
            ],
            "text/plain": [
              "               h1n1_concern  h1n1_knowledge  behavioral_antiviral_meds  \\\n",
              "respondent_id                                                            \n",
              "0                       1.0             0.0                        0.0   \n",
              "1                       3.0             2.0                        0.0   \n",
              "2                       1.0             1.0                        0.0   \n",
              "3                       1.0             1.0                        0.0   \n",
              "4                       2.0             1.0                        0.0   \n",
              "\n",
              "               behavioral_avoidance  behavioral_face_mask  \\\n",
              "respondent_id                                               \n",
              "0                               0.0                   0.0   \n",
              "1                               1.0                   0.0   \n",
              "2                               1.0                   0.0   \n",
              "3                               1.0                   0.0   \n",
              "4                               1.0                   0.0   \n",
              "\n",
              "               behavioral_wash_hands  behavioral_large_gatherings  \\\n",
              "respondent_id                                                       \n",
              "0                                0.0                          0.0   \n",
              "1                                1.0                          0.0   \n",
              "2                                0.0                          0.0   \n",
              "3                                1.0                          1.0   \n",
              "4                                1.0                          1.0   \n",
              "\n",
              "               behavioral_outside_home  behavioral_touch_face  \\\n",
              "respondent_id                                                   \n",
              "0                                  1.0                    1.0   \n",
              "1                                  1.0                    1.0   \n",
              "2                                  0.0                    0.0   \n",
              "3                                  0.0                    0.0   \n",
              "4                                  0.0                    1.0   \n",
              "\n",
              "               doctor_recc_h1n1  ...             income_poverty  \\\n",
              "respondent_id                    ...                              \n",
              "0                           0.0  ...              Below Poverty   \n",
              "1                           0.0  ...              Below Poverty   \n",
              "2                           NaN  ...  <= $75,000, Above Poverty   \n",
              "3                           0.0  ...              Below Poverty   \n",
              "4                           0.0  ...  <= $75,000, Above Poverty   \n",
              "\n",
              "               marital_status  rent_or_own   employment_status  \\\n",
              "respondent_id                                                    \n",
              "0                 Not Married          Own  Not in Labor Force   \n",
              "1                 Not Married         Rent            Employed   \n",
              "2                 Not Married          Own            Employed   \n",
              "3                 Not Married         Rent  Not in Labor Force   \n",
              "4                     Married          Own            Employed   \n",
              "\n",
              "               hhs_geo_region                census_msa  household_adults  \\\n",
              "respondent_id                                                               \n",
              "0                    oxchjgsf                   Non-MSA               0.0   \n",
              "1                    bhuqouqj  MSA, Not Principle  City               0.0   \n",
              "2                    qufhixun  MSA, Not Principle  City               2.0   \n",
              "3                    lrircsnp       MSA, Principle City               0.0   \n",
              "4                    qufhixun  MSA, Not Principle  City               1.0   \n",
              "\n",
              "               household_children  employment_industry  employment_occupation  \n",
              "respondent_id                                                                  \n",
              "0                             0.0                  NaN                    NaN  \n",
              "1                             0.0             pxcmvdjn               xgwztkwe  \n",
              "2                             0.0             rucpziij               xtkaffoo  \n",
              "3                             0.0                  NaN                    NaN  \n",
              "4                             0.0             wxleyezf               emcorrxb  \n",
              "\n",
              "[5 rows x 35 columns]"
            ]
          },
          "execution_count": 24,
          "metadata": {},
          "output_type": "execute_result"
        }
      ],
      "source": [
        "df_train.head()"
      ]
    },
    {
      "cell_type": "code",
      "execution_count": 25,
      "metadata": {
        "id": "OoDGzX4_0A-Q"
      },
      "outputs": [],
      "source": [
        "features_for_mf_impute = float_features_for_mf_impute | string_features_for_mf_impute\n",
        "features_for_placeholder_impute = float_features_for_placeholder_impute | string_features_for_placeholder_impute\n",
        "\n",
        "features_for_mf_impute_for_DfMapper = [[feature] for feature in features_for_mf_impute]\n",
        "features_for_placeholder_impute_for_DfMapper = [[feature] for feature in features_for_placeholder_impute]\n",
        "\n",
        "# most_freq_imputer = SimpleImputer(strategy='most_frequent')\n",
        "# placeholder_imputer = SimpleImputer(strategy='constant', fill_value='NaN')\n",
        "\n",
        "# data_preparation_imputer = ColumnTransformer([\n",
        "#                                               ('mf', most_freq_imputer, features_for_mf_impute),\n",
        "#                                               ('nan', placeholder_imputer, features_for_placeholder_impute)\n",
        "# ])\n",
        "\n",
        "feature_def_for_mf_impute = gen_features(\n",
        "    columns = features_for_mf_impute_for_DfMapper,\n",
        "    classes = [{'class': SimpleImputer, 'strategy':'most_frequent'}]\n",
        ")\n",
        "feature_def_for_placeholder_impute = gen_features(\n",
        "    columns = features_for_placeholder_impute_for_DfMapper,\n",
        "    classes = [{'class': SimpleImputer, 'strategy':'constant', 'fill_value': 'NaN'}]\n",
        ")\n",
        "feature_def_for_impute = feature_def_for_mf_impute + feature_def_for_placeholder_impute\n",
        "\n",
        "data_preparation_imputer = DataFrameMapper(feature_def_for_impute, df_out=True)\n",
        "\n",
        "data_preparation_pipeline = Pipeline([('Impute', data_preparation_imputer)])"
      ]
    },
    {
      "cell_type": "code",
      "execution_count": 26,
      "metadata": {
        "id": "ohVZt7RD3jKi"
      },
      "outputs": [],
      "source": [
        "FEATURES_TO_PREPROCESS = float_features_to_preprocess | string_features_to_preprocess\n",
        "df_train_for_preprocess = df_train[FEATURES_TO_PREPROCESS]"
      ]
    },
    {
      "cell_type": "code",
      "execution_count": 27,
      "metadata": {
        "colab": {
          "base_uri": "https://localhost:8080/"
        },
        "id": "VvUga6tzYoAA",
        "outputId": "df5128f5-c913-45ca-9798-c226af0207d0"
      },
      "outputs": [
        {
          "name": "stdout",
          "output_type": "stream",
          "text": [
            "                         from   to\n",
            "id column                         \n",
            "0  employment_industry    NaN  NaN\n",
            "   employment_occupation  NaN  NaN\n"
          ]
        }
      ],
      "source": [
        "test_column_transformer(df_train_for_preprocess, data_preparation_imputer)"
      ]
    },
    {
      "cell_type": "markdown",
      "metadata": {
        "id": "Serl6SpcKk-L"
      },
      "source": [
        "### Encoding string columns"
      ]
    },
    {
      "cell_type": "code",
      "execution_count": 28,
      "metadata": {
        "id": "rzfDFbh7JunA"
      },
      "outputs": [],
      "source": [
        "df_train_for_preprocess = data_preparation_imputer.fit_transform(df_train_for_preprocess)"
      ]
    },
    {
      "cell_type": "markdown",
      "metadata": {
        "id": "gF-dZsO3Mwvn"
      },
      "source": [
        "##############################################  \n",
        "TBD: Handle bad NaNs with advanced imputers \n",
        "##############################################"
      ]
    },
    {
      "cell_type": "markdown",
      "metadata": {
        "id": "LarkJbnlSGNH"
      },
      "source": [
        "#### Handling categories with order"
      ]
    },
    {
      "cell_type": "code",
      "execution_count": 29,
      "metadata": {
        "id": "6MZgPO72SNBP"
      },
      "outputs": [],
      "source": [
        "ORDERED_CATEGORIES_MAPPING = [\n",
        "    {'col' : 'age_group', 'mapping' : {'18 - 34 Years' : 0,\n",
        "                                       '35 - 44 Years' : 1,\n",
        "                                       '45 - 54 Years' : 2,\n",
        "                                       '55 - 64 Years' : 3,\n",
        "                                       '65+ Years' : 4 }}, \n",
        "    {'col' : 'education', 'mapping' : {'NaN' : 0, ########################################\n",
        "                                       '< 12 Years' : 1,\n",
        "                                       '12 Years' : 2,\n",
        "                                       'Some College' : 3,\n",
        "                                       'College Graduate' : 4}}, \n",
        "    {'col' : 'income_poverty', 'mapping' : {'NaN': 0, ########################################\n",
        "                                            'Below Poverty' : 1,\n",
        "                                            '<= $75,000, Above Poverty' : 2,\n",
        "                                            '> $75,000' : 3}}\n",
        "]\n",
        "\n",
        "string_features_for_ordered_encode = {column_mapping['col'] for column_mapping in ORDERED_CATEGORIES_MAPPING}"
      ]
    },
    {
      "cell_type": "code",
      "execution_count": 30,
      "metadata": {
        "id": "CDcXgkBcZgfU"
      },
      "outputs": [],
      "source": [
        "#################################################################################\n",
        "# for some annoying reason, ordinal encoder expects a list of categories to convert at once\n",
        "# So i'll try to pass all the categories into a single transformer in the ctf \n",
        "# and will have to make sure they'll come out the same with regards to order and everything\n",
        "#################################################################################\n",
        "# age_group_oe = OrdinalEncoder(categories = [ORDERED_CATEGORIES['age_group'], ORDERED_CATEGORIES['education']])\n",
        "# age_group_oe.fit_transform(df_train_for_preprocess[['age_group', 'education']])"
      ]
    },
    {
      "cell_type": "markdown",
      "metadata": {
        "id": "abjcJ2gtSNpo"
      },
      "source": [
        "#### Checking which categories can be OneHot encoded"
      ]
    },
    {
      "cell_type": "code",
      "execution_count": 31,
      "metadata": {
        "colab": {
          "base_uri": "https://localhost:8080/"
        },
        "id": "YZBoy9pdMC_W",
        "outputId": "acd0008d-e37c-4d90-9251-5bf3e942d383"
      },
      "outputs": [
        {
          "name": "stdout",
          "output_type": "stream",
          "text": [
            "education's Cardinality is 4\n",
            "age_group's Cardinality is 5\n",
            "sex's Cardinality is 2\n",
            "rent_or_own's Cardinality is 2\n",
            "marital_status's Cardinality is 2\n",
            "hhs_geo_region's Cardinality is 10\n",
            "employment_industry's Cardinality is 21\n",
            "employment_occupation's Cardinality is 23\n",
            "employment_status's Cardinality is 3\n",
            "census_msa's Cardinality is 3\n",
            "income_poverty's Cardinality is 3\n",
            "race's Cardinality is 4\n"
          ]
        }
      ],
      "source": [
        "for feature in string_features_to_preprocess:\n",
        "  print(f'{feature}\\'s Cardinality is {df_train[feature].nunique()}')"
      ]
    },
    {
      "cell_type": "markdown",
      "metadata": {
        "id": "lD3CIV5OQxYE"
      },
      "source": [
        "##############################################  \n",
        "TBD: Handle bad NaNs with advanced imputers \n",
        "##############################################"
      ]
    },
    {
      "cell_type": "markdown",
      "metadata": {
        "id": "2TbdLu4coBGY"
      },
      "source": [
        "Looks like 5 is a decent limit of cardinality for choosing which features will be OH encoded"
      ]
    },
    {
      "cell_type": "code",
      "execution_count": 32,
      "metadata": {
        "id": "jTP4ZamWMfS0"
      },
      "outputs": [],
      "source": [
        "CARDINALITY_LIMIT = 5\n",
        "\n",
        "string_features_for_OH_encode = {\n",
        "    feature for feature in string_features_to_preprocess \n",
        "    if (df_train[feature].nunique() <= CARDINALITY_LIMIT)\n",
        "        and (feature not in string_features_for_ordered_encode)\n",
        "    }"
      ]
    },
    {
      "cell_type": "markdown",
      "metadata": {
        "id": "jbzrjuPSrPwY"
      },
      "source": [
        "#### All non ordered or non OHed will just be encoded using a plain ordinal encoder"
      ]
    },
    {
      "cell_type": "code",
      "execution_count": 33,
      "metadata": {
        "id": "eDt2-07_rZfj"
      },
      "outputs": [],
      "source": [
        "string_features_for_plain_encode = string_features_to_preprocess - \\\n",
        "                                  string_features_for_ordered_encode - \\\n",
        "                                  string_features_for_OH_encode"
      ]
    },
    {
      "cell_type": "markdown",
      "metadata": {
        "id": "xyIAYhRukc4B"
      },
      "source": [
        "#### Building Categorical encoding pipeline"
      ]
    },
    {
      "cell_type": "code",
      "execution_count": 34,
      "metadata": {
        "id": "3U35fEi_kpg2"
      },
      "outputs": [],
      "source": [
        "##############################################################\n",
        "# Either I use this columntransformer and lose column names\n",
        "##############################################################\n",
        "# category_encoder = ColumnTransformer([\n",
        "#                                     ('ordered', ordered_encoder, list(string_features_for_ordered_encode)),\n",
        "#                                     # ('one_hot', OneHotEncoder(sparse=False), list(string_features_for_OH_encode)),\n",
        "#                                     ('one_hot', ohe(use_cat_names=True), list(string_features_for_OH_encode)),\n",
        "#                                     ('plain_encode', OrdinalEncoder(), list(string_features_for_plain_encode))\n",
        "# ])\n",
        "\n",
        "# category_encoder.fit_transform(df_train_for_preprocess)\n",
        "# # Cannot be tested by my func since OH creates more columns than the original df\n",
        "# test_column_transformer(df_train_for_preprocess[string_features_for_ordered_encode | string_features_for_plain_encode], category_encoder)\n",
        "\n",
        "##############################################################\n",
        "# Or i use the sklearn_pandas.DataFrameMapper for imputing to preserve column names\n",
        "# So i could find the best columns later.\n",
        "\n",
        "# In any case, i'll assume the pipeline still gets DFs with column names at this stage\n",
        "##############################################################\n",
        "ordered_encoder = OrdinalEncoder(cols = string_features_for_ordered_encode, mapping = ORDERED_CATEGORIES_MAPPING)\n",
        "oh_encoder = OneHotEncoder(cols = string_features_for_OH_encode, use_cat_names=True)\n",
        "plain_encoder = OrdinalEncoder(cols = string_features_for_plain_encode)\n",
        "\n",
        "data_preparation_pipeline.steps.append(('ordered_enc', ordered_encoder))\n",
        "data_preparation_pipeline.steps.append(('OH_enc', oh_encoder))\n",
        "data_preparation_pipeline.steps.append(('plain_enc', plain_encoder))"
      ]
    },
    {
      "cell_type": "markdown",
      "metadata": {
        "id": "IQIWmeGpbg7m"
      },
      "source": [
        "# H1N1 shots\n",
        "I want to handle each problem orthonogically. After I'll feel I know enough about H1N1 predictions, I'll start working on improving flu shot scores as well."
      ]
    },
    {
      "cell_type": "markdown",
      "metadata": {
        "id": "bCyzglwpgdvQ"
      },
      "source": [
        "## Testing Models"
      ]
    },
    {
      "cell_type": "code",
      "execution_count": 35,
      "metadata": {
        "id": "SG3YUgtNgYHY"
      },
      "outputs": [],
      "source": [
        "MODELS_FOLDER = './models'\n",
        "\n",
        "def save_model_pipeline_and_info(model_pipe_and_info, file_name):\n",
        "  full_path = os.path.join(MODELS_FOLDER, file_name)\n",
        "  with open(full_path, 'wb') as model_pipeline_and_info_file:\n",
        "    pickle.dump(model_pipe_and_info, model_pipeline_and_info_file)\n",
        "            \n",
        "def get_model_pipeline_and_info(file_name):\n",
        "  full_path = os.path.join(MODELS_FOLDER, file_name)\n",
        "  if os.path.exists(full_path):\n",
        "    with open(full_path, 'rb') as model_pipeline_and_info_file:\n",
        "      model_pipe_and_info = pickle.load(model_pipeline_and_info_file)\n",
        "  else:\n",
        "      return None\n",
        "  return model_pipe_and_info"
      ]
    },
    {
      "cell_type": "code",
      "execution_count": 36,
      "metadata": {
        "colab": {
          "base_uri": "https://localhost:8080/"
        },
        "id": "z-CDDiDfH0sh",
        "outputId": "b571f3d3-8323-4322-de0c-29ec79bdd2c5"
      },
      "outputs": [],
      "source": [
        "global best_model_so_far\n",
        "\n",
        "old_best_model_so_far = get_model_pipeline_and_info(file_name='best_model_so_far.pickle')\n",
        "if old_best_model_so_far is not None:  \n",
        "  best_model_so_far = dict(old_best_model_so_far) \n",
        "  dict_of_fame = {\n",
        "    old_best_model_so_far['name'] : old_best_model_so_far['scores']\n",
        "    }\n",
        "else:\n",
        "  dict_of_fame = {}\n",
        "  best_model_so_far = None"
      ]
    },
    {
      "cell_type": "code",
      "execution_count": 37,
      "metadata": {},
      "outputs": [],
      "source": [
        "# EVAL_METRIC = 'auc'\n",
        "# EARLY_STOP_EVAL_SET = df_val_for_clf\n",
        "SCORE_IMPROVEMENT_MARGIN = 0.01\n",
        "\n",
        "def is_model_fame_worthy(scores):\n",
        "  global best_model_so_far\n",
        "  if best_model_so_far:\n",
        "    return scores.mean() >= (best_model_so_far['scores']['validation'].mean() + SCORE_IMPROVEMENT_MARGIN)\n",
        "  else:\n",
        "    return True"
      ]
    },
    {
      "cell_type": "code",
      "execution_count": 38,
      "metadata": {
        "id": "zVeroG7sQ9Sw"
      },
      "outputs": [],
      "source": [
        "def report_fit_time(fit_start, fit_end):\n",
        "  # Calculate the current model's performance and time\n",
        "  # fit time is in seconds\n",
        "  fit_time = fit_end - fit_start\n",
        "  fit_time_hours = int(fit_time / 60 / 60)\n",
        "  fit_time_minutes = int(fit_time / 60 )\n",
        "  fit_time_seconds = int(fit_time % 60)\n",
        "\n",
        "  print(\"Cross Validation time: {} hours, {} minutes, {} seconds\".format(fit_time_hours, fit_time_minutes, fit_time_seconds))\n",
        "  return fit_time"
      ]
    },
    {
      "cell_type": "markdown",
      "metadata": {
        "id": "adovzumzYJpM"
      },
      "source": [
        "#### Classifiers"
      ]
    },
    {
      "cell_type": "code",
      "execution_count": 39,
      "metadata": {
        "id": "tY7AXZWOhhkB"
      },
      "outputs": [],
      "source": [
        "model_pipes_to_evaluate = dict()"
      ]
    },
    {
      "cell_type": "markdown",
      "metadata": {
        "id": "dDlH7wD_N3kd"
      },
      "source": [
        "##### Logistic Regressor"
      ]
    },
    {
      "cell_type": "code",
      "execution_count": 40,
      "metadata": {
        "id": "XHJUme2hN3kf"
      },
      "outputs": [],
      "source": [
        "model = LogisticRegression(C=1, n_jobs=-1, verbose=False)\n",
        "model_name = 'Simple Logit Regressor'\n",
        "fit_params = dict()\n",
        "\n",
        "pipeline = Pipeline([('preprocess', data_preparation_pipeline), \n",
        "                     (model_name, model)])\n",
        "model_pipes_to_evaluate[model_name] = (pipeline, dict(fit_params))"
      ]
    },
    {
      "cell_type": "markdown",
      "metadata": {
        "id": "Bdo_mFydRP9i"
      },
      "source": [
        "##### SVM"
      ]
    },
    {
      "cell_type": "code",
      "execution_count": 41,
      "metadata": {
        "id": "y1uGPr49RP9j"
      },
      "outputs": [],
      "source": [
        "model = SVC(verbose=False)\n",
        "model_name = 'Simple SVM classifier'\n",
        "fit_params = dict()\n",
        "\n",
        "pipeline = Pipeline([('preprocess', data_preparation_pipeline), \n",
        "                     (model_name, model)])\n",
        "model_pipes_to_evaluate[model_name] = (pipeline, dict(fit_params))"
      ]
    },
    {
      "cell_type": "markdown",
      "metadata": {
        "id": "zxWWzL1GRu7j"
      },
      "source": [
        "##### Random Forest"
      ]
    },
    {
      "cell_type": "code",
      "execution_count": 42,
      "metadata": {
        "id": "suK_wGK8Ru7k"
      },
      "outputs": [],
      "source": [
        "model = RandomForestClassifier(n_jobs=-1, verbose=False)\n",
        "model_name = 'Simple Random Forest'\n",
        "fit_params = dict()\n",
        "\n",
        "pipeline = Pipeline([('preprocess', data_preparation_pipeline), \n",
        "                     (model_name, model)])\n",
        "model_pipes_to_evaluate[model_name] = (pipeline, dict(fit_params))"
      ]
    },
    {
      "cell_type": "markdown",
      "metadata": {
        "id": "_yVi6Ay-PEXN"
      },
      "source": [
        "##### XGBoost"
      ]
    },
    {
      "cell_type": "code",
      "execution_count": 43,
      "metadata": {
        "id": "9oAr_hy5PJnk"
      },
      "outputs": [],
      "source": [
        "model_name = 'Guessed HyperParams XGBClassifier'\n",
        "model = XGBClassifier(objective = 'binary:logistic',\n",
        "                     n_estimators = 1000,\n",
        "                     learning_rate = 0.01,\n",
        "                     n_jobs = -1) # ,\n",
        "                    #  tree_method = 'gpu_hist')\n",
        "fit_params = {\n",
        "    # model_name + '__early_stopping_rounds' : 30,\n",
        "    # model_name + '__eval_set' : EARLY_STOP_EVAL_SET, \n",
        "    # model_name + '__eval_metric' : EVAL_METRIC,\n",
        "    model_name + '__verbose' : False\n",
        "}\n",
        "\n",
        "pipeline = Pipeline([('preprocess', data_preparation_pipeline), \n",
        "                     (model_name, model)])\n",
        "model_pipes_to_evaluate[model_name] = (pipeline, dict(fit_params))"
      ]
    },
    {
      "cell_type": "markdown",
      "metadata": {
        "id": "T02M8vXUg35r"
      },
      "source": [
        "##### LightGBM"
      ]
    },
    {
      "cell_type": "code",
      "execution_count": 44,
      "metadata": {
        "id": "2hh_7GlEg35w"
      },
      "outputs": [],
      "source": [
        "model_name = 'Guessed HyperParams LightGBM'\n",
        "model = LGBMClassifier(n_estimators=1000, n_jobs = -1, objective = 'binary')\n",
        "fit_params = {\n",
        "    # model_name + '__early_stopping_rounds' : 30,\n",
        "    # model_name + '__eval_set' : EARLY_STOP_EVAL_SET, \n",
        "    # model_name + '__eval_metric' : EVAL_METRIC,\n",
        "    model_name + '__verbose' : False\n",
        "}\n",
        "\n",
        "pipeline = Pipeline([('preprocess', data_preparation_pipeline), \n",
        "                     (model_name, model)])\n",
        "model_pipes_to_evaluate[model_name] = (pipeline, dict(fit_params))"
      ]
    },
    {
      "cell_type": "markdown",
      "metadata": {
        "id": "u2Lu3OeYaDUy"
      },
      "source": [
        "#### And for the results:"
      ]
    },
    {
      "cell_type": "code",
      "execution_count": 71,
      "metadata": {
        "id": "R4LfJNgVjMcL"
      },
      "outputs": [],
      "source": [
        "overall_train_cv_scoreboard = pd.DataFrame()\n",
        "overall_val_cv_scoreboard = pd.DataFrame()"
      ]
    },
    {
      "cell_type": "code",
      "execution_count": null,
      "metadata": {
        "id": "nbipGSbiaUZ-"
      },
      "outputs": [],
      "source": [
        "float_features_to_classify_by = float_features_to_preprocess\n",
        "string_features_to_classify_by = string_features_to_preprocess\n",
        "\n",
        "FEATURES_TO_CLASSIFY_BY = float_features_to_classify_by | string_features_to_classify_by\n",
        "df_train_for_clf = df_train[FEATURES_TO_CLASSIFY_BY]\n",
        "labels_train_for_clf = labels_train['h1n1_vaccine']\n",
        "\n",
        "# I planned to use a simple train val split, but ended up deciding i can even use cross validation here\n",
        "# df_val_for_clf = df_val[FEATURES_TO_CLASSIFY_BY]\n",
        "# labels_val_for_clf = labels_val['h1n1_vaccine']"
      ]
    },
    {
      "cell_type": "code",
      "execution_count": null,
      "metadata": {
        "colab": {
          "base_uri": "https://localhost:8080/"
        },
        "id": "2P7qyGp6qQ4C",
        "outputId": "5ac5fa6a-9010-4d12-9046-b6ffa0067a4c"
      },
      "outputs": [
        {
          "name": "stderr",
          "output_type": "stream",
          "text": [
            "  0%|          | 0/5 [00:00<?, ?it/s]"
          ]
        },
        {
          "name": "stdout",
          "output_type": "stream",
          "text": [
            "\n",
            "###########################################################################\n",
            "# Model type: Simple Logit Regressor\n",
            "###########################################################################\n"
          ]
        },
        {
          "name": "stderr",
          "output_type": "stream",
          "text": [
            " 20%|██        | 1/5 [00:03<00:12,  3.13s/it]"
          ]
        },
        {
          "name": "stdout",
          "output_type": "stream",
          "text": [
            "\n",
            "Cross Validation time: 0 hours, 0 minutes, 3 seconds\n",
            "\n",
            "###########################################################################\n",
            "# Model type: Simple SVM classifier\n",
            "###########################################################################\n"
          ]
        },
        {
          "name": "stderr",
          "output_type": "stream",
          "text": [
            " 40%|████      | 2/5 [01:19<02:18, 46.01s/it]"
          ]
        },
        {
          "name": "stdout",
          "output_type": "stream",
          "text": [
            "\n",
            "Cross Validation time: 0 hours, 1 minutes, 16 seconds\n",
            "\n",
            "###########################################################################\n",
            "# Model type: Simple Random Forest\n",
            "###########################################################################\n"
          ]
        },
        {
          "name": "stderr",
          "output_type": "stream",
          "text": [
            " 60%|██████    | 3/5 [01:25<00:55, 27.86s/it]"
          ]
        },
        {
          "name": "stdout",
          "output_type": "stream",
          "text": [
            "\n",
            "Cross Validation time: 0 hours, 0 minutes, 6 seconds\n",
            "\n",
            "###########################################################################\n",
            "# Model type: Guessed HyperParams XGBClassifier\n",
            "###########################################################################\n",
            "\n",
            "Cross Validation time: 0 hours, 1 minutes, 5 seconds\n"
          ]
        },
        {
          "name": "stderr",
          "output_type": "stream",
          "text": [
            " 80%|████████  | 4/5 [02:49<00:49, 49.92s/it]"
          ]
        },
        {
          "name": "stdout",
          "output_type": "stream",
          "text": [
            "\n",
            "###########################################################################\n",
            "# Model type: Guessed HyperParams LightGBM\n",
            "###########################################################################\n"
          ]
        },
        {
          "name": "stderr",
          "output_type": "stream",
          "text": [
            "100%|██████████| 5/5 [02:51<00:00, 34.20s/it]"
          ]
        },
        {
          "name": "stdout",
          "output_type": "stream",
          "text": [
            "\n",
            "Cross Validation time: 0 hours, 0 minutes, 1 seconds\n",
            "\n",
            "@@@@@@@@@@@@@@@@@@@@@@@@@@@@@@@@@@@@@@@@@@@@@@@@@@@@@@@@@@@@@@@@@@@@@@@\n",
            "@ Best models roundup\n",
            "@@@@@@@@@@@@@@@@@@@@@@@@@@@@@@@@@@@@@@@@@@@@@@@@@@@@@@@@@@@@@@@@@@@@@@@\n",
            "Name: Guessed HyperParams XGBClassifier\n",
            " Scores: {'train': 0    0.907312\n",
            "1    0.906180\n",
            "2    0.908829\n",
            "3    0.908840\n",
            "4    0.907546\n",
            "Name: Guessed HyperParams XGBClassifier, dtype: float64, 'validation': 0    0.837570\n",
            "1    0.844591\n",
            "2    0.835393\n",
            "3    0.842392\n",
            "4    0.843633\n",
            "Name: Guessed HyperParams XGBClassifier, dtype: float64}\n"
          ]
        },
        {
          "name": "stderr",
          "output_type": "stream",
          "text": [
            "\n"
          ]
        }
      ],
      "source": [
        "CROSS_VALIDATOR = StratifiedShuffleSplit(n_splits=5, test_size=0.2, random_state=0)\n",
        "\n",
        "def evaluate_model_pipelines(model_pipelines):\n",
        "  train_cv_scoreboard = pd.DataFrame()\n",
        "  val_cv_scoreboard = pd.DataFrame()\n",
        "\n",
        "  for name, (model_pipeline, fit_params) in tqdm(model_pipelines.items()):\n",
        "    print('\\n###########################################################################')\n",
        "    print('# Model type: {}'.format(name))\n",
        "    print('###########################################################################')\n",
        "    \n",
        "    # Train the model\n",
        "    fit_start = perf_counter()\n",
        "    cv_scores = cross_validate(model_pipeline, df_train_for_clf, labels_train_for_clf,\n",
        "                            fit_params = fit_params,\n",
        "                            cv=CROSS_VALIDATOR,\n",
        "                            n_jobs = -1,\n",
        "                            scoring='roc_auc',\n",
        "                            return_train_score=True)\n",
        "    fit_end = perf_counter()\n",
        "\n",
        "    print()\n",
        "    fit_time = report_fit_time(fit_start, fit_end)\n",
        "    \n",
        "    # plot_model_performance(model_history)\n",
        "    # train_predictions = model_pipeline.predict(df_train_for_clf)\n",
        "    # val_predictions = model_pipeline.predict(df_val_for_clf)\n",
        "    # test_predictions = model_pipeline.predict(df_test_for_clf)\n",
        "\n",
        "    train_cv_scoreboard[name] = cv_scores['train_score']\n",
        "    val_cv_scoreboard[name] = cv_scores['test_score']\n",
        "        \n",
        "    # scores = {\n",
        "    #     'Training' : cv_scores['train_score'].mean(),\n",
        "    #     'Validation' : cv_scores['test_score'].mean()\n",
        "    #     # 'Test' : accuracy_score(labels_test_for_clf, test_predictions)\n",
        "    #     }\n",
        "\n",
        "    # for dataset_name, score in scores.items():\n",
        "      # print (\"%s auc: %0.5f \" % (dataset_name, score))  \n",
        "    # print(f'''Training:\n",
        "    # Mean Score: {cv_scores['train_score'].mean()}\n",
        "    # Score Standad Deviation: {cv_scores['train_score'].std()}''')\n",
        "\n",
        "    # print(f'''Validation:\n",
        "    # Mean Score: {cv_scores['test_score'].mean()}\n",
        "    # Score Standad Deviation: {cv_scores['test_score'].std()}''')\n",
        "\n",
        "    if is_model_fame_worthy(val_cv_scoreboard[name]):\n",
        "      model_pipeline.fit(df_train_for_clf, labels_train_for_clf, **fit_params)\n",
        "\n",
        "      global best_model_so_far\n",
        "      best_model_so_far = {\n",
        "          'name' : name, # Name of the model\n",
        "          'pipeline_and_params' : (model_pipeline, fit_params), # A tuple containing a sklearn.Pipeline object and a parameters dict\n",
        "          'scores' : {\n",
        "              'train' : train_cv_scoreboard[name],\n",
        "              'validation' : val_cv_scoreboard[name]\n",
        "          }, # The cv scores of the model\n",
        "          'time' : fit_time # Training time in seconds\n",
        "          }\n",
        "      dict_of_fame[name] = best_model_so_far['scores']\n",
        "\n",
        "  print()\n",
        "  print('@@@@@@@@@@@@@@@@@@@@@@@@@@@@@@@@@@@@@@@@@@@@@@@@@@@@@@@@@@@@@@@@@@@@@@@')\n",
        "  print('@ Best models roundup')\n",
        "  print('@@@@@@@@@@@@@@@@@@@@@@@@@@@@@@@@@@@@@@@@@@@@@@@@@@@@@@@@@@@@@@@@@@@@@@@')\n",
        "  for name, score in dict_of_fame.items():\n",
        "    print(f'Name: {name}\\n Scores: {score}')\n",
        "\n",
        "  train_cv_scoreboard['Best So Far'] = best_model_so_far['scores']['train']\n",
        "  val_cv_scoreboard['Best So Far'] = best_model_so_far['scores']['validation']\n",
        "  \n",
        "  return train_cv_scoreboard, val_cv_scoreboard\n",
        "\n",
        "train_cv_scoreboard, val_cv_scoreboard = evaluate_model_pipelines(model_pipes_to_evaluate)"
      ]
    },
    {
      "cell_type": "code",
      "execution_count": null,
      "metadata": {
        "id": "xkshyMehfWC_"
      },
      "outputs": [],
      "source": [
        "overall_train_cv_scoreboard = pd.concat([overall_train_cv_scoreboard, train_cv_scoreboard])\n",
        "overall_val_cv_scoreboard = pd.concat([overall_val_cv_scoreboard, val_cv_scoreboard])"
      ]
    },
    {
      "cell_type": "code",
      "execution_count": null,
      "metadata": {
        "id": "gjic3jti4U5-"
      },
      "outputs": [],
      "source": [
        "# best_model_so_far = {\n",
        "#           'name' : 'Guessed HyperParams XGBClassifier', # Name of the model\n",
        "#           'pipeline_and_params' : best_model_so_far['pipeline_and_params'], # A tuple containing a sklearn.Pipeline object and a parameters dict\n",
        "#           'scores' : {\n",
        "#               'train' : train_cv_scoreboard['Guessed HyperParams XGBClassifier'],\n",
        "#               'validation' : val_cv_scoreboard['Guessed HyperParams XGBClassifier']\n",
        "#           }, # The cv scores of the model\n",
        "#           'time' : best_model_so_far['time'] # Training time in seconds\n",
        "#           }"
      ]
    },
    {
      "cell_type": "code",
      "execution_count": null,
      "metadata": {
        "colab": {
          "base_uri": "https://localhost:8080/",
          "height": 407
        },
        "id": "ro9i5g2Hjrn_",
        "outputId": "0d5d2d8d-2a70-49f9-b539-642faf82290b"
      },
      "outputs": [
        {
          "data": {
            "text/plain": [
              "<AxesSubplot:title={'center':'validation scores'}>"
            ]
          },
          "execution_count": 65,
          "metadata": {},
          "output_type": "execute_result"
        },
        {
          "data": {
            "image/png": "[encoded data removed]",
            "text/plain": [
              "<Figure size 576x432 with 1 Axes>"
            ]
          },
          "metadata": {
            "needs_background": "light"
          },
          "output_type": "display_data"
        }
      ],
      "source": [
        "overall_val_cv_scoreboard.plot(kind='box', title='validation scores', figsize = (8,6), vert=False)"
      ]
    },
    {
      "cell_type": "code",
      "execution_count": null,
      "metadata": {
        "id": "1JenMkpnrw37"
      },
      "outputs": [],
      "source": [
        "# save_model_pipeline_and_info(best_model_so_far, file_name='best_model_so_far.pickle')\n",
        "# best_model_so_far"
      ]
    },
    {
      "cell_type": "markdown",
      "metadata": {
        "id": "-Dju3vEsVRHU"
      },
      "source": [
        "### Now running only on selected features"
      ]
    },
    {
      "cell_type": "markdown",
      "metadata": {
        "id": "IUYq_JJzNof5"
      },
      "source": [
        "#### Selecting Best Features"
      ]
    },
    {
      "cell_type": "markdown",
      "metadata": {
        "id": "bz1ErnrOC_pj"
      },
      "source": [
        "Running all the data preprocess pipeline so far at once as a quick integration test for the preprocessing so far"
      ]
    },
    {
      "cell_type": "code",
      "execution_count": null,
      "metadata": {
        "id": "7XEln53t_MVT"
      },
      "outputs": [],
      "source": [
        "df_train_for_preprocess = data_preparation_pipeline.fit_transform(df_train[FEATURES_TO_PREPROCESS])"
      ]
    },
    {
      "cell_type": "code",
      "execution_count": null,
      "metadata": {
        "colab": {
          "base_uri": "https://localhost:8080/",
          "height": 1000
        },
        "id": "BIsj9_mIzfdU",
        "outputId": "06a841e3-579d-444b-dc67-664ddaf54953"
      },
      "outputs": [
        {
          "name": "stdout",
          "output_type": "stream",
          "text": [
            "Feature rent_or_own_Own: 5.689314\n",
            "Feature rent_or_own_Rent: 19.938027\n",
            "Feature household_children: 0.284434\n",
            "Feature behavioral_wash_hands: 25.856864\n",
            "Feature household_adults: 0.907646\n",
            "Feature behavioral_antiviral_meds: 41.109698\n",
            "Feature chronic_med_condition: 172.886102\n",
            "Feature doctor_recc_seasonal: 892.499456\n",
            "Feature h1n1_knowledge: 111.808117\n",
            "Feature doctor_recc_h1n1: 3307.810188\n",
            "Feature race_White: 5.232609\n",
            "Feature race_Black: 51.410561\n",
            "Feature race_Other or Multiple: 0.157839\n",
            "Feature race_Hispanic: 0.210187\n",
            "Feature opinion_seas_risk: 1222.319922\n",
            "Feature h1n1_concern: 201.358892\n",
            "Feature behavioral_touch_face: 43.065378\n",
            "Feature behavioral_large_gatherings: 5.614840\n",
            "Feature health_worker: 672.405011\n",
            "Feature health_insurance: 3.046439\n",
            "Feature behavioral_outside_home: 8.641545\n",
            "Feature child_under_6_months: 109.342915\n",
            "Feature opinion_seas_vacc_effective: 243.320341\n",
            "Feature behavioral_avoidance: 15.950408\n",
            "Feature opinion_h1n1_vacc_effective: 495.639893\n",
            "Feature opinion_h1n1_sick_from_vacc: 115.654361\n",
            "Feature behavioral_face_mask: 123.284462\n",
            "Feature opinion_h1n1_risk: 1914.151226\n",
            "Feature opinion_seas_sick_from_vacc: 2.015818\n",
            "Feature employment_industry: 47.546380\n",
            "Feature income_poverty: 35.872444\n",
            "Feature employment_occupation: 290.868596\n",
            "Feature age_group: 43.769495\n",
            "Feature census_msa_Non-MSA: 0.008724\n",
            "Feature census_msa_MSA, Not Principle  City: 0.025314\n",
            "Feature census_msa_MSA, Principle City: 0.080072\n",
            "Feature marital_status_Not Married: 30.561431\n",
            "Feature marital_status_Married: 36.620116\n",
            "Feature marital_status_NaN: 7.897902\n",
            "Feature sex_Female: 4.636082\n",
            "Feature sex_Male: 6.776568\n",
            "Feature hhs_geo_region: 54.515844\n",
            "Feature employment_status_Not in Labor Force: 2.812499\n",
            "Feature employment_status_Employed: 0.782255\n",
            "Feature employment_status_Unemployed: 21.143354\n",
            "Feature employment_status_NaN: 6.477561\n",
            "Feature education: 54.064047\n"
          ]
        },
        {
          "data": {
            "image/png": "[encoded data removed]",
            "text/plain": [
              "<Figure size 864x720 with 1 Axes>"
            ]
          },
          "metadata": {},
          "output_type": "display_data"
        }
      ],
      "source": [
        "fs = SelectKBest(score_func=chi2, k='all')\n",
        "fs.fit(df_train_for_preprocess, labels_train['h1n1_vaccine'])\n",
        "\n",
        "columns = df_train_for_preprocess.columns\n",
        "for i in range(len(fs.scores_)):\n",
        "\tprint('Feature %s: %f' % (columns[i], fs.scores_[i]))\n",
        "\n",
        "# plot the scores\n",
        "plt.figure(figsize=(12,10))\n",
        "plt.barh(y=[columns[i] for i in range(len(fs.scores_))], width=fs.scores_)\n",
        "plt.show()"
      ]
    },
    {
      "cell_type": "code",
      "execution_count": null,
      "metadata": {
        "colab": {
          "base_uri": "https://localhost:8080/"
        },
        "id": "kwtPytzHHYVU",
        "outputId": "4daaee98-dfab-4f2a-ff36-c63ed3c9d826"
      },
      "outputs": [
        {
          "data": {
            "text/plain": [
              "Index(['doctor_recc_seasonal', 'doctor_recc_h1n1', 'opinion_seas_risk',\n",
              "       'opinion_h1n1_risk'],\n",
              "      dtype='object')"
            ]
          },
          "metadata": {},
          "output_type": "display_data"
        }
      ],
      "source": [
        "# Only here to show the graph above is correct with column assigments\n",
        "fs_top_features = SelectKBest(score_func=chi2, k=4)\n",
        "\n",
        "fs_top_features.fit(df_train_for_preprocess, labels_train['h1n1_vaccine'])\n",
        "cols_to_keep = fs_top_features.get_support(indices=True)\n",
        "features_df_new = df_train_for_preprocess.iloc[:,cols_to_keep]\n",
        "features_df_new.columns"
      ]
    },
    {
      "cell_type": "code",
      "execution_count": null,
      "metadata": {
        "colab": {
          "base_uri": "https://localhost:8080/",
          "height": 1000
        },
        "id": "u2c1uqI4I-HF",
        "outputId": "30cda547-dc2a-4197-8273-490ceec30ebc"
      },
      "outputs": [
        {
          "name": "stdout",
          "output_type": "stream",
          "text": [
            "Feature rent_or_own_Own: 0.001069\n",
            "Feature rent_or_own_Rent: 0.000000\n",
            "Feature household_children: 0.001500\n",
            "Feature behavioral_wash_hands: 0.005982\n",
            "Feature household_adults: 0.001859\n",
            "Feature behavioral_antiviral_meds: 0.001723\n",
            "Feature chronic_med_condition: 0.004049\n",
            "Feature doctor_recc_seasonal: 0.022760\n",
            "Feature h1n1_knowledge: 0.011285\n",
            "Feature doctor_recc_h1n1: 0.066356\n",
            "Feature race_White: 0.009220\n",
            "Feature race_Black: 0.000944\n",
            "Feature race_Other or Multiple: 0.000000\n",
            "Feature race_Hispanic: 0.000754\n",
            "Feature opinion_seas_risk: 0.033846\n",
            "Feature h1n1_concern: 0.008725\n",
            "Feature behavioral_touch_face: 0.008897\n",
            "Feature behavioral_large_gatherings: 0.003600\n",
            "Feature health_worker: 0.013912\n",
            "Feature health_insurance: 0.003946\n",
            "Feature behavioral_outside_home: 0.000000\n",
            "Feature child_under_6_months: 0.002056\n",
            "Feature opinion_seas_vacc_effective: 0.020811\n",
            "Feature behavioral_avoidance: 0.002399\n",
            "Feature opinion_h1n1_vacc_effective: 0.047117\n",
            "Feature opinion_h1n1_sick_from_vacc: 0.009125\n",
            "Feature behavioral_face_mask: 0.002202\n",
            "Feature opinion_h1n1_risk: 0.054388\n",
            "Feature opinion_seas_sick_from_vacc: 0.001880\n",
            "Feature employment_industry: 0.012911\n",
            "Feature income_poverty: 0.004998\n",
            "Feature employment_occupation: 0.015375\n",
            "Feature age_group: 0.002291\n",
            "Feature census_msa_Non-MSA: 0.000062\n",
            "Feature census_msa_MSA, Not Principle  City: 0.000917\n",
            "Feature census_msa_MSA, Principle City: 0.002965\n",
            "Feature marital_status_Not Married: 0.000000\n",
            "Feature marital_status_Married: 0.002438\n",
            "Feature marital_status_NaN: 0.000000\n",
            "Feature sex_Female: 0.000528\n",
            "Feature sex_Male: 0.001241\n",
            "Feature hhs_geo_region: 0.003087\n",
            "Feature employment_status_Not in Labor Force: 0.001681\n",
            "Feature employment_status_Employed: 0.000168\n",
            "Feature employment_status_Unemployed: 0.000855\n",
            "Feature employment_status_NaN: 0.000000\n",
            "Feature education: 0.007169\n"
          ]
        },
        {
          "data": {
            "image/png": "[encoded data removed]",
            "text/plain": [
              "<Figure size 864x720 with 1 Axes>"
            ]
          },
          "metadata": {},
          "output_type": "display_data"
        }
      ],
      "source": [
        "fs = SelectKBest(score_func=mutual_info_classif, k='all')\n",
        "\n",
        "# df_train_processed = data_preparation_pipeline.fit_transform(df_train_for_preprocess)\n",
        "fs.fit(df_train_for_preprocess, labels_train['h1n1_vaccine'])\n",
        "\n",
        "for i in range(len(fs.scores_)):\n",
        "\tprint('Feature %s: %f' % (columns[i], fs.scores_[i]))\n",
        "\n",
        "# plot the scores\n",
        "plt.figure(figsize=(12,10))\n",
        "plt.barh(y=[columns[i] for i in range(len(fs.scores_))], width=fs.scores_)\n",
        "plt.show()"
      ]
    },
    {
      "cell_type": "markdown",
      "metadata": {
        "id": "jWmK64lHVozH"
      },
      "source": [
        "#### Classifiers"
      ]
    },
    {
      "cell_type": "code",
      "execution_count": 66,
      "metadata": {
        "id": "WyEIy-6EVozX"
      },
      "outputs": [],
      "source": [
        "fs_model_pipes_to_evaluate = dict()"
      ]
    },
    {
      "cell_type": "markdown",
      "metadata": {
        "id": "HIP_woueVozY"
      },
      "source": [
        "##### Logistic Regressor"
      ]
    },
    {
      "cell_type": "code",
      "execution_count": 67,
      "metadata": {
        "id": "YXyoF9KbVozY"
      },
      "outputs": [],
      "source": [
        "model = LogisticRegression(C=1, n_jobs=-1, verbose=False)\n",
        "model_name = 'Simple Logit Regressor on selected Features'\n",
        "fit_params = dict()\n",
        "\n",
        "pipeline = Pipeline([('preprocess', data_preparation_pipeline), \n",
        "                     (model_name, model)])\n",
        "fs_model_pipes_to_evaluate[model_name] = (pipeline, dict(fit_params))"
      ]
    },
    {
      "cell_type": "markdown",
      "metadata": {
        "id": "qcUvi0dYVozZ"
      },
      "source": [
        "##### SVM"
      ]
    },
    {
      "cell_type": "code",
      "execution_count": 68,
      "metadata": {
        "id": "oxGiP2niVozZ"
      },
      "outputs": [],
      "source": [
        "model = SVC(verbose=False, max_iter=50000)\n",
        "model_name = 'Simple SVM classifier on selected Features'\n",
        "fit_params = dict()\n",
        "\n",
        "pipeline = Pipeline([('preprocess', data_preparation_pipeline), \n",
        "                     (model_name, model)])\n",
        "fs_model_pipes_to_evaluate[model_name] = (pipeline, dict(fit_params))"
      ]
    },
    {
      "cell_type": "markdown",
      "metadata": {
        "id": "jesUcBL0VozZ"
      },
      "source": [
        "##### Random Forest"
      ]
    },
    {
      "cell_type": "code",
      "execution_count": 69,
      "metadata": {
        "id": "wj2Hk3xCVozZ"
      },
      "outputs": [],
      "source": [
        "model = RandomForestClassifier(n_jobs=-1, verbose=False)\n",
        "model_name = 'Simple Random Forest on selected Features'\n",
        "fit_params = dict()\n",
        "\n",
        "pipeline = Pipeline([('preprocess', data_preparation_pipeline), \n",
        "                     (model_name, model)])\n",
        "fs_model_pipes_to_evaluate[model_name] = (pipeline, dict(fit_params))"
      ]
    },
    {
      "cell_type": "markdown",
      "metadata": {
        "id": "SxPWy6KzVoza"
      },
      "source": [
        "##### XGBoost"
      ]
    },
    {
      "cell_type": "code",
      "execution_count": 70,
      "metadata": {
        "id": "YYCZgXR9Voza"
      },
      "outputs": [],
      "source": [
        "model_name = 'Guessed HyperParams XGBClassifier on selected Features'\n",
        "model = XGBClassifier(objective = 'binary:logistic',\n",
        "                     n_estimators = 1000,\n",
        "                     learning_rate = 0.01,\n",
        "                     n_jobs = -1) # ,\n",
        "                    #  tree_method = 'gpu_hist')\n",
        "fit_params = {\n",
        "    # model_name + '__early_stopping_rounds' : 30,\n",
        "    # model_name + '__eval_set' : EARLY_STOP_EVAL_SET, \n",
        "    # model_name + '__eval_metric' : EVAL_METRIC,\n",
        "    model_name + '__verbose' : False\n",
        "}\n",
        "\n",
        "pipeline = Pipeline([('preprocess', data_preparation_pipeline), \n",
        "                     (model_name, model)])\n",
        "fs_model_pipes_to_evaluate[model_name] = (pipeline, dict(fit_params))"
      ]
    },
    {
      "cell_type": "markdown",
      "metadata": {
        "id": "KJDOQFbOVoza"
      },
      "source": [
        "##### LightGBM"
      ]
    },
    {
      "cell_type": "code",
      "execution_count": 71,
      "metadata": {
        "id": "_H9E8KEkVoza"
      },
      "outputs": [],
      "source": [
        "model_name = 'Guessed HyperParams LightGBM on selected Features'\n",
        "model = LGBMClassifier(n_estimators=1000, n_jobs = -1, objective = 'binary')\n",
        "fit_params = {\n",
        "    # model_name + '__early_stopping_rounds' : 30,\n",
        "    # model_name + '__eval_set' : EARLY_STOP_EVAL_SET, \n",
        "    # model_name + '__eval_metric' : EVAL_METRIC,\n",
        "    model_name + '__verbose' : False\n",
        "}\n",
        "\n",
        "pipeline = Pipeline([('preprocess', data_preparation_pipeline), \n",
        "                     (model_name, model)])\n",
        "fs_model_pipes_to_evaluate[model_name] = (pipeline, dict(fit_params))"
      ]
    },
    {
      "cell_type": "markdown",
      "metadata": {
        "id": "L9PZBQ3DVoza"
      },
      "source": [
        "#### And for the results:"
      ]
    },
    {
      "cell_type": "code",
      "execution_count": null,
      "metadata": {},
      "outputs": [],
      "source": [
        "set(features_df_new.columns.values)"
      ]
    },
    {
      "cell_type": "code",
      "execution_count": null,
      "metadata": {},
      "outputs": [],
      "source": [
        "df_train_with_FS_for_clf = df_train[set(features_df_new.columns.values) | FEATURES_TO_CLASSIFY_BY]\n",
        "\n",
        "labels_train_for_clf = labels_train['h1n1_vaccine']"
      ]
    },
    {
      "cell_type": "code",
      "execution_count": 74,
      "metadata": {
        "colab": {
          "base_uri": "https://localhost:8080/"
        },
        "id": "JbW8qZXsVoza",
        "outputId": "3b692a4f-ef7b-4481-99ee-04051052b914"
      },
      "outputs": [
        {
          "name": "stderr",
          "output_type": "stream",
          "text": [
            "  0%|          | 0/5 [00:00<?, ?it/s]"
          ]
        },
        {
          "name": "stdout",
          "output_type": "stream",
          "text": [
            "\n",
            "###########################################################################\n",
            "# Model type: Simple Logit Regressor on selected Features\n",
            "###########################################################################\n"
          ]
        },
        {
          "name": "stderr",
          "output_type": "stream",
          "text": [
            " 20%|██        | 1/5 [00:02<00:11,  2.84s/it]"
          ]
        },
        {
          "name": "stdout",
          "output_type": "stream",
          "text": [
            "\n",
            "Cross Validation time: 0 hours, 0 minutes, 2 seconds\n",
            "\n",
            "###########################################################################\n",
            "# Model type: Simple SVM classifier on selected Features\n",
            "###########################################################################\n"
          ]
        },
        {
          "name": "stderr",
          "output_type": "stream",
          "text": [
            " 40%|████      | 2/5 [01:16<02:13, 44.58s/it]"
          ]
        },
        {
          "name": "stdout",
          "output_type": "stream",
          "text": [
            "\n",
            "Cross Validation time: 0 hours, 1 minutes, 13 seconds\n",
            "\n",
            "###########################################################################\n",
            "# Model type: Simple Random Forest on selected Features\n",
            "###########################################################################\n"
          ]
        },
        {
          "name": "stderr",
          "output_type": "stream",
          "text": [
            " 60%|██████    | 3/5 [01:22<00:54, 27.01s/it]"
          ]
        },
        {
          "name": "stdout",
          "output_type": "stream",
          "text": [
            "\n",
            "Cross Validation time: 0 hours, 0 minutes, 6 seconds\n",
            "\n",
            "###########################################################################\n",
            "# Model type: Guessed HyperParams XGBClassifier on selected Features\n",
            "###########################################################################\n"
          ]
        },
        {
          "name": "stderr",
          "output_type": "stream",
          "text": [
            " 80%|████████  | 4/5 [02:40<00:47, 47.15s/it]"
          ]
        },
        {
          "name": "stdout",
          "output_type": "stream",
          "text": [
            "\n",
            "Cross Validation time: 0 hours, 1 minutes, 18 seconds\n",
            "\n",
            "###########################################################################\n",
            "# Model type: Guessed HyperParams LightGBM on selected Features\n",
            "###########################################################################\n"
          ]
        },
        {
          "name": "stderr",
          "output_type": "stream",
          "text": [
            "100%|██████████| 5/5 [02:42<00:00, 32.47s/it]"
          ]
        },
        {
          "name": "stdout",
          "output_type": "stream",
          "text": [
            "\n",
            "Cross Validation time: 0 hours, 0 minutes, 1 seconds\n",
            "\n",
            "@@@@@@@@@@@@@@@@@@@@@@@@@@@@@@@@@@@@@@@@@@@@@@@@@@@@@@@@@@@@@@@@@@@@@@@\n",
            "@ Best models roundup\n",
            "@@@@@@@@@@@@@@@@@@@@@@@@@@@@@@@@@@@@@@@@@@@@@@@@@@@@@@@@@@@@@@@@@@@@@@@\n",
            "Name: Guessed HyperParams XGBClassifier\n",
            " Scores: {'train': 0    0.907312\n",
            "1    0.906180\n",
            "2    0.908829\n",
            "3    0.908840\n",
            "4    0.907546\n",
            "Name: Guessed HyperParams XGBClassifier, dtype: float64, 'validation': 0    0.837570\n",
            "1    0.844591\n",
            "2    0.835393\n",
            "3    0.842392\n",
            "4    0.843633\n",
            "Name: Guessed HyperParams XGBClassifier, dtype: float64}\n"
          ]
        },
        {
          "name": "stderr",
          "output_type": "stream",
          "text": [
            "\n"
          ]
        }
      ],
      "source": [
        "CROSS_VALIDATOR = StratifiedShuffleSplit(n_splits=5, test_size=0.2, random_state=0)\n",
        "\n",
        "def evaluate_model_pipelines(model_pipelines):\n",
        "  train_cv_scoreboard = pd.DataFrame()\n",
        "  val_cv_scoreboard = pd.DataFrame()\n",
        "\n",
        "  for name, (model_pipeline, fit_params) in tqdm(model_pipelines.items()):\n",
        "    print('\\n###########################################################################')\n",
        "    print('# Model type: {}'.format(name))\n",
        "    print('###########################################################################')\n",
        "    \n",
        "    # Train the model\n",
        "    fit_start = perf_counter()\n",
        "    cv_scores = cross_validate(model_pipeline, df_train_with_FS_for_clf, labels_train_for_clf,\n",
        "                            fit_params = fit_params,\n",
        "                            cv=CROSS_VALIDATOR,\n",
        "                            n_jobs = -1,\n",
        "                            scoring='roc_auc',\n",
        "                            return_train_score=True)\n",
        "    fit_end = perf_counter()\n",
        "\n",
        "    print()\n",
        "    fit_time = report_fit_time(fit_start, fit_end)\n",
        "    \n",
        "    # plot_model_performance(model_history)\n",
        "    # train_predictions = model_pipeline.predict(df_train_for_clf)\n",
        "    # val_predictions = model_pipeline.predict(df_val_for_clf)\n",
        "    # test_predictions = model_pipeline.predict(df_test_for_clf)\n",
        "\n",
        "    train_cv_scoreboard[name] = cv_scores['train_score']\n",
        "    val_cv_scoreboard[name] = cv_scores['test_score']\n",
        "        \n",
        "    # scores = {\n",
        "    #     'Training' : cv_scores['train_score'].mean(),\n",
        "    #     'Validation' : cv_scores['test_score'].mean()\n",
        "    #     # 'Test' : accuracy_score(labels_test_for_clf, test_predictions)\n",
        "    #     }\n",
        "\n",
        "    # for dataset_name, score in scores.items():\n",
        "      # print (\"%s auc: %0.5f \" % (dataset_name, score))  \n",
        "    # print(f'''Training:\n",
        "    # Mean Score: {cv_scores['train_score'].mean()}\n",
        "    # Score Standad Deviation: {cv_scores['train_score'].std()}''')\n",
        "\n",
        "    # print(f'''Validation:\n",
        "    # Mean Score: {cv_scores['test_score'].mean()}\n",
        "    # Score Standad Deviation: {cv_scores['test_score'].std()}''')\n",
        "\n",
        "    if is_model_fame_worthy(val_cv_scoreboard[name]):\n",
        "      model_pipeline.fit(df_train_for_clf, labels_train_for_clf, **fit_params)\n",
        "\n",
        "      global best_model_so_far\n",
        "      best_model_so_far = {\n",
        "          'name' : name, # Name of the model\n",
        "          'pipeline_and_params' : (model_pipeline, fit_params), # A tuple containing a sklearn.Pipeline object and a parameters dict\n",
        "          'scores' : {\n",
        "              'train' : train_cv_scoreboard[name],\n",
        "              'validation' : val_cv_scoreboard[name]\n",
        "          }, # The cv scores of the model\n",
        "          'time' : fit_time # Training time in seconds\n",
        "          }\n",
        "      dict_of_fame[name] = scores\n",
        "\n",
        "  print()\n",
        "  print('@@@@@@@@@@@@@@@@@@@@@@@@@@@@@@@@@@@@@@@@@@@@@@@@@@@@@@@@@@@@@@@@@@@@@@@')\n",
        "  print('@ Best models roundup')\n",
        "  print('@@@@@@@@@@@@@@@@@@@@@@@@@@@@@@@@@@@@@@@@@@@@@@@@@@@@@@@@@@@@@@@@@@@@@@@')\n",
        "  for name, score in dict_of_fame.items():\n",
        "    print(f'Name: {name}\\n Scores: {score}')\n",
        "\n",
        "  train_cv_scoreboard['Best So Far'] = best_model_so_far['scores']['train']\n",
        "  val_cv_scoreboard['Best So Far'] = best_model_so_far['scores']['validation']\n",
        "  \n",
        "  return train_cv_scoreboard, val_cv_scoreboard\n",
        "\n",
        "fs_train_cv_scoreboard, fs_val_cv_scoreboard = evaluate_model_pipelines(fs_model_pipes_to_evaluate)"
      ]
    },
    {
      "cell_type": "code",
      "execution_count": 75,
      "metadata": {
        "id": "M9V91Xg6f9AI"
      },
      "outputs": [],
      "source": [
        "overall_train_cv_scoreboard = pd.concat([overall_train_cv_scoreboard, fs_train_cv_scoreboard])\n",
        "overall_val_cv_scoreboard = pd.concat([overall_val_cv_scoreboard, fs_val_cv_scoreboard])"
      ]
    },
    {
      "cell_type": "code",
      "execution_count": 76,
      "metadata": {
        "id": "N6RxaGXiVozb"
      },
      "outputs": [],
      "source": [
        "# best_model_so_far = {\n",
        "#           'name' : 'Guessed HyperParams XGBClassifier', # Name of the model\n",
        "#           'pipeline_and_params' : best_model_so_far['pipeline_and_params'], # A tuple containing a sklearn.Pipeline object and a parameters dict\n",
        "#           'scores' : {\n",
        "#               'train' : train_cv_scoreboard['Guessed HyperParams XGBClassifier'],\n",
        "#               'validation' : val_cv_scoreboard['Guessed HyperParams XGBClassifier']\n",
        "#           }, # The cv scores of the model\n",
        "#           'time' : best_model_so_far['time'] # Training time in seconds\n",
        "#           }"
      ]
    },
    {
      "cell_type": "code",
      "execution_count": 77,
      "metadata": {
        "colab": {
          "base_uri": "https://localhost:8080/",
          "height": 462
        },
        "id": "7O7Pyf2zVozb",
        "outputId": "ae1dccf7-9e53-4e25-d95a-877656c6e8ad"
      },
      "outputs": [
        {
          "data": {
            "text/plain": [
              "<AxesSubplot:title={'center':'validation scores'}>"
            ]
          },
          "execution_count": 77,
          "metadata": {},
          "output_type": "execute_result"
        },
        {
          "data": {
            "image/png": "[encoded data removed]",
            "text/plain": [
              "<Figure size 576x432 with 1 Axes>"
            ]
          },
          "metadata": {
            "needs_background": "light"
          },
          "output_type": "display_data"
        }
      ],
      "source": [
        "overall_val_cv_scoreboard.plot(kind='box', title='validation scores', figsize = (8,6), vert=False)"
      ]
    },
    {
      "cell_type": "code",
      "execution_count": 80,
      "metadata": {
        "colab": {
          "base_uri": "https://localhost:8080/"
        },
        "id": "BCTlgZeHVozb",
        "outputId": "852849d1-4713-41c0-810d-118938b5b5d6"
      },
      "outputs": [
        {
          "data": {
            "text/plain": [
              "{'name': 'Guessed HyperParams XGBClassifier',\n",
              " 'pipeline_and_params': (Pipeline(steps=[('preprocess',\n",
              "                   Pipeline(steps=[('Impute',\n",
              "                                    DataFrameMapper(df_out=True, drop_cols=[],\n",
              "                                                    features=[(['household_adults'],\n",
              "                                                               [SimpleImputer(strategy='most_frequent')],\n",
              "                                                               {}),\n",
              "                                                              (['child_under_6_months'],\n",
              "                                                               [SimpleImputer(strategy='most_frequent')],\n",
              "                                                               {}),\n",
              "                                                              (['behavioral_face_mask'],\n",
              "                                                               [SimpleImputer(strategy='most_frequent')],\n",
              "                                                               {}),\n",
              "                                                              (['doctor_recc_seasonal'],\n",
              "                                                               [Simp...\n",
              "                                 gamma=0, gpu_id=-1, grow_policy='depthwise',\n",
              "                                 importance_type=None, interaction_constraints='',\n",
              "                                 learning_rate=0.01, max_bin=256,\n",
              "                                 max_cat_to_onehot=4, max_delta_step=0,\n",
              "                                 max_depth=6, max_leaves=0, min_child_weight=1,\n",
              "                                 missing=nan, monotone_constraints='()',\n",
              "                                 n_estimators=1000, n_jobs=-1,\n",
              "                                 num_parallel_tree=1, predictor='auto',\n",
              "                                 random_state=0, reg_alpha=0, reg_lambda=1, ...))]),\n",
              "  {'Guessed HyperParams XGBClassifier__verbose': False}),\n",
              " 'scores': {'train': 0    0.907312\n",
              "  1    0.906180\n",
              "  2    0.908829\n",
              "  3    0.908840\n",
              "  4    0.907546\n",
              "  Name: Guessed HyperParams XGBClassifier, dtype: float64,\n",
              "  'validation': 0    0.837570\n",
              "  1    0.844591\n",
              "  2    0.835393\n",
              "  3    0.842392\n",
              "  4    0.843633\n",
              "  Name: Guessed HyperParams XGBClassifier, dtype: float64},\n",
              " 'time': 65.99654060000012}"
            ]
          },
          "execution_count": 80,
          "metadata": {},
          "output_type": "execute_result"
        }
      ],
      "source": [
        "save_model_pipeline_and_info(best_model_so_far, file_name='best_model_so_far.pickle')\n",
        "best_model_so_far"
      ]
    },
    {
      "cell_type": "markdown",
      "metadata": {},
      "source": [
        "## Trying the same simple models as is on seasonal vaccines"
      ]
    },
    {
      "cell_type": "code",
      "execution_count": 49,
      "metadata": {
        "id": "R4LfJNgVjMcL"
      },
      "outputs": [],
      "source": [
        "overall_train_cv_scoreboard = pd.DataFrame()\n",
        "overall_val_cv_scoreboard = pd.DataFrame()\n",
        "\n",
        "dict_of_fame = {}\n",
        "global best_model_so_far\n",
        "best_model_so_far = None"
      ]
    },
    {
      "cell_type": "code",
      "execution_count": 46,
      "metadata": {
        "id": "nbipGSbiaUZ-"
      },
      "outputs": [],
      "source": [
        "float_features_to_classify_by = float_features_to_preprocess\n",
        "string_features_to_classify_by = string_features_to_preprocess\n",
        "\n",
        "FEATURES_TO_CLASSIFY_BY = float_features_to_classify_by | string_features_to_classify_by\n",
        "df_train_for_clf = df_train[FEATURES_TO_CLASSIFY_BY]\n",
        "labels_train_for_clf = labels_train['seasonal_vaccine']\n"
      ]
    },
    {
      "cell_type": "code",
      "execution_count": 48,
      "metadata": {},
      "outputs": [
        {
          "data": {
            "text/plain": [
              "respondent_id\n",
              "0    0\n",
              "Name: seasonal_vaccine, dtype: int64"
            ]
          },
          "execution_count": 48,
          "metadata": {},
          "output_type": "execute_result"
        }
      ],
      "source": [
        "labels_train_for_clf.head(1)"
      ]
    },
    {
      "cell_type": "code",
      "execution_count": 50,
      "metadata": {
        "colab": {
          "base_uri": "https://localhost:8080/"
        },
        "id": "2P7qyGp6qQ4C",
        "outputId": "5ac5fa6a-9010-4d12-9046-b6ffa0067a4c"
      },
      "outputs": [
        {
          "name": "stderr",
          "output_type": "stream",
          "text": [
            "  0%|          | 0/5 [00:00<?, ?it/s]"
          ]
        },
        {
          "name": "stdout",
          "output_type": "stream",
          "text": [
            "\n",
            "###########################################################################\n",
            "# Model type: Simple Logit Regressor\n",
            "###########################################################################\n",
            "\n",
            "Cross Validation time: 0 hours, 0 minutes, 5 seconds\n"
          ]
        },
        {
          "name": "stderr",
          "output_type": "stream",
          "text": [
            " 20%|██        | 1/5 [00:07<00:30,  7.58s/it]"
          ]
        },
        {
          "name": "stdout",
          "output_type": "stream",
          "text": [
            "\n",
            "###########################################################################\n",
            "# Model type: Simple SVM classifier\n",
            "###########################################################################\n"
          ]
        },
        {
          "name": "stderr",
          "output_type": "stream",
          "text": [
            " 40%|████      | 2/5 [02:06<03:39, 73.25s/it]"
          ]
        },
        {
          "name": "stdout",
          "output_type": "stream",
          "text": [
            "\n",
            "Cross Validation time: 0 hours, 1 minutes, 59 seconds\n",
            "\n",
            "###########################################################################\n",
            "# Model type: Simple Random Forest\n",
            "###########################################################################\n"
          ]
        },
        {
          "name": "stderr",
          "output_type": "stream",
          "text": [
            " 60%|██████    | 3/5 [02:14<01:26, 43.38s/it]"
          ]
        },
        {
          "name": "stdout",
          "output_type": "stream",
          "text": [
            "\n",
            "Cross Validation time: 0 hours, 0 minutes, 7 seconds\n",
            "\n",
            "###########################################################################\n",
            "# Model type: Guessed HyperParams XGBClassifier\n",
            "###########################################################################\n",
            "\n",
            "Cross Validation time: 0 hours, 1 minutes, 32 seconds\n"
          ]
        },
        {
          "name": "stderr",
          "output_type": "stream",
          "text": [
            " 80%|████████  | 4/5 [04:09<01:11, 71.78s/it]"
          ]
        },
        {
          "name": "stdout",
          "output_type": "stream",
          "text": [
            "\n",
            "###########################################################################\n",
            "# Model type: Guessed HyperParams LightGBM\n",
            "###########################################################################\n"
          ]
        },
        {
          "name": "stderr",
          "output_type": "stream",
          "text": [
            "100%|██████████| 5/5 [04:12<00:00, 50.43s/it]"
          ]
        },
        {
          "name": "stdout",
          "output_type": "stream",
          "text": [
            "\n",
            "Cross Validation time: 0 hours, 0 minutes, 2 seconds\n",
            "\n",
            "@@@@@@@@@@@@@@@@@@@@@@@@@@@@@@@@@@@@@@@@@@@@@@@@@@@@@@@@@@@@@@@@@@@@@@@\n",
            "@ Best models roundup\n",
            "@@@@@@@@@@@@@@@@@@@@@@@@@@@@@@@@@@@@@@@@@@@@@@@@@@@@@@@@@@@@@@@@@@@@@@@\n",
            "Name: Simple Logit Regressor\n",
            " Scores: {'train': 0    0.847582\n",
            "1    0.847888\n",
            "2    0.849885\n",
            "3    0.849189\n",
            "4    0.849118\n",
            "Name: Simple Logit Regressor, dtype: float64, 'validation': 0    0.854171\n",
            "1    0.853145\n",
            "2    0.845930\n",
            "3    0.848837\n",
            "4    0.848131\n",
            "Name: Simple Logit Regressor, dtype: float64}\n",
            "Name: Guessed HyperParams XGBClassifier\n",
            " Scores: {'train': 0    0.907028\n",
            "1    0.906261\n",
            "2    0.909168\n",
            "3    0.909196\n",
            "4    0.907976\n",
            "Name: Guessed HyperParams XGBClassifier, dtype: float64, 'validation': 0    0.864932\n",
            "1    0.865112\n",
            "2    0.856329\n",
            "3    0.857889\n",
            "4    0.862741\n",
            "Name: Guessed HyperParams XGBClassifier, dtype: float64}\n"
          ]
        },
        {
          "name": "stderr",
          "output_type": "stream",
          "text": [
            "\n"
          ]
        }
      ],
      "source": [
        "CROSS_VALIDATOR = StratifiedShuffleSplit(n_splits=5, test_size=0.2, random_state=0)\n",
        "\n",
        "def evaluate_model_pipelines(model_pipelines):\n",
        "  train_cv_scoreboard = pd.DataFrame()\n",
        "  val_cv_scoreboard = pd.DataFrame()\n",
        "\n",
        "  for name, (model_pipeline, fit_params) in tqdm(model_pipelines.items()):\n",
        "    print('\\n###########################################################################')\n",
        "    print('# Model type: {}'.format(name))\n",
        "    print('###########################################################################')\n",
        "    \n",
        "    # Train the model\n",
        "    fit_start = perf_counter()\n",
        "    cv_scores = cross_validate(model_pipeline, df_train_for_clf, labels_train_for_clf,\n",
        "                            fit_params = fit_params,\n",
        "                            cv=CROSS_VALIDATOR,\n",
        "                            n_jobs = -1,\n",
        "                            scoring='roc_auc',\n",
        "                            return_train_score=True)\n",
        "    fit_end = perf_counter()\n",
        "\n",
        "    print()\n",
        "    fit_time = report_fit_time(fit_start, fit_end)\n",
        "    \n",
        "    # plot_model_performance(model_history)\n",
        "    # train_predictions = model_pipeline.predict(df_train_for_clf)\n",
        "    # val_predictions = model_pipeline.predict(df_val_for_clf)\n",
        "    # test_predictions = model_pipeline.predict(df_test_for_clf)\n",
        "\n",
        "    train_cv_scoreboard[name] = cv_scores['train_score']\n",
        "    val_cv_scoreboard[name] = cv_scores['test_score']\n",
        "        \n",
        "    # scores = {\n",
        "    #     'Training' : cv_scores['train_score'].mean(),\n",
        "    #     'Validation' : cv_scores['test_score'].mean()\n",
        "    #     # 'Test' : accuracy_score(labels_test_for_clf, test_predictions)\n",
        "    #     }\n",
        "\n",
        "    # for dataset_name, score in scores.items():\n",
        "      # print (\"%s auc: %0.5f \" % (dataset_name, score))  \n",
        "    # print(f'''Training:\n",
        "    # Mean Score: {cv_scores['train_score'].mean()}\n",
        "    # Score Standad Deviation: {cv_scores['train_score'].std()}''')\n",
        "\n",
        "    # print(f'''Validation:\n",
        "    # Mean Score: {cv_scores['test_score'].mean()}\n",
        "    # Score Standad Deviation: {cv_scores['test_score'].std()}''')\n",
        "\n",
        "    if is_model_fame_worthy(val_cv_scoreboard[name]):\n",
        "      model_pipeline.fit(df_train_for_clf, labels_train_for_clf, **fit_params)\n",
        "\n",
        "      global best_model_so_far\n",
        "      best_model_so_far = {\n",
        "          # Name of the model\n",
        "          'name' : name, \n",
        "          # A tuple containing a sklearn.Pipeline object and a parameters dict\n",
        "          'pipeline_and_params' : (model_pipeline, fit_params), \n",
        "           # The cv scores of the model\n",
        "          'scores' : {\n",
        "              'train' : train_cv_scoreboard[name],\n",
        "              'validation' : val_cv_scoreboard[name]\n",
        "          },\n",
        "          # Training time in seconds\n",
        "          'time' : fit_time \n",
        "          }\n",
        "      dict_of_fame[name] = best_model_so_far['scores']\n",
        "\n",
        "  print()\n",
        "  print('@@@@@@@@@@@@@@@@@@@@@@@@@@@@@@@@@@@@@@@@@@@@@@@@@@@@@@@@@@@@@@@@@@@@@@@')\n",
        "  print('@ Best models roundup')\n",
        "  print('@@@@@@@@@@@@@@@@@@@@@@@@@@@@@@@@@@@@@@@@@@@@@@@@@@@@@@@@@@@@@@@@@@@@@@@')\n",
        "  for name, score in dict_of_fame.items():\n",
        "    print(f'Name: {name}\\n Scores: {score}')\n",
        "\n",
        "  train_cv_scoreboard['Best So Far'] = best_model_so_far['scores']['train']\n",
        "  val_cv_scoreboard['Best So Far'] = best_model_so_far['scores']['validation']\n",
        "  \n",
        "  return train_cv_scoreboard, val_cv_scoreboard\n",
        "\n",
        "train_cv_scoreboard, val_cv_scoreboard = evaluate_model_pipelines(model_pipes_to_evaluate)"
      ]
    },
    {
      "cell_type": "code",
      "execution_count": 51,
      "metadata": {
        "id": "xkshyMehfWC_"
      },
      "outputs": [],
      "source": [
        "overall_train_cv_scoreboard = pd.concat([overall_train_cv_scoreboard, train_cv_scoreboard])\n",
        "overall_val_cv_scoreboard = pd.concat([overall_val_cv_scoreboard, val_cv_scoreboard])"
      ]
    },
    {
      "cell_type": "code",
      "execution_count": null,
      "metadata": {
        "id": "gjic3jti4U5-"
      },
      "outputs": [],
      "source": [
        "# best_model_so_far = {\n",
        "#           'name' : 'Guessed HyperParams XGBClassifier', # Name of the model\n",
        "#           'pipeline_and_params' : best_model_so_far['pipeline_and_params'], # A tuple containing a sklearn.Pipeline object and a parameters dict\n",
        "#           'scores' : {\n",
        "#               'train' : train_cv_scoreboard['Guessed HyperParams XGBClassifier'],\n",
        "#               'validation' : val_cv_scoreboard['Guessed HyperParams XGBClassifier']\n",
        "#           }, # The cv scores of the model\n",
        "#           'time' : best_model_so_far['time'] # Training time in seconds\n",
        "#           }"
      ]
    },
    {
      "cell_type": "code",
      "execution_count": 52,
      "metadata": {
        "colab": {
          "base_uri": "https://localhost:8080/",
          "height": 407
        },
        "id": "ro9i5g2Hjrn_",
        "outputId": "0d5d2d8d-2a70-49f9-b539-642faf82290b"
      },
      "outputs": [
        {
          "data": {
            "text/plain": [
              "<AxesSubplot:title={'center':'validation scores'}>"
            ]
          },
          "execution_count": 52,
          "metadata": {},
          "output_type": "execute_result"
        },
        {
          "data": {
            "image/png": "[encoded data removed]",
            "text/plain": [
              "<Figure size 576x432 with 1 Axes>"
            ]
          },
          "metadata": {
            "needs_background": "light"
          },
          "output_type": "display_data"
        }
      ],
      "source": [
        "overall_val_cv_scoreboard.plot(kind='box', title='validation scores', figsize = (8,6), vert=False)"
      ]
    },
    {
      "cell_type": "code",
      "execution_count": 53,
      "metadata": {},
      "outputs": [
        {
          "data": {
            "text/plain": [
              "{'name': 'Guessed HyperParams XGBClassifier',\n",
              " 'pipeline_and_params': (Pipeline(steps=[('preprocess',\n",
              "                   Pipeline(steps=[('Impute',\n",
              "                                    DataFrameMapper(df_out=True, drop_cols=[],\n",
              "                                                    features=[(['doctor_recc_seasonal'],\n",
              "                                                               [SimpleImputer(strategy='most_frequent')],\n",
              "                                                               {}),\n",
              "                                                              (['opinion_seas_sick_from_vacc'],\n",
              "                                                               [SimpleImputer(strategy='most_frequent')],\n",
              "                                                               {}),\n",
              "                                                              (['rent_or_own'],\n",
              "                                                               [SimpleImputer(strategy='most_frequent')],\n",
              "                                                               {}),\n",
              "                                                              (['household_children'],\n",
              "                                                               [Simp...\n",
              "                                 gamma=0, gpu_id=-1, grow_policy='depthwise',\n",
              "                                 importance_type=None, interaction_constraints='',\n",
              "                                 learning_rate=0.01, max_bin=256,\n",
              "                                 max_cat_to_onehot=4, max_delta_step=0,\n",
              "                                 max_depth=6, max_leaves=0, min_child_weight=1,\n",
              "                                 missing=nan, monotone_constraints='()',\n",
              "                                 n_estimators=1000, n_jobs=-1,\n",
              "                                 num_parallel_tree=1, predictor='auto',\n",
              "                                 random_state=0, reg_alpha=0, reg_lambda=1, ...))]),\n",
              "  {'Guessed HyperParams XGBClassifier__verbose': False}),\n",
              " 'scores': {'train': 0    0.907028\n",
              "  1    0.906261\n",
              "  2    0.909168\n",
              "  3    0.909196\n",
              "  4    0.907976\n",
              "  Name: Guessed HyperParams XGBClassifier, dtype: float64,\n",
              "  'validation': 0    0.864932\n",
              "  1    0.865112\n",
              "  2    0.856329\n",
              "  3    0.857889\n",
              "  4    0.862741\n",
              "  Name: Guessed HyperParams XGBClassifier, dtype: float64},\n",
              " 'time': 92.73019670000008}"
            ]
          },
          "execution_count": 53,
          "metadata": {},
          "output_type": "execute_result"
        }
      ],
      "source": [
        "save_model_pipeline_and_info(best_model_so_far, file_name='seasonal_best_model_so_far.pickle')\n",
        "best_model_so_far"
      ]
    }
  ],
  "metadata": {
    "colab": {
      "collapsed_sections": [
        "jWmK64lHVozH"
      ],
      "name": "Flu shot forecast - with Selected Features comparison.ipynb",
      "provenance": []
    },
    "kernelspec": {
      "display_name": "Python 3.9.0 64-bit",
      "language": "python",
      "name": "python3"
    },
    "language_info": {
      "codemirror_mode": {
        "name": "ipython",
        "version": 3
      },
      "file_extension": ".py",
      "mimetype": "text/x-python",
      "name": "python",
      "nbconvert_exporter": "python",
      "pygments_lexer": "ipython3",
      "version": "3.9.0"
    },
    "vscode": {
      "interpreter": {
        "hash": "0e937135a7d7f965985982f17f5c9226aa97a658f0c320b0cdb176fbf521231a"
      }
    }
  },
  "nbformat": 4,
  "nbformat_minor": 0
}
