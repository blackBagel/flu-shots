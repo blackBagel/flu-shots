{
  "nbformat": 4,
  "nbformat_minor": 0,
  "metadata": {
    "colab": {
      "name": "Flu shot forecast.ipynb",
      "provenance": [],
      "collapsed_sections": [],
      "authorship_tag": "ABX9TyPSZUfrBOX21lNwzShNUl4x",
      "include_colab_link": true
    },
    "kernelspec": {
      "name": "python3",
      "display_name": "Python 3"
    }
  },
  "cells": [
    {
      "cell_type": "markdown",
      "metadata": {
        "id": "view-in-github",
        "colab_type": "text"
      },
      "source": [
        "<a href=\"https://colab.research.google.com/github/blackBagel/flu-shots/blob/main/Flu_shot_forecast.ipynb\" target=\"_parent\"><img src=\"https://colab.research.google.com/assets/colab-badge.svg\" alt=\"Open In Colab\"/></a>"
      ]
    },
    {
      "cell_type": "code",
      "metadata": {
        "colab": {
          "base_uri": "https://localhost:8080/"
        },
        "id": "eMrl6usofinv",
        "outputId": "5237e05d-461d-4bdd-d76a-3e35a7e8220d"
      },
      "source": [
        "! pip install category_encoders sklearn-pandas"
      ],
      "execution_count": 4,
      "outputs": [
        {
          "output_type": "stream",
          "text": [
            "Requirement already satisfied: category_encoders in /usr/local/lib/python3.6/dist-packages (2.2.2)\n",
            "Requirement already satisfied: sklearn-pandas in /usr/local/lib/python3.6/dist-packages (1.8.0)\n",
            "Requirement already satisfied: scikit-learn>=0.20.0 in /usr/local/lib/python3.6/dist-packages (from category_encoders) (0.22.2.post1)\n",
            "Requirement already satisfied: numpy>=1.14.0 in /usr/local/lib/python3.6/dist-packages (from category_encoders) (1.19.4)\n",
            "Requirement already satisfied: scipy>=1.0.0 in /usr/local/lib/python3.6/dist-packages (from category_encoders) (1.4.1)\n",
            "Requirement already satisfied: patsy>=0.5.1 in /usr/local/lib/python3.6/dist-packages (from category_encoders) (0.5.1)\n",
            "Requirement already satisfied: pandas>=0.21.1 in /usr/local/lib/python3.6/dist-packages (from category_encoders) (1.1.5)\n",
            "Requirement already satisfied: statsmodels>=0.9.0 in /usr/local/lib/python3.6/dist-packages (from category_encoders) (0.10.2)\n",
            "Requirement already satisfied: joblib>=0.11 in /usr/local/lib/python3.6/dist-packages (from scikit-learn>=0.20.0->category_encoders) (1.0.0)\n",
            "Requirement already satisfied: six in /usr/local/lib/python3.6/dist-packages (from patsy>=0.5.1->category_encoders) (1.15.0)\n",
            "Requirement already satisfied: python-dateutil>=2.7.3 in /usr/local/lib/python3.6/dist-packages (from pandas>=0.21.1->category_encoders) (2.8.1)\n",
            "Requirement already satisfied: pytz>=2017.2 in /usr/local/lib/python3.6/dist-packages (from pandas>=0.21.1->category_encoders) (2018.9)\n"
          ],
          "name": "stdout"
        }
      ]
    },
    {
      "cell_type": "code",
      "metadata": {
        "id": "q0zKwjfW3nWP"
      },
      "source": [
        "# from __future__ import print_function\n",
        "import pandas as pd\n",
        "import numpy as np\n",
        "import os\n",
        "from google.colab import drive\n",
        "from tqdm import tqdm\n",
        "# from joblib import Parallel, delayed\n",
        "# import re\n",
        "import math\n",
        "from sklearn.impute import SimpleImputer\n",
        "# from sklearn.experimental import enable_iterative_imputer\n",
        "# from sklearn.impute import IterativeImputer\n",
        "from sklearn_pandas import DataFrameMapper, gen_features\n",
        "from category_encoders import OneHotEncoder, OrdinalEncoder\n",
        "# from category_encoders import CountEncoder\n",
        "from sklearn.model_selection import train_test_split\n",
        "from sklearn.metrics import roc_auc_score\n",
        "from sklearn.pipeline import Pipeline\n",
        "# from sklearn.compose import ColumnTransformer\n",
        "from sklearn.feature_selection import SelectKBest, chi2, mutual_info_classif\n",
        "\n",
        "from sklearn.linear_model import LogisticRegression\n",
        "from sklearn.svm import SVC\n",
        "# from sklearn.naive_bayes import MultinomialNB\n",
        "from sklearn.ensemble import RandomForestClassifier\n",
        "from xgboost import XGBClassifier\n",
        "from lightgbm import LGBMClassifier\n",
        "\n",
        "# import eli5\n",
        "import pickle\n",
        "from time import perf_counter\n",
        "import matplotlib.pyplot as plt\n",
        "%matplotlib inline"
      ],
      "execution_count": 5,
      "outputs": []
    },
    {
      "cell_type": "code",
      "metadata": {
        "id": "s3rl9ji-gO6L",
        "colab": {
          "base_uri": "https://localhost:8080/"
        },
        "outputId": "ee144c8d-8386-4d5d-a982-306ac1cc7681"
      },
      "source": [
        "DRIVE_PATH = '/gdrive/My Drive/Data_Projects/Flu_Shots'\n",
        "drive.mount('/gdrive')\n",
        "os.chdir(DRIVE_PATH)\n",
        "!ls"
      ],
      "execution_count": 6,
      "outputs": [
        {
          "output_type": "stream",
          "text": [
            "Mounted at /gdrive\n",
            "models\t\t       test_set_features.csv\t  training_set_labels.csv\n",
            "submission_format.csv  training_set_features.csv\n"
          ],
          "name": "stdout"
        }
      ]
    },
    {
      "cell_type": "code",
      "metadata": {
        "id": "Ye0RaaW3_-8c"
      },
      "source": [
        "full_train_df = pd.read_csv(\"training_set_features.csv\")\n",
        "full_train_labels = pd.read_csv(\"training_set_labels.csv\")"
      ],
      "execution_count": 7,
      "outputs": []
    },
    {
      "cell_type": "code",
      "metadata": {
        "id": "w02OyLWKl7mD",
        "colab": {
          "base_uri": "https://localhost:8080/",
          "height": 730
        },
        "outputId": "e7b4cccf-50a8-4846-9c43-842d0c170ff5"
      },
      "source": [
        "full_train_df"
      ],
      "execution_count": 8,
      "outputs": [
        {
          "output_type": "execute_result",
          "data": {
            "text/html": [
              "<div>\n",
              "<style scoped>\n",
              "    .dataframe tbody tr th:only-of-type {\n",
              "        vertical-align: middle;\n",
              "    }\n",
              "\n",
              "    .dataframe tbody tr th {\n",
              "        vertical-align: top;\n",
              "    }\n",
              "\n",
              "    .dataframe thead th {\n",
              "        text-align: right;\n",
              "    }\n",
              "</style>\n",
              "<table border=\"1\" class=\"dataframe\">\n",
              "  <thead>\n",
              "    <tr style=\"text-align: right;\">\n",
              "      <th></th>\n",
              "      <th>respondent_id</th>\n",
              "      <th>h1n1_concern</th>\n",
              "      <th>h1n1_knowledge</th>\n",
              "      <th>behavioral_antiviral_meds</th>\n",
              "      <th>behavioral_avoidance</th>\n",
              "      <th>behavioral_face_mask</th>\n",
              "      <th>behavioral_wash_hands</th>\n",
              "      <th>behavioral_large_gatherings</th>\n",
              "      <th>behavioral_outside_home</th>\n",
              "      <th>behavioral_touch_face</th>\n",
              "      <th>doctor_recc_h1n1</th>\n",
              "      <th>doctor_recc_seasonal</th>\n",
              "      <th>chronic_med_condition</th>\n",
              "      <th>child_under_6_months</th>\n",
              "      <th>health_worker</th>\n",
              "      <th>health_insurance</th>\n",
              "      <th>opinion_h1n1_vacc_effective</th>\n",
              "      <th>opinion_h1n1_risk</th>\n",
              "      <th>opinion_h1n1_sick_from_vacc</th>\n",
              "      <th>opinion_seas_vacc_effective</th>\n",
              "      <th>opinion_seas_risk</th>\n",
              "      <th>opinion_seas_sick_from_vacc</th>\n",
              "      <th>age_group</th>\n",
              "      <th>education</th>\n",
              "      <th>race</th>\n",
              "      <th>sex</th>\n",
              "      <th>income_poverty</th>\n",
              "      <th>marital_status</th>\n",
              "      <th>rent_or_own</th>\n",
              "      <th>employment_status</th>\n",
              "      <th>hhs_geo_region</th>\n",
              "      <th>census_msa</th>\n",
              "      <th>household_adults</th>\n",
              "      <th>household_children</th>\n",
              "      <th>employment_industry</th>\n",
              "      <th>employment_occupation</th>\n",
              "    </tr>\n",
              "  </thead>\n",
              "  <tbody>\n",
              "    <tr>\n",
              "      <th>0</th>\n",
              "      <td>0</td>\n",
              "      <td>1.0</td>\n",
              "      <td>0.0</td>\n",
              "      <td>0.0</td>\n",
              "      <td>0.0</td>\n",
              "      <td>0.0</td>\n",
              "      <td>0.0</td>\n",
              "      <td>0.0</td>\n",
              "      <td>1.0</td>\n",
              "      <td>1.0</td>\n",
              "      <td>0.0</td>\n",
              "      <td>0.0</td>\n",
              "      <td>0.0</td>\n",
              "      <td>0.0</td>\n",
              "      <td>0.0</td>\n",
              "      <td>1.0</td>\n",
              "      <td>3.0</td>\n",
              "      <td>1.0</td>\n",
              "      <td>2.0</td>\n",
              "      <td>2.0</td>\n",
              "      <td>1.0</td>\n",
              "      <td>2.0</td>\n",
              "      <td>55 - 64 Years</td>\n",
              "      <td>&lt; 12 Years</td>\n",
              "      <td>White</td>\n",
              "      <td>Female</td>\n",
              "      <td>Below Poverty</td>\n",
              "      <td>Not Married</td>\n",
              "      <td>Own</td>\n",
              "      <td>Not in Labor Force</td>\n",
              "      <td>oxchjgsf</td>\n",
              "      <td>Non-MSA</td>\n",
              "      <td>0.0</td>\n",
              "      <td>0.0</td>\n",
              "      <td>NaN</td>\n",
              "      <td>NaN</td>\n",
              "    </tr>\n",
              "    <tr>\n",
              "      <th>1</th>\n",
              "      <td>1</td>\n",
              "      <td>3.0</td>\n",
              "      <td>2.0</td>\n",
              "      <td>0.0</td>\n",
              "      <td>1.0</td>\n",
              "      <td>0.0</td>\n",
              "      <td>1.0</td>\n",
              "      <td>0.0</td>\n",
              "      <td>1.0</td>\n",
              "      <td>1.0</td>\n",
              "      <td>0.0</td>\n",
              "      <td>0.0</td>\n",
              "      <td>0.0</td>\n",
              "      <td>0.0</td>\n",
              "      <td>0.0</td>\n",
              "      <td>1.0</td>\n",
              "      <td>5.0</td>\n",
              "      <td>4.0</td>\n",
              "      <td>4.0</td>\n",
              "      <td>4.0</td>\n",
              "      <td>2.0</td>\n",
              "      <td>4.0</td>\n",
              "      <td>35 - 44 Years</td>\n",
              "      <td>12 Years</td>\n",
              "      <td>White</td>\n",
              "      <td>Male</td>\n",
              "      <td>Below Poverty</td>\n",
              "      <td>Not Married</td>\n",
              "      <td>Rent</td>\n",
              "      <td>Employed</td>\n",
              "      <td>bhuqouqj</td>\n",
              "      <td>MSA, Not Principle  City</td>\n",
              "      <td>0.0</td>\n",
              "      <td>0.0</td>\n",
              "      <td>pxcmvdjn</td>\n",
              "      <td>xgwztkwe</td>\n",
              "    </tr>\n",
              "    <tr>\n",
              "      <th>2</th>\n",
              "      <td>2</td>\n",
              "      <td>1.0</td>\n",
              "      <td>1.0</td>\n",
              "      <td>0.0</td>\n",
              "      <td>1.0</td>\n",
              "      <td>0.0</td>\n",
              "      <td>0.0</td>\n",
              "      <td>0.0</td>\n",
              "      <td>0.0</td>\n",
              "      <td>0.0</td>\n",
              "      <td>NaN</td>\n",
              "      <td>NaN</td>\n",
              "      <td>1.0</td>\n",
              "      <td>0.0</td>\n",
              "      <td>0.0</td>\n",
              "      <td>NaN</td>\n",
              "      <td>3.0</td>\n",
              "      <td>1.0</td>\n",
              "      <td>1.0</td>\n",
              "      <td>4.0</td>\n",
              "      <td>1.0</td>\n",
              "      <td>2.0</td>\n",
              "      <td>18 - 34 Years</td>\n",
              "      <td>College Graduate</td>\n",
              "      <td>White</td>\n",
              "      <td>Male</td>\n",
              "      <td>&lt;= $75,000, Above Poverty</td>\n",
              "      <td>Not Married</td>\n",
              "      <td>Own</td>\n",
              "      <td>Employed</td>\n",
              "      <td>qufhixun</td>\n",
              "      <td>MSA, Not Principle  City</td>\n",
              "      <td>2.0</td>\n",
              "      <td>0.0</td>\n",
              "      <td>rucpziij</td>\n",
              "      <td>xtkaffoo</td>\n",
              "    </tr>\n",
              "    <tr>\n",
              "      <th>3</th>\n",
              "      <td>3</td>\n",
              "      <td>1.0</td>\n",
              "      <td>1.0</td>\n",
              "      <td>0.0</td>\n",
              "      <td>1.0</td>\n",
              "      <td>0.0</td>\n",
              "      <td>1.0</td>\n",
              "      <td>1.0</td>\n",
              "      <td>0.0</td>\n",
              "      <td>0.0</td>\n",
              "      <td>0.0</td>\n",
              "      <td>1.0</td>\n",
              "      <td>1.0</td>\n",
              "      <td>0.0</td>\n",
              "      <td>0.0</td>\n",
              "      <td>NaN</td>\n",
              "      <td>3.0</td>\n",
              "      <td>3.0</td>\n",
              "      <td>5.0</td>\n",
              "      <td>5.0</td>\n",
              "      <td>4.0</td>\n",
              "      <td>1.0</td>\n",
              "      <td>65+ Years</td>\n",
              "      <td>12 Years</td>\n",
              "      <td>White</td>\n",
              "      <td>Female</td>\n",
              "      <td>Below Poverty</td>\n",
              "      <td>Not Married</td>\n",
              "      <td>Rent</td>\n",
              "      <td>Not in Labor Force</td>\n",
              "      <td>lrircsnp</td>\n",
              "      <td>MSA, Principle City</td>\n",
              "      <td>0.0</td>\n",
              "      <td>0.0</td>\n",
              "      <td>NaN</td>\n",
              "      <td>NaN</td>\n",
              "    </tr>\n",
              "    <tr>\n",
              "      <th>4</th>\n",
              "      <td>4</td>\n",
              "      <td>2.0</td>\n",
              "      <td>1.0</td>\n",
              "      <td>0.0</td>\n",
              "      <td>1.0</td>\n",
              "      <td>0.0</td>\n",
              "      <td>1.0</td>\n",
              "      <td>1.0</td>\n",
              "      <td>0.0</td>\n",
              "      <td>1.0</td>\n",
              "      <td>0.0</td>\n",
              "      <td>0.0</td>\n",
              "      <td>0.0</td>\n",
              "      <td>0.0</td>\n",
              "      <td>0.0</td>\n",
              "      <td>NaN</td>\n",
              "      <td>3.0</td>\n",
              "      <td>3.0</td>\n",
              "      <td>2.0</td>\n",
              "      <td>3.0</td>\n",
              "      <td>1.0</td>\n",
              "      <td>4.0</td>\n",
              "      <td>45 - 54 Years</td>\n",
              "      <td>Some College</td>\n",
              "      <td>White</td>\n",
              "      <td>Female</td>\n",
              "      <td>&lt;= $75,000, Above Poverty</td>\n",
              "      <td>Married</td>\n",
              "      <td>Own</td>\n",
              "      <td>Employed</td>\n",
              "      <td>qufhixun</td>\n",
              "      <td>MSA, Not Principle  City</td>\n",
              "      <td>1.0</td>\n",
              "      <td>0.0</td>\n",
              "      <td>wxleyezf</td>\n",
              "      <td>emcorrxb</td>\n",
              "    </tr>\n",
              "    <tr>\n",
              "      <th>...</th>\n",
              "      <td>...</td>\n",
              "      <td>...</td>\n",
              "      <td>...</td>\n",
              "      <td>...</td>\n",
              "      <td>...</td>\n",
              "      <td>...</td>\n",
              "      <td>...</td>\n",
              "      <td>...</td>\n",
              "      <td>...</td>\n",
              "      <td>...</td>\n",
              "      <td>...</td>\n",
              "      <td>...</td>\n",
              "      <td>...</td>\n",
              "      <td>...</td>\n",
              "      <td>...</td>\n",
              "      <td>...</td>\n",
              "      <td>...</td>\n",
              "      <td>...</td>\n",
              "      <td>...</td>\n",
              "      <td>...</td>\n",
              "      <td>...</td>\n",
              "      <td>...</td>\n",
              "      <td>...</td>\n",
              "      <td>...</td>\n",
              "      <td>...</td>\n",
              "      <td>...</td>\n",
              "      <td>...</td>\n",
              "      <td>...</td>\n",
              "      <td>...</td>\n",
              "      <td>...</td>\n",
              "      <td>...</td>\n",
              "      <td>...</td>\n",
              "      <td>...</td>\n",
              "      <td>...</td>\n",
              "      <td>...</td>\n",
              "      <td>...</td>\n",
              "    </tr>\n",
              "    <tr>\n",
              "      <th>26702</th>\n",
              "      <td>26702</td>\n",
              "      <td>2.0</td>\n",
              "      <td>0.0</td>\n",
              "      <td>0.0</td>\n",
              "      <td>1.0</td>\n",
              "      <td>0.0</td>\n",
              "      <td>0.0</td>\n",
              "      <td>0.0</td>\n",
              "      <td>1.0</td>\n",
              "      <td>0.0</td>\n",
              "      <td>0.0</td>\n",
              "      <td>0.0</td>\n",
              "      <td>0.0</td>\n",
              "      <td>0.0</td>\n",
              "      <td>0.0</td>\n",
              "      <td>NaN</td>\n",
              "      <td>3.0</td>\n",
              "      <td>1.0</td>\n",
              "      <td>1.0</td>\n",
              "      <td>5.0</td>\n",
              "      <td>2.0</td>\n",
              "      <td>2.0</td>\n",
              "      <td>65+ Years</td>\n",
              "      <td>Some College</td>\n",
              "      <td>White</td>\n",
              "      <td>Female</td>\n",
              "      <td>&lt;= $75,000, Above Poverty</td>\n",
              "      <td>Not Married</td>\n",
              "      <td>Own</td>\n",
              "      <td>Not in Labor Force</td>\n",
              "      <td>qufhixun</td>\n",
              "      <td>Non-MSA</td>\n",
              "      <td>0.0</td>\n",
              "      <td>0.0</td>\n",
              "      <td>NaN</td>\n",
              "      <td>NaN</td>\n",
              "    </tr>\n",
              "    <tr>\n",
              "      <th>26703</th>\n",
              "      <td>26703</td>\n",
              "      <td>1.0</td>\n",
              "      <td>2.0</td>\n",
              "      <td>0.0</td>\n",
              "      <td>1.0</td>\n",
              "      <td>0.0</td>\n",
              "      <td>1.0</td>\n",
              "      <td>0.0</td>\n",
              "      <td>0.0</td>\n",
              "      <td>0.0</td>\n",
              "      <td>1.0</td>\n",
              "      <td>1.0</td>\n",
              "      <td>0.0</td>\n",
              "      <td>0.0</td>\n",
              "      <td>1.0</td>\n",
              "      <td>1.0</td>\n",
              "      <td>4.0</td>\n",
              "      <td>2.0</td>\n",
              "      <td>2.0</td>\n",
              "      <td>5.0</td>\n",
              "      <td>1.0</td>\n",
              "      <td>1.0</td>\n",
              "      <td>18 - 34 Years</td>\n",
              "      <td>College Graduate</td>\n",
              "      <td>White</td>\n",
              "      <td>Male</td>\n",
              "      <td>&lt;= $75,000, Above Poverty</td>\n",
              "      <td>Not Married</td>\n",
              "      <td>Rent</td>\n",
              "      <td>Employed</td>\n",
              "      <td>lzgpxyit</td>\n",
              "      <td>MSA, Principle City</td>\n",
              "      <td>1.0</td>\n",
              "      <td>0.0</td>\n",
              "      <td>fcxhlnwr</td>\n",
              "      <td>cmhcxjea</td>\n",
              "    </tr>\n",
              "    <tr>\n",
              "      <th>26704</th>\n",
              "      <td>26704</td>\n",
              "      <td>2.0</td>\n",
              "      <td>2.0</td>\n",
              "      <td>0.0</td>\n",
              "      <td>1.0</td>\n",
              "      <td>1.0</td>\n",
              "      <td>1.0</td>\n",
              "      <td>1.0</td>\n",
              "      <td>0.0</td>\n",
              "      <td>1.0</td>\n",
              "      <td>0.0</td>\n",
              "      <td>0.0</td>\n",
              "      <td>0.0</td>\n",
              "      <td>0.0</td>\n",
              "      <td>0.0</td>\n",
              "      <td>NaN</td>\n",
              "      <td>4.0</td>\n",
              "      <td>4.0</td>\n",
              "      <td>2.0</td>\n",
              "      <td>5.0</td>\n",
              "      <td>4.0</td>\n",
              "      <td>2.0</td>\n",
              "      <td>55 - 64 Years</td>\n",
              "      <td>Some College</td>\n",
              "      <td>White</td>\n",
              "      <td>Female</td>\n",
              "      <td>NaN</td>\n",
              "      <td>Not Married</td>\n",
              "      <td>Own</td>\n",
              "      <td>NaN</td>\n",
              "      <td>lzgpxyit</td>\n",
              "      <td>MSA, Not Principle  City</td>\n",
              "      <td>0.0</td>\n",
              "      <td>0.0</td>\n",
              "      <td>NaN</td>\n",
              "      <td>NaN</td>\n",
              "    </tr>\n",
              "    <tr>\n",
              "      <th>26705</th>\n",
              "      <td>26705</td>\n",
              "      <td>1.0</td>\n",
              "      <td>1.0</td>\n",
              "      <td>0.0</td>\n",
              "      <td>0.0</td>\n",
              "      <td>0.0</td>\n",
              "      <td>0.0</td>\n",
              "      <td>0.0</td>\n",
              "      <td>0.0</td>\n",
              "      <td>NaN</td>\n",
              "      <td>0.0</td>\n",
              "      <td>0.0</td>\n",
              "      <td>0.0</td>\n",
              "      <td>0.0</td>\n",
              "      <td>0.0</td>\n",
              "      <td>0.0</td>\n",
              "      <td>3.0</td>\n",
              "      <td>1.0</td>\n",
              "      <td>2.0</td>\n",
              "      <td>2.0</td>\n",
              "      <td>1.0</td>\n",
              "      <td>2.0</td>\n",
              "      <td>18 - 34 Years</td>\n",
              "      <td>Some College</td>\n",
              "      <td>Hispanic</td>\n",
              "      <td>Female</td>\n",
              "      <td>&lt;= $75,000, Above Poverty</td>\n",
              "      <td>Married</td>\n",
              "      <td>Rent</td>\n",
              "      <td>Employed</td>\n",
              "      <td>lrircsnp</td>\n",
              "      <td>Non-MSA</td>\n",
              "      <td>1.0</td>\n",
              "      <td>0.0</td>\n",
              "      <td>fcxhlnwr</td>\n",
              "      <td>haliazsg</td>\n",
              "    </tr>\n",
              "    <tr>\n",
              "      <th>26706</th>\n",
              "      <td>26706</td>\n",
              "      <td>0.0</td>\n",
              "      <td>0.0</td>\n",
              "      <td>0.0</td>\n",
              "      <td>1.0</td>\n",
              "      <td>0.0</td>\n",
              "      <td>0.0</td>\n",
              "      <td>0.0</td>\n",
              "      <td>0.0</td>\n",
              "      <td>0.0</td>\n",
              "      <td>0.0</td>\n",
              "      <td>0.0</td>\n",
              "      <td>0.0</td>\n",
              "      <td>0.0</td>\n",
              "      <td>0.0</td>\n",
              "      <td>1.0</td>\n",
              "      <td>5.0</td>\n",
              "      <td>1.0</td>\n",
              "      <td>1.0</td>\n",
              "      <td>5.0</td>\n",
              "      <td>1.0</td>\n",
              "      <td>1.0</td>\n",
              "      <td>65+ Years</td>\n",
              "      <td>Some College</td>\n",
              "      <td>White</td>\n",
              "      <td>Male</td>\n",
              "      <td>&lt;= $75,000, Above Poverty</td>\n",
              "      <td>Married</td>\n",
              "      <td>Own</td>\n",
              "      <td>Not in Labor Force</td>\n",
              "      <td>mlyzmhmf</td>\n",
              "      <td>MSA, Principle City</td>\n",
              "      <td>1.0</td>\n",
              "      <td>0.0</td>\n",
              "      <td>NaN</td>\n",
              "      <td>NaN</td>\n",
              "    </tr>\n",
              "  </tbody>\n",
              "</table>\n",
              "<p>26707 rows × 36 columns</p>\n",
              "</div>"
            ],
            "text/plain": [
              "       respondent_id  h1n1_concern  ...  employment_industry  employment_occupation\n",
              "0                  0           1.0  ...                  NaN                    NaN\n",
              "1                  1           3.0  ...             pxcmvdjn               xgwztkwe\n",
              "2                  2           1.0  ...             rucpziij               xtkaffoo\n",
              "3                  3           1.0  ...                  NaN                    NaN\n",
              "4                  4           2.0  ...             wxleyezf               emcorrxb\n",
              "...              ...           ...  ...                  ...                    ...\n",
              "26702          26702           2.0  ...                  NaN                    NaN\n",
              "26703          26703           1.0  ...             fcxhlnwr               cmhcxjea\n",
              "26704          26704           2.0  ...                  NaN                    NaN\n",
              "26705          26705           1.0  ...             fcxhlnwr               haliazsg\n",
              "26706          26706           0.0  ...                  NaN                    NaN\n",
              "\n",
              "[26707 rows x 36 columns]"
            ]
          },
          "metadata": {
            "tags": []
          },
          "execution_count": 8
        }
      ]
    },
    {
      "cell_type": "code",
      "metadata": {
        "id": "6g-lCEkmmO6T",
        "colab": {
          "base_uri": "https://localhost:8080/",
          "height": 415
        },
        "outputId": "aa35fb9d-636f-4c73-fe28-8bb3731beb9c"
      },
      "source": [
        "full_train_labels"
      ],
      "execution_count": 9,
      "outputs": [
        {
          "output_type": "execute_result",
          "data": {
            "text/html": [
              "<div>\n",
              "<style scoped>\n",
              "    .dataframe tbody tr th:only-of-type {\n",
              "        vertical-align: middle;\n",
              "    }\n",
              "\n",
              "    .dataframe tbody tr th {\n",
              "        vertical-align: top;\n",
              "    }\n",
              "\n",
              "    .dataframe thead th {\n",
              "        text-align: right;\n",
              "    }\n",
              "</style>\n",
              "<table border=\"1\" class=\"dataframe\">\n",
              "  <thead>\n",
              "    <tr style=\"text-align: right;\">\n",
              "      <th></th>\n",
              "      <th>respondent_id</th>\n",
              "      <th>h1n1_vaccine</th>\n",
              "      <th>seasonal_vaccine</th>\n",
              "    </tr>\n",
              "  </thead>\n",
              "  <tbody>\n",
              "    <tr>\n",
              "      <th>0</th>\n",
              "      <td>0</td>\n",
              "      <td>0</td>\n",
              "      <td>0</td>\n",
              "    </tr>\n",
              "    <tr>\n",
              "      <th>1</th>\n",
              "      <td>1</td>\n",
              "      <td>0</td>\n",
              "      <td>1</td>\n",
              "    </tr>\n",
              "    <tr>\n",
              "      <th>2</th>\n",
              "      <td>2</td>\n",
              "      <td>0</td>\n",
              "      <td>0</td>\n",
              "    </tr>\n",
              "    <tr>\n",
              "      <th>3</th>\n",
              "      <td>3</td>\n",
              "      <td>0</td>\n",
              "      <td>1</td>\n",
              "    </tr>\n",
              "    <tr>\n",
              "      <th>4</th>\n",
              "      <td>4</td>\n",
              "      <td>0</td>\n",
              "      <td>0</td>\n",
              "    </tr>\n",
              "    <tr>\n",
              "      <th>...</th>\n",
              "      <td>...</td>\n",
              "      <td>...</td>\n",
              "      <td>...</td>\n",
              "    </tr>\n",
              "    <tr>\n",
              "      <th>26702</th>\n",
              "      <td>26702</td>\n",
              "      <td>0</td>\n",
              "      <td>0</td>\n",
              "    </tr>\n",
              "    <tr>\n",
              "      <th>26703</th>\n",
              "      <td>26703</td>\n",
              "      <td>0</td>\n",
              "      <td>0</td>\n",
              "    </tr>\n",
              "    <tr>\n",
              "      <th>26704</th>\n",
              "      <td>26704</td>\n",
              "      <td>0</td>\n",
              "      <td>1</td>\n",
              "    </tr>\n",
              "    <tr>\n",
              "      <th>26705</th>\n",
              "      <td>26705</td>\n",
              "      <td>0</td>\n",
              "      <td>0</td>\n",
              "    </tr>\n",
              "    <tr>\n",
              "      <th>26706</th>\n",
              "      <td>26706</td>\n",
              "      <td>0</td>\n",
              "      <td>0</td>\n",
              "    </tr>\n",
              "  </tbody>\n",
              "</table>\n",
              "<p>26707 rows × 3 columns</p>\n",
              "</div>"
            ],
            "text/plain": [
              "       respondent_id  h1n1_vaccine  seasonal_vaccine\n",
              "0                  0             0                 0\n",
              "1                  1             0                 1\n",
              "2                  2             0                 0\n",
              "3                  3             0                 1\n",
              "4                  4             0                 0\n",
              "...              ...           ...               ...\n",
              "26702          26702             0                 0\n",
              "26703          26703             0                 0\n",
              "26704          26704             0                 1\n",
              "26705          26705             0                 0\n",
              "26706          26706             0                 0\n",
              "\n",
              "[26707 rows x 3 columns]"
            ]
          },
          "metadata": {
            "tags": []
          },
          "execution_count": 9
        }
      ]
    },
    {
      "cell_type": "code",
      "metadata": {
        "id": "hh9MIJcKmGjK",
        "colab": {
          "base_uri": "https://localhost:8080/"
        },
        "outputId": "a292ff40-6547-4b63-efe8-c549aefaf8fa"
      },
      "source": [
        "full_train_df = full_train_df.set_index(\"respondent_id\")\n",
        "full_train_labels = full_train_labels.set_index(\"respondent_id\")\n",
        "\n",
        "# Checking if there are inconcistency issues in the data\n",
        "(full_train_df.index != full_train_labels.index).sum()"
      ],
      "execution_count": 10,
      "outputs": [
        {
          "output_type": "execute_result",
          "data": {
            "text/plain": [
              "0"
            ]
          },
          "metadata": {
            "tags": []
          },
          "execution_count": 10
        }
      ]
    },
    {
      "cell_type": "markdown",
      "metadata": {
        "id": "br-jjNbdjqnz"
      },
      "source": [
        "#### Train validation split"
      ]
    },
    {
      "cell_type": "code",
      "metadata": {
        "id": "AJzxLq7LjzYD",
        "colab": {
          "base_uri": "https://localhost:8080/"
        },
        "outputId": "8b3cd897-1b56-4d3e-bfbd-8b20e8f7e3a8"
      },
      "source": [
        "# Checking how many observations in test set\n",
        "! wc -l \"test_set_features.csv\""
      ],
      "execution_count": 11,
      "outputs": [
        {
          "output_type": "stream",
          "text": [
            "26709 test_set_features.csv\n"
          ],
          "name": "stdout"
        }
      ]
    },
    {
      "cell_type": "markdown",
      "metadata": {
        "id": "9RQDMUYdlGuK"
      },
      "source": [
        "Unfortunately, the test set is the same size as the train set.  \n",
        "So since i can't create a validation set as big, i'll just take a small fraction of the train set for validation"
      ]
    },
    {
      "cell_type": "code",
      "metadata": {
        "id": "6DvOuOZOjDcD",
        "colab": {
          "base_uri": "https://localhost:8080/"
        },
        "outputId": "917dcf3a-f99a-4dcf-a10d-8736e7d696ae"
      },
      "source": [
        "TRAIN_VAL_RAND_STATE = 1\n",
        "TRAIN_VAL_SPLIT = 0.2\n",
        "\n",
        "# We use the same train-test split to test all of the models\n",
        "df_train, df_val, labels_train, labels_val = train_test_split(full_train_df,\n",
        "                                                              full_train_labels,\n",
        "                                                              random_state=TRAIN_VAL_RAND_STATE,\n",
        "                                                              test_size=TRAIN_VAL_SPLIT,\n",
        "                                                              shuffle=True)\n",
        "\n",
        "print(f\"train size: {len(df_train)}\")\n",
        "print(f\"val size: {len(df_val)}\")\n",
        "print(f\"train labels size: {len(labels_train)}\")\n",
        "print(f\"val labels size: {len(labels_val)}\")"
      ],
      "execution_count": 12,
      "outputs": [
        {
          "output_type": "stream",
          "text": [
            "train size: 21365\n",
            "val size: 5342\n",
            "train labels size: 21365\n",
            "val labels size: 5342\n"
          ],
          "name": "stdout"
        }
      ]
    },
    {
      "cell_type": "markdown",
      "metadata": {
        "id": "BZIj5fOuewkJ"
      },
      "source": [
        "#### Creating functions for testing preprocessors"
      ]
    },
    {
      "cell_type": "code",
      "metadata": {
        "id": "lnY-Elx07q2G"
      },
      "source": [
        "# def get_columns_after_transform(column_transformer):\n",
        "#   columns_after_processing = [column for _,_,columns in column_transformer.transformers_ for column in columns]\n",
        "#   return columns_after_processing"
      ],
      "execution_count": 13,
      "outputs": []
    },
    {
      "cell_type": "code",
      "metadata": {
        "id": "02GIVsXwK1UU"
      },
      "source": [
        "# def pass_through_transformer(df, transformer):\n",
        "#   df_processed = df.copy()\n",
        "#   df_processed = transformer.fit_transform(df_processed)\n",
        "\n",
        "#   columns_after_processing = get_columns_after_transform(transformer)\n",
        "\n",
        "#   df_processed = pd.DataFrame(df_processed,\n",
        "#                               columns = columns_after_processing,\n",
        "#                               index=df.index)\n",
        "  \n",
        "#   return df_processed"
      ],
      "execution_count": 14,
      "outputs": []
    },
    {
      "cell_type": "markdown",
      "metadata": {
        "id": "HqpPXWOqFIoo"
      },
      "source": [
        "Making sure i assigned the correct columns to the transformed df  \n",
        "And that I processed the columns as intended "
      ]
    },
    {
      "cell_type": "code",
      "metadata": {
        "id": "XKwtBJBJ9MCM"
      },
      "source": [
        "def compare_df_row_changes(df_from, df_to):\n",
        "  '''\n",
        "    Expects DFs with identical ids and column order!\n",
        "  '''\n",
        "  df1 = df_from.copy()\n",
        "  df2 = df_to.copy()\n",
        "\n",
        "  ne_stacked = (df1 != df2).stack()\n",
        "  changed = ne_stacked[ne_stacked]\n",
        "  changed.index.names = ['id', 'column']\n",
        "\n",
        "  difference_locations = np.where(df1 != df2)\n",
        "\n",
        "  changed_from = df1.values[difference_locations]\n",
        "  changed_to = df2.values[difference_locations]\n",
        "\n",
        "  print(pd.DataFrame({'from': changed_from, 'to': changed_to}, index=changed.index))"
      ],
      "execution_count": 15,
      "outputs": []
    },
    {
      "cell_type": "code",
      "metadata": {
        "id": "__xPrVEnIrcQ"
      },
      "source": [
        "def test_column_transformer(df, transformer):\r\n",
        "  # df_before = df.copy()\r\n",
        "  # df_after = pass_through_transformer(df_before, transformer)\r\n",
        "\r\n",
        "  # columns_after_processing = get_columns_after_transform(transformer)\r\n",
        "\r\n",
        "  # df1 = df_before[columns_after_processing].iloc[[0,1], :]\r\n",
        "  # df2 = df_after.iloc[[0,1], :]\r\n",
        "  df_before  = df.copy()\r\n",
        "  df_after = data_preparation_pipeline.fit_transform(df_before)\r\n",
        "\r\n",
        "  df_before_compared = df_before[df_after.columns].iloc[[0,1], :]\r\n",
        "  df_after_compared = df_after.iloc[[0,1], :]\r\n",
        "\r\n",
        "  compare_df_row_changes(df_before_compared, df_after_compared)"
      ],
      "execution_count": 16,
      "outputs": []
    },
    {
      "cell_type": "code",
      "metadata": {
        "id": "c_pMDzsnca-s",
        "colab": {
          "base_uri": "https://localhost:8080/"
        },
        "outputId": "eafbde49-6f25-425b-87aa-88c61cdb5eba"
      },
      "source": [
        "def describe_columns(df):\n",
        "  TOO_MANY_NULLS_PERCENT = 0.01\n",
        "  columns_with_lots_of_nulls = []\n",
        "\n",
        "  print(f\"The df has {df.shape[1]} columns\")\n",
        "  print(\"Column name                  | dtype   | Amount of nulls\")\n",
        "  print(\"--------------------------------------------------------\")\n",
        "  for column in df.columns:\n",
        "    num_of_nulls = df[column].isnull().sum()\n",
        "    col_dtype = str(df.dtypes[column])\n",
        "    print(f\"{column:<28} | {col_dtype:<7} | {num_of_nulls}\")\n",
        "\n",
        "    if num_of_nulls > len(df_train) * TOO_MANY_NULLS_PERCENT:\n",
        "      columns_with_lots_of_nulls.append(column)\n",
        "\n",
        "  print()\n",
        "  print(f\"Columns that have more than {TOO_MANY_NULLS_PERCENT * 100}% null values:\")\n",
        "  print(columns_with_lots_of_nulls)\n",
        "\n",
        "describe_columns(df_train)"
      ],
      "execution_count": 17,
      "outputs": [
        {
          "output_type": "stream",
          "text": [
            "The df has 35 columns\n",
            "Column name                  | dtype   | Amount of nulls\n",
            "--------------------------------------------------------\n",
            "h1n1_concern                 | float64 | 75\n",
            "h1n1_knowledge               | float64 | 87\n",
            "behavioral_antiviral_meds    | float64 | 56\n",
            "behavioral_avoidance         | float64 | 178\n",
            "behavioral_face_mask         | float64 | 14\n",
            "behavioral_wash_hands        | float64 | 32\n",
            "behavioral_large_gatherings  | float64 | 68\n",
            "behavioral_outside_home      | float64 | 66\n",
            "behavioral_touch_face        | float64 | 97\n",
            "doctor_recc_h1n1             | float64 | 1729\n",
            "doctor_recc_seasonal         | float64 | 1729\n",
            "chronic_med_condition        | float64 | 792\n",
            "child_under_6_months         | float64 | 665\n",
            "health_worker                | float64 | 650\n",
            "health_insurance             | float64 | 9829\n",
            "opinion_h1n1_vacc_effective  | float64 | 327\n",
            "opinion_h1n1_risk            | float64 | 322\n",
            "opinion_h1n1_sick_from_vacc  | float64 | 326\n",
            "opinion_seas_vacc_effective  | float64 | 381\n",
            "opinion_seas_risk            | float64 | 421\n",
            "opinion_seas_sick_from_vacc  | float64 | 442\n",
            "age_group                    | object  | 0\n",
            "education                    | object  | 1135\n",
            "race                         | object  | 0\n",
            "sex                          | object  | 0\n",
            "income_poverty               | object  | 3537\n",
            "marital_status               | object  | 1132\n",
            "rent_or_own                  | object  | 1628\n",
            "employment_status            | object  | 1158\n",
            "hhs_geo_region               | object  | 0\n",
            "census_msa                   | object  | 0\n",
            "household_adults             | float64 | 198\n",
            "household_children           | float64 | 198\n",
            "employment_industry          | object  | 10634\n",
            "employment_occupation        | object  | 10749\n",
            "\n",
            "Columns that have more than 1.0% null values:\n",
            "['doctor_recc_h1n1', 'doctor_recc_seasonal', 'chronic_med_condition', 'child_under_6_months', 'health_worker', 'health_insurance', 'opinion_h1n1_vacc_effective', 'opinion_h1n1_risk', 'opinion_h1n1_sick_from_vacc', 'opinion_seas_vacc_effective', 'opinion_seas_risk', 'opinion_seas_sick_from_vacc', 'education', 'income_poverty', 'marital_status', 'rent_or_own', 'employment_status', 'employment_industry', 'employment_occupation']\n"
          ],
          "name": "stdout"
        }
      ]
    },
    {
      "cell_type": "markdown",
      "metadata": {
        "id": "5_VtC4ROKpyr"
      },
      "source": [
        "### Handling nulls"
      ]
    },
    {
      "cell_type": "code",
      "metadata": {
        "id": "NGDLUq6yPAyU"
      },
      "source": [
        "columns_with_type_float = df_train.select_dtypes(include=['float64']).columns.tolist()\n",
        "columns_with_type_string = df_train.select_dtypes(include=['object']).columns.tolist()"
      ],
      "execution_count": 18,
      "outputs": []
    },
    {
      "cell_type": "markdown",
      "metadata": {
        "id": "WmYIz10oB4yv"
      },
      "source": [
        "#### Float64 Features "
      ]
    },
    {
      "cell_type": "code",
      "metadata": {
        "id": "vV6wj6Y0e32U",
        "colab": {
          "base_uri": "https://localhost:8080/",
          "height": 981
        },
        "outputId": "d50e36c2-21b5-4607-e648-4a2f9b0fcbef"
      },
      "source": [
        "fig, axes = plt.subplots(ncols=3, nrows=8, figsize=(22,18))\n",
        "axes_list = [item for sublist in axes for item in sublist] \n",
        "\n",
        "# plot every month's daily count of transactions\n",
        "for column in tqdm(columns_with_type_float):\n",
        "  ax = axes_list.pop(0)\n",
        "  df_train[column].plot(kind='hist', ax=ax)\n",
        "  ax.set_title(column)\n",
        "\n",
        "fig.tight_layout()"
      ],
      "execution_count": 19,
      "outputs": [
        {
          "output_type": "stream",
          "text": [
            "100%|██████████| 23/23 [00:00<00:00, 38.17it/s]\n"
          ],
          "name": "stderr"
        },
        {
          "output_type": "display_data",
          "data": {
            "image/png": "[encoded data removed]",
            "text/plain": [
              "<Figure size 1584x1296 with 24 Axes>"
            ]
          },
          "metadata": {
            "tags": [],
            "needs_background": "light"
          }
        }
      ]
    },
    {
      "cell_type": "code",
      "metadata": {
        "id": "fKTsMvv9uv9c"
      },
      "source": [
        "# columns_that_can_have_better_impute = ['doctor_recc_h1n1', # X\n",
        "#                                        'doctor_recc_seasonal', # X\n",
        "#                                        'health_insurance', # V\n",
        "#                                        'education', # \n",
        "#                                        'income_poverty',\n",
        "#                                        'marital_status',\n",
        "#                                        'rent_or_own',\n",
        "#                                        'employment_status', \n",
        "#                                        'employment_industry',\n",
        "#                                        'employment_occupation']\n"
      ],
      "execution_count": 20,
      "outputs": []
    },
    {
      "cell_type": "code",
      "metadata": {
        "id": "3TUB_BmywBY1"
      },
      "source": [
        "features_to_not_impute = {'respondent_id'}\n",
        "\n",
        "# for now i'll impute the doctor_recc features with most freq values\n",
        "# mostly because a placeholder value is too much of a hassle for a temporary setup\n",
        "float_features_for_placeholder_impute = set()\n",
        "# float_features_for_placeholder_impute = {'doctor_recc_h1n1',\n",
        "#                                          'doctor_recc_seasonal'}\n",
        "\n",
        "# Since all the data is categorical, all the features will be MF imputed by default \n",
        "# Feautures that need to be specially imputed are the odd ones\n",
        "# And i'll explicitly take them out of the default list\n",
        "all_float_features = set(df_train.select_dtypes(include=['float64']).columns)\n",
        "\n",
        "float_features_for_mf_impute =  all_float_features - \\\n",
        " float_features_for_placeholder_impute - \\\n",
        " features_to_not_impute\n",
        "\n",
        "float_features_to_preprocess = float_features_for_mf_impute | \\\n",
        " float_features_for_placeholder_impute"
      ],
      "execution_count": 21,
      "outputs": []
    },
    {
      "cell_type": "markdown",
      "metadata": {
        "id": "vUOlYRWqCKne"
      },
      "source": [
        "#### String Categorical Features"
      ]
    },
    {
      "cell_type": "code",
      "metadata": {
        "id": "FU2aqxv3CTGL",
        "colab": {
          "base_uri": "https://localhost:8080/",
          "height": 1000
        },
        "outputId": "eccf0975-6083-46e2-9a16-7c8c85dcc52e"
      },
      "source": [
        "PLOTS_PER_ROW = 2\n",
        "n_rows = math.ceil(len(columns_with_type_string) / PLOTS_PER_ROW)\n",
        "fig, axes = plt.subplots(ncols=PLOTS_PER_ROW, nrows=n_rows, figsize=(22,20))\n",
        "axes_list = [column for row in axes for column in row] \n",
        "\n",
        "# plot every feature's frequency of each value\n",
        "for column in tqdm(columns_with_type_string):\n",
        "  ax = axes_list.pop(0)\n",
        "  df_train.groupby(column).size().plot(kind='barh', title=column, ax=ax)\n",
        "\n",
        "fig.tight_layout()"
      ],
      "execution_count": 22,
      "outputs": [
        {
          "output_type": "stream",
          "text": [
            "100%|██████████| 12/12 [00:00<00:00, 44.71it/s]\n"
          ],
          "name": "stderr"
        },
        {
          "output_type": "display_data",
          "data": {
            "image/png": "[encoded data removed]",
            "text/plain": [
              "<Figure size 1584x1440 with 12 Axes>"
            ]
          },
          "metadata": {
            "tags": [],
            "needs_background": "light"
          }
        }
      ]
    },
    {
      "cell_type": "markdown",
      "metadata": {
        "id": "P7sKsMbXN9zG"
      },
      "source": [
        "Since I don't want to start fiddling with Advanced imputation techniques, for now I'll only impute `race` and `rent_or_own` using the most frequent value, and all the rest of the features will simply have a literal string `NaN` where empty so I could still get some sense of which features are useful for this classification"
      ]
    },
    {
      "cell_type": "code",
      "metadata": {
        "id": "PXHe3n48Oqdd"
      },
      "source": [
        "string_features_for_mf_impute = { 'race', 'rent_or_own' }\n",
        "string_features_for_placeholder_impute = set(columns_with_type_string) - string_features_for_mf_impute\n",
        "string_features_to_preprocess = string_features_for_mf_impute | string_features_for_placeholder_impute"
      ],
      "execution_count": 23,
      "outputs": []
    },
    {
      "cell_type": "markdown",
      "metadata": {
        "id": "SHMtpYKwCUNk"
      },
      "source": [
        "#### Imputation"
      ]
    },
    {
      "cell_type": "code",
      "metadata": {
        "id": "D9dHg3Vz184P",
        "colab": {
          "base_uri": "https://localhost:8080/",
          "height": 391
        },
        "outputId": "6896d9cc-1815-4c1a-fcd8-f0a16e503e93"
      },
      "source": [
        "df_train.head()"
      ],
      "execution_count": 24,
      "outputs": [
        {
          "output_type": "execute_result",
          "data": {
            "text/html": [
              "<div>\n",
              "<style scoped>\n",
              "    .dataframe tbody tr th:only-of-type {\n",
              "        vertical-align: middle;\n",
              "    }\n",
              "\n",
              "    .dataframe tbody tr th {\n",
              "        vertical-align: top;\n",
              "    }\n",
              "\n",
              "    .dataframe thead th {\n",
              "        text-align: right;\n",
              "    }\n",
              "</style>\n",
              "<table border=\"1\" class=\"dataframe\">\n",
              "  <thead>\n",
              "    <tr style=\"text-align: right;\">\n",
              "      <th></th>\n",
              "      <th>h1n1_concern</th>\n",
              "      <th>h1n1_knowledge</th>\n",
              "      <th>behavioral_antiviral_meds</th>\n",
              "      <th>behavioral_avoidance</th>\n",
              "      <th>behavioral_face_mask</th>\n",
              "      <th>behavioral_wash_hands</th>\n",
              "      <th>behavioral_large_gatherings</th>\n",
              "      <th>behavioral_outside_home</th>\n",
              "      <th>behavioral_touch_face</th>\n",
              "      <th>doctor_recc_h1n1</th>\n",
              "      <th>doctor_recc_seasonal</th>\n",
              "      <th>chronic_med_condition</th>\n",
              "      <th>child_under_6_months</th>\n",
              "      <th>health_worker</th>\n",
              "      <th>health_insurance</th>\n",
              "      <th>opinion_h1n1_vacc_effective</th>\n",
              "      <th>opinion_h1n1_risk</th>\n",
              "      <th>opinion_h1n1_sick_from_vacc</th>\n",
              "      <th>opinion_seas_vacc_effective</th>\n",
              "      <th>opinion_seas_risk</th>\n",
              "      <th>opinion_seas_sick_from_vacc</th>\n",
              "      <th>age_group</th>\n",
              "      <th>education</th>\n",
              "      <th>race</th>\n",
              "      <th>sex</th>\n",
              "      <th>income_poverty</th>\n",
              "      <th>marital_status</th>\n",
              "      <th>rent_or_own</th>\n",
              "      <th>employment_status</th>\n",
              "      <th>hhs_geo_region</th>\n",
              "      <th>census_msa</th>\n",
              "      <th>household_adults</th>\n",
              "      <th>household_children</th>\n",
              "      <th>employment_industry</th>\n",
              "      <th>employment_occupation</th>\n",
              "    </tr>\n",
              "    <tr>\n",
              "      <th>respondent_id</th>\n",
              "      <th></th>\n",
              "      <th></th>\n",
              "      <th></th>\n",
              "      <th></th>\n",
              "      <th></th>\n",
              "      <th></th>\n",
              "      <th></th>\n",
              "      <th></th>\n",
              "      <th></th>\n",
              "      <th></th>\n",
              "      <th></th>\n",
              "      <th></th>\n",
              "      <th></th>\n",
              "      <th></th>\n",
              "      <th></th>\n",
              "      <th></th>\n",
              "      <th></th>\n",
              "      <th></th>\n",
              "      <th></th>\n",
              "      <th></th>\n",
              "      <th></th>\n",
              "      <th></th>\n",
              "      <th></th>\n",
              "      <th></th>\n",
              "      <th></th>\n",
              "      <th></th>\n",
              "      <th></th>\n",
              "      <th></th>\n",
              "      <th></th>\n",
              "      <th></th>\n",
              "      <th></th>\n",
              "      <th></th>\n",
              "      <th></th>\n",
              "      <th></th>\n",
              "      <th></th>\n",
              "    </tr>\n",
              "  </thead>\n",
              "  <tbody>\n",
              "    <tr>\n",
              "      <th>22542</th>\n",
              "      <td>1.0</td>\n",
              "      <td>1.0</td>\n",
              "      <td>0.0</td>\n",
              "      <td>1.0</td>\n",
              "      <td>0.0</td>\n",
              "      <td>1.0</td>\n",
              "      <td>0.0</td>\n",
              "      <td>0.0</td>\n",
              "      <td>1.0</td>\n",
              "      <td>0.0</td>\n",
              "      <td>0.0</td>\n",
              "      <td>0.0</td>\n",
              "      <td>0.0</td>\n",
              "      <td>0.0</td>\n",
              "      <td>NaN</td>\n",
              "      <td>4.0</td>\n",
              "      <td>4.0</td>\n",
              "      <td>4.0</td>\n",
              "      <td>5.0</td>\n",
              "      <td>2.0</td>\n",
              "      <td>4.0</td>\n",
              "      <td>18 - 34 Years</td>\n",
              "      <td>NaN</td>\n",
              "      <td>White</td>\n",
              "      <td>Female</td>\n",
              "      <td>NaN</td>\n",
              "      <td>NaN</td>\n",
              "      <td>NaN</td>\n",
              "      <td>NaN</td>\n",
              "      <td>oxchjgsf</td>\n",
              "      <td>Non-MSA</td>\n",
              "      <td>3.0</td>\n",
              "      <td>1.0</td>\n",
              "      <td>NaN</td>\n",
              "      <td>NaN</td>\n",
              "    </tr>\n",
              "    <tr>\n",
              "      <th>15778</th>\n",
              "      <td>1.0</td>\n",
              "      <td>2.0</td>\n",
              "      <td>0.0</td>\n",
              "      <td>0.0</td>\n",
              "      <td>0.0</td>\n",
              "      <td>1.0</td>\n",
              "      <td>0.0</td>\n",
              "      <td>0.0</td>\n",
              "      <td>0.0</td>\n",
              "      <td>0.0</td>\n",
              "      <td>0.0</td>\n",
              "      <td>1.0</td>\n",
              "      <td>0.0</td>\n",
              "      <td>0.0</td>\n",
              "      <td>1.0</td>\n",
              "      <td>5.0</td>\n",
              "      <td>2.0</td>\n",
              "      <td>2.0</td>\n",
              "      <td>5.0</td>\n",
              "      <td>4.0</td>\n",
              "      <td>2.0</td>\n",
              "      <td>45 - 54 Years</td>\n",
              "      <td>Some College</td>\n",
              "      <td>White</td>\n",
              "      <td>Female</td>\n",
              "      <td>&lt;= $75,000, Above Poverty</td>\n",
              "      <td>Not Married</td>\n",
              "      <td>Own</td>\n",
              "      <td>Not in Labor Force</td>\n",
              "      <td>mlyzmhmf</td>\n",
              "      <td>MSA, Principle City</td>\n",
              "      <td>0.0</td>\n",
              "      <td>1.0</td>\n",
              "      <td>NaN</td>\n",
              "      <td>NaN</td>\n",
              "    </tr>\n",
              "    <tr>\n",
              "      <th>15152</th>\n",
              "      <td>3.0</td>\n",
              "      <td>0.0</td>\n",
              "      <td>0.0</td>\n",
              "      <td>1.0</td>\n",
              "      <td>0.0</td>\n",
              "      <td>1.0</td>\n",
              "      <td>1.0</td>\n",
              "      <td>1.0</td>\n",
              "      <td>1.0</td>\n",
              "      <td>0.0</td>\n",
              "      <td>1.0</td>\n",
              "      <td>0.0</td>\n",
              "      <td>0.0</td>\n",
              "      <td>0.0</td>\n",
              "      <td>1.0</td>\n",
              "      <td>5.0</td>\n",
              "      <td>2.0</td>\n",
              "      <td>2.0</td>\n",
              "      <td>5.0</td>\n",
              "      <td>5.0</td>\n",
              "      <td>2.0</td>\n",
              "      <td>35 - 44 Years</td>\n",
              "      <td>12 Years</td>\n",
              "      <td>Black</td>\n",
              "      <td>Male</td>\n",
              "      <td>Below Poverty</td>\n",
              "      <td>Not Married</td>\n",
              "      <td>Rent</td>\n",
              "      <td>NaN</td>\n",
              "      <td>fpwskwrf</td>\n",
              "      <td>MSA, Principle City</td>\n",
              "      <td>1.0</td>\n",
              "      <td>0.0</td>\n",
              "      <td>NaN</td>\n",
              "      <td>NaN</td>\n",
              "    </tr>\n",
              "    <tr>\n",
              "      <th>14690</th>\n",
              "      <td>2.0</td>\n",
              "      <td>1.0</td>\n",
              "      <td>0.0</td>\n",
              "      <td>1.0</td>\n",
              "      <td>0.0</td>\n",
              "      <td>1.0</td>\n",
              "      <td>0.0</td>\n",
              "      <td>0.0</td>\n",
              "      <td>1.0</td>\n",
              "      <td>0.0</td>\n",
              "      <td>1.0</td>\n",
              "      <td>0.0</td>\n",
              "      <td>0.0</td>\n",
              "      <td>0.0</td>\n",
              "      <td>NaN</td>\n",
              "      <td>4.0</td>\n",
              "      <td>1.0</td>\n",
              "      <td>2.0</td>\n",
              "      <td>4.0</td>\n",
              "      <td>2.0</td>\n",
              "      <td>1.0</td>\n",
              "      <td>35 - 44 Years</td>\n",
              "      <td>College Graduate</td>\n",
              "      <td>Black</td>\n",
              "      <td>Female</td>\n",
              "      <td>&lt;= $75,000, Above Poverty</td>\n",
              "      <td>Not Married</td>\n",
              "      <td>Rent</td>\n",
              "      <td>Employed</td>\n",
              "      <td>lzgpxyit</td>\n",
              "      <td>Non-MSA</td>\n",
              "      <td>0.0</td>\n",
              "      <td>0.0</td>\n",
              "      <td>fcxhlnwr</td>\n",
              "      <td>bxpfxfdn</td>\n",
              "    </tr>\n",
              "    <tr>\n",
              "      <th>13249</th>\n",
              "      <td>3.0</td>\n",
              "      <td>1.0</td>\n",
              "      <td>0.0</td>\n",
              "      <td>1.0</td>\n",
              "      <td>0.0</td>\n",
              "      <td>1.0</td>\n",
              "      <td>1.0</td>\n",
              "      <td>0.0</td>\n",
              "      <td>0.0</td>\n",
              "      <td>0.0</td>\n",
              "      <td>0.0</td>\n",
              "      <td>0.0</td>\n",
              "      <td>0.0</td>\n",
              "      <td>0.0</td>\n",
              "      <td>1.0</td>\n",
              "      <td>3.0</td>\n",
              "      <td>2.0</td>\n",
              "      <td>2.0</td>\n",
              "      <td>2.0</td>\n",
              "      <td>1.0</td>\n",
              "      <td>2.0</td>\n",
              "      <td>35 - 44 Years</td>\n",
              "      <td>12 Years</td>\n",
              "      <td>White</td>\n",
              "      <td>Female</td>\n",
              "      <td>NaN</td>\n",
              "      <td>Not Married</td>\n",
              "      <td>Rent</td>\n",
              "      <td>Not in Labor Force</td>\n",
              "      <td>fpwskwrf</td>\n",
              "      <td>MSA, Not Principle  City</td>\n",
              "      <td>0.0</td>\n",
              "      <td>0.0</td>\n",
              "      <td>NaN</td>\n",
              "      <td>NaN</td>\n",
              "    </tr>\n",
              "  </tbody>\n",
              "</table>\n",
              "</div>"
            ],
            "text/plain": [
              "               h1n1_concern  ...  employment_occupation\n",
              "respondent_id                ...                       \n",
              "22542                   1.0  ...                    NaN\n",
              "15778                   1.0  ...                    NaN\n",
              "15152                   3.0  ...                    NaN\n",
              "14690                   2.0  ...               bxpfxfdn\n",
              "13249                   3.0  ...                    NaN\n",
              "\n",
              "[5 rows x 35 columns]"
            ]
          },
          "metadata": {
            "tags": []
          },
          "execution_count": 24
        }
      ]
    },
    {
      "cell_type": "code",
      "metadata": {
        "id": "OoDGzX4_0A-Q"
      },
      "source": [
        "features_for_mf_impute = float_features_for_mf_impute | string_features_for_mf_impute\n",
        "features_for_placeholder_impute = float_features_for_placeholder_impute | string_features_for_placeholder_impute\n",
        "\n",
        "features_for_mf_impute_for_DfMapper = [[feature] for feature in features_for_mf_impute]\n",
        "features_for_placeholder_impute_for_DfMapper = [[feature] for feature in features_for_placeholder_impute]\n",
        "\n",
        "# most_freq_imputer = SimpleImputer(strategy='most_frequent')\n",
        "# placeholder_imputer = SimpleImputer(strategy='constant', fill_value='NaN')\n",
        "\n",
        "# data_preparation_imputer = ColumnTransformer([\n",
        "#                                               ('mf', most_freq_imputer, features_for_mf_impute),\n",
        "#                                               ('nan', placeholder_imputer, features_for_placeholder_impute)\n",
        "# ])\n",
        "\n",
        "feature_def_for_mf_impute = gen_features(\n",
        "    columns = features_for_mf_impute_for_DfMapper,\n",
        "    classes = [{'class': SimpleImputer, 'strategy':'most_frequent'}]\n",
        ")\n",
        "feature_def_for_placeholder_impute = gen_features(\n",
        "    columns = features_for_placeholder_impute_for_DfMapper,\n",
        "    classes = [{'class': SimpleImputer, 'strategy':'constant', 'fill_value': 'NaN'}]\n",
        ")\n",
        "feature_def_for_impute = feature_def_for_mf_impute + feature_def_for_placeholder_impute\n",
        "\n",
        "data_preparation_imputer = DataFrameMapper(feature_def_for_impute, df_out=True)\n",
        "\n",
        "data_preparation_pipeline = Pipeline([('Impute', data_preparation_imputer)])"
      ],
      "execution_count": 25,
      "outputs": []
    },
    {
      "cell_type": "code",
      "metadata": {
        "id": "ohVZt7RD3jKi"
      },
      "source": [
        "FEATURES_TO_PREPROCESS = float_features_to_preprocess | string_features_to_preprocess\n",
        "df_train_for_preprocess = df_train[FEATURES_TO_PREPROCESS]"
      ],
      "execution_count": 26,
      "outputs": []
    },
    {
      "cell_type": "code",
      "metadata": {
        "colab": {
          "base_uri": "https://localhost:8080/"
        },
        "id": "VvUga6tzYoAA",
        "outputId": "8b95a1a5-58b4-4114-b679-49c81220c8ad"
      },
      "source": [
        "test_column_transformer(df_train_for_preprocess, data_preparation_imputer)"
      ],
      "execution_count": 27,
      "outputs": [
        {
          "output_type": "stream",
          "text": [
            "                            from   to\n",
            "id    column                         \n",
            "22542 health_insurance       NaN    1\n",
            "      rent_or_own            NaN  Own\n",
            "      employment_status      NaN  NaN\n",
            "      marital_status         NaN  NaN\n",
            "      income_poverty         NaN  NaN\n",
            "      employment_occupation  NaN  NaN\n",
            "      education              NaN  NaN\n",
            "      employment_industry    NaN  NaN\n",
            "15778 employment_occupation  NaN  NaN\n",
            "      employment_industry    NaN  NaN\n"
          ],
          "name": "stdout"
        }
      ]
    },
    {
      "cell_type": "markdown",
      "metadata": {
        "id": "Serl6SpcKk-L"
      },
      "source": [
        "### Encoding string columns"
      ]
    },
    {
      "cell_type": "code",
      "metadata": {
        "id": "rzfDFbh7JunA"
      },
      "source": [
        "df_train_for_preprocess = data_preparation_imputer.fit_transform(df_train_for_preprocess)"
      ],
      "execution_count": 28,
      "outputs": []
    },
    {
      "cell_type": "markdown",
      "metadata": {
        "id": "gF-dZsO3Mwvn"
      },
      "source": [
        "##############################################  \n",
        "TBD: Handle bad NaNs with advanced imputers \n",
        "##############################################"
      ]
    },
    {
      "cell_type": "markdown",
      "metadata": {
        "id": "LarkJbnlSGNH"
      },
      "source": [
        "#### Handling categories with order"
      ]
    },
    {
      "cell_type": "code",
      "metadata": {
        "id": "6MZgPO72SNBP"
      },
      "source": [
        "ORDERED_CATEGORIES_MAPPING = [\n",
        "    {'col' : 'age_group', 'mapping' : {'18 - 34 Years' : 0,\n",
        "                                       '35 - 44 Years' : 1,\n",
        "                                       '45 - 54 Years' : 2,\n",
        "                                       '55 - 64 Years' : 3,\n",
        "                                       '65+ Years' : 4 }}, \n",
        "    {'col' : 'education', 'mapping' : {'NaN' : 0, ########################################\n",
        "                                       '< 12 Years' : 1,\n",
        "                                       '12 Years' : 2,\n",
        "                                       'Some College' : 3,\n",
        "                                       'College Graduate' : 4}}, \n",
        "    {'col' : 'income_poverty', 'mapping' : {'NaN': 0, ########################################\n",
        "                                            'Below Poverty' : 1,\n",
        "                                            '<= $75,000, Above Poverty' : 2,\n",
        "                                            '> $75,000' : 3}}\n",
        "]\n",
        "\n",
        "string_features_for_ordered_encode = {column_mapping['col'] for column_mapping in ORDERED_CATEGORIES_MAPPING}"
      ],
      "execution_count": 29,
      "outputs": []
    },
    {
      "cell_type": "code",
      "metadata": {
        "id": "CDcXgkBcZgfU"
      },
      "source": [
        "#################################################################################\n",
        "# for some annoying reason, ordinal encoder expects a list of categories to convert at once\n",
        "# So i'll try to pass all the categories into a single transformer in the ctf \n",
        "# and will have to make sure they'll come out the same with regards to order and everything\n",
        "#################################################################################\n",
        "# age_group_oe = OrdinalEncoder(categories = [ORDERED_CATEGORIES['age_group'], ORDERED_CATEGORIES['education']])\n",
        "# age_group_oe.fit_transform(df_train_for_preprocess[['age_group', 'education']])"
      ],
      "execution_count": 30,
      "outputs": []
    },
    {
      "cell_type": "markdown",
      "metadata": {
        "id": "abjcJ2gtSNpo"
      },
      "source": [
        "#### Checking which categories can be OneHot encoded"
      ]
    },
    {
      "cell_type": "code",
      "metadata": {
        "colab": {
          "base_uri": "https://localhost:8080/"
        },
        "id": "YZBoy9pdMC_W",
        "outputId": "952e20cd-93dc-472b-a1f3-7465460ba33d"
      },
      "source": [
        "for feature in string_features_to_preprocess:\n",
        "  print(f'{feature}\\'s Cardinality is {df_train[feature].nunique()}')"
      ],
      "execution_count": 31,
      "outputs": [
        {
          "output_type": "stream",
          "text": [
            "employment_status's Cardinality is 3\n",
            "census_msa's Cardinality is 3\n",
            "hhs_geo_region's Cardinality is 10\n",
            "sex's Cardinality is 2\n",
            "marital_status's Cardinality is 2\n",
            "age_group's Cardinality is 5\n",
            "income_poverty's Cardinality is 3\n",
            "rent_or_own's Cardinality is 2\n",
            "race's Cardinality is 4\n",
            "employment_occupation's Cardinality is 23\n",
            "education's Cardinality is 4\n",
            "employment_industry's Cardinality is 21\n"
          ],
          "name": "stdout"
        }
      ]
    },
    {
      "cell_type": "markdown",
      "metadata": {
        "id": "lD3CIV5OQxYE"
      },
      "source": [
        "##############################################  \n",
        "TBD: Handle bad NaNs with advanced imputers \n",
        "##############################################"
      ]
    },
    {
      "cell_type": "markdown",
      "metadata": {
        "id": "2TbdLu4coBGY"
      },
      "source": [
        "Looks like 5 is a decent limit of cardinality for choosing which features will be OH encoded"
      ]
    },
    {
      "cell_type": "code",
      "metadata": {
        "id": "jTP4ZamWMfS0"
      },
      "source": [
        "CARDINALITY_LIMIT = 5\n",
        "\n",
        "string_features_for_OH_encode = {\n",
        "    feature for feature in string_features_to_preprocess \n",
        "    if (df_train[feature].nunique() <= CARDINALITY_LIMIT) and\n",
        "    (feature not in string_features_for_ordered_encode)\n",
        "    }"
      ],
      "execution_count": 32,
      "outputs": []
    },
    {
      "cell_type": "markdown",
      "metadata": {
        "id": "jbzrjuPSrPwY"
      },
      "source": [
        "#### All non ordered or non OHed will just be encoded using a plain ordinal encoder"
      ]
    },
    {
      "cell_type": "code",
      "metadata": {
        "id": "eDt2-07_rZfj"
      },
      "source": [
        "string_features_for_plain_encode = string_features_to_preprocess - \\\r\n",
        "                                  string_features_for_ordered_encode - \\\r\n",
        "                                  string_features_for_OH_encode"
      ],
      "execution_count": 33,
      "outputs": []
    },
    {
      "cell_type": "markdown",
      "metadata": {
        "id": "xyIAYhRukc4B"
      },
      "source": [
        "#### Building Categorical encoding pipeline"
      ]
    },
    {
      "cell_type": "code",
      "metadata": {
        "id": "3U35fEi_kpg2"
      },
      "source": [
        "##############################################################\r\n",
        "# Either I use this columntransformer and lose column names\r\n",
        "##############################################################\r\n",
        "# category_encoder = ColumnTransformer([\r\n",
        "#                                     ('ordered', ordered_encoder, list(string_features_for_ordered_encode)),\r\n",
        "#                                     # ('one_hot', OneHotEncoder(sparse=False), list(string_features_for_OH_encode)),\r\n",
        "#                                     ('one_hot', ohe(use_cat_names=True), list(string_features_for_OH_encode)),\r\n",
        "#                                     ('plain_encode', OrdinalEncoder(), list(string_features_for_plain_encode))\r\n",
        "# ])\r\n",
        "\r\n",
        "# category_encoder.fit_transform(df_train_for_preprocess)\r\n",
        "# # Cannot be tested by my func since OH creates more columns than the original df\r\n",
        "# test_column_transformer(df_train_for_preprocess[string_features_for_ordered_encode | string_features_for_plain_encode], category_encoder)\r\n",
        "\r\n",
        "##############################################################\r\n",
        "# Or i use the sklearn_pandas.DataFrameMapper for imputing to preserve column names\r\n",
        "# So i could find the best columns later.\r\n",
        "\r\n",
        "# In any case, i'll assume the pipeline still gets DFs with column names at this stage\r\n",
        "##############################################################\r\n",
        "ordered_encoder = OrdinalEncoder(cols = string_features_for_ordered_encode, mapping = ORDERED_CATEGORIES_MAPPING)\r\n",
        "oh_encoder = OneHotEncoder(cols = string_features_for_OH_encode, use_cat_names=True)\r\n",
        "plain_encoder = OrdinalEncoder(cols = string_features_for_plain_encode)\r\n",
        "\r\n",
        "data_preparation_pipeline.steps.append(('ordered_enc', ordered_encoder))\r\n",
        "data_preparation_pipeline.steps.append(('OH_enc', oh_encoder))\r\n",
        "data_preparation_pipeline.steps.append(('plain_enc', plain_encoder))"
      ],
      "execution_count": 34,
      "outputs": []
    },
    {
      "cell_type": "markdown",
      "metadata": {
        "id": "IQIWmeGpbg7m"
      },
      "source": [
        "# H1N1 shots\n",
        "I want to handle each problem orthonogically. After I'll feel I know enough about H1N1 predictions, I'll start working on improving flu shot scores as well."
      ]
    },
    {
      "cell_type": "markdown",
      "metadata": {
        "id": "IUYq_JJzNof5"
      },
      "source": [
        "### Selecting Best Features"
      ]
    },
    {
      "cell_type": "markdown",
      "metadata": {
        "id": "bz1ErnrOC_pj"
      },
      "source": [
        "Running all the data preprocess pipeline so far at once as a quick integration test for the preprocessing so far"
      ]
    },
    {
      "cell_type": "code",
      "metadata": {
        "colab": {
          "base_uri": "https://localhost:8080/"
        },
        "id": "7XEln53t_MVT",
        "outputId": "ff1a4aa3-1202-4495-9ae4-657af4a0955e"
      },
      "source": [
        "df_train_for_preprocess = data_preparation_pipeline.fit_transform(df_train[FEATURES_TO_PREPROCESS])"
      ],
      "execution_count": 35,
      "outputs": [
        {
          "output_type": "stream",
          "text": [
            "/usr/local/lib/python3.6/dist-packages/category_encoders/utils.py:21: FutureWarning: is_categorical is deprecated and will be removed in a future version.  Use is_categorical_dtype instead\n",
            "  elif pd.api.types.is_categorical(cols):\n"
          ],
          "name": "stderr"
        }
      ]
    },
    {
      "cell_type": "code",
      "metadata": {
        "id": "BIsj9_mIzfdU",
        "colab": {
          "base_uri": "https://localhost:8080/",
          "height": 1000
        },
        "outputId": "272a8286-b961-4b9d-e14f-8d091188a575"
      },
      "source": [
        "fs = SelectKBest(score_func=chi2, k='all')\n",
        "fs.fit(df_train_for_preprocess, labels_train['h1n1_vaccine'])\n",
        "\n",
        "columns = df_train_for_preprocess.columns\n",
        "for i in range(len(fs.scores_)):\n",
        "\tprint('Feature %s: %f' % (columns[i], fs.scores_[i]))\n",
        "\n",
        "# plot the scores\n",
        "plt.figure(figsize=(12,10))\n",
        "plt.barh(y=[columns[i] for i in range(len(fs.scores_))], width=fs.scores_)\n",
        "plt.show()"
      ],
      "execution_count": 36,
      "outputs": [
        {
          "output_type": "stream",
          "text": [
            "Feature h1n1_concern: 164.687357\n",
            "Feature health_insurance: 2.233737\n",
            "Feature h1n1_knowledge: 90.878947\n",
            "Feature behavioral_face_mask: 102.144120\n",
            "Feature opinion_seas_sick_from_vacc: 0.990091\n",
            "Feature child_under_6_months: 81.890439\n",
            "Feature opinion_seas_vacc_effective: 206.594796\n",
            "Feature behavioral_touch_face: 36.178083\n",
            "Feature doctor_recc_h1n1: 2609.151990\n",
            "Feature behavioral_antiviral_meds: 33.492114\n",
            "Feature opinion_h1n1_vacc_effective: 387.946306\n",
            "Feature behavioral_outside_home: 9.771560\n",
            "Feature behavioral_wash_hands: 21.875027\n",
            "Feature opinion_seas_risk: 969.182888\n",
            "Feature behavioral_avoidance: 10.269187\n",
            "Feature household_adults: 0.258914\n",
            "Feature chronic_med_condition: 144.212096\n",
            "Feature behavioral_large_gatherings: 5.809392\n",
            "Feature rent_or_own_Own: 4.199458\n",
            "Feature rent_or_own_Rent: 14.853723\n",
            "Feature opinion_h1n1_sick_from_vacc: 91.797868\n",
            "Feature race_White: 3.159689\n",
            "Feature race_Black: 41.574479\n",
            "Feature race_Other or Multiple: 0.570765\n",
            "Feature race_Hispanic: 0.019727\n",
            "Feature household_children: 0.121110\n",
            "Feature doctor_recc_seasonal: 710.369622\n",
            "Feature opinion_h1n1_risk: 1481.868815\n",
            "Feature health_worker: 545.797625\n",
            "Feature employment_status_NaN: 8.965623\n",
            "Feature employment_status_Not in Labor Force: 1.794622\n",
            "Feature employment_status_Employed: 1.240321\n",
            "Feature employment_status_Unemployed: 15.915115\n",
            "Feature census_msa_Non-MSA: 0.662899\n",
            "Feature census_msa_MSA, Principle City: 0.513583\n",
            "Feature census_msa_MSA, Not Principle  City: 1.511708\n",
            "Feature hhs_geo_region: 0.103944\n",
            "Feature sex_Female: 6.460642\n",
            "Feature sex_Male: 9.434293\n",
            "Feature marital_status_NaN: 10.756038\n",
            "Feature marital_status_Not Married: 18.125803\n",
            "Feature marital_status_Married: 25.114545\n",
            "Feature age_group: 34.464655\n",
            "Feature income_poverty: 31.574045\n",
            "Feature employment_occupation: 36.215703\n",
            "Feature education: 47.963864\n",
            "Feature employment_industry: 462.709454\n"
          ],
          "name": "stdout"
        },
        {
          "output_type": "display_data",
          "data": {
            "image/png": "[encoded data removed]",
            "text/plain": [
              "<Figure size 864x720 with 1 Axes>"
            ]
          },
          "metadata": {
            "tags": [],
            "needs_background": "light"
          }
        }
      ]
    },
    {
      "cell_type": "code",
      "metadata": {
        "id": "kwtPytzHHYVU",
        "colab": {
          "base_uri": "https://localhost:8080/"
        },
        "outputId": "e9fdc4c9-c627-4d20-b969-5c7a12267513"
      },
      "source": [
        "# Only here to show the graph above is correct with column assigments\n",
        "fs_top_4 = SelectKBest(score_func=chi2, k=4)\n",
        "\n",
        "fs_top_4.fit(df_train_for_preprocess, labels_train['h1n1_vaccine'])\n",
        "cols_to_keep = fs_top_4.get_support(indices=True)\n",
        "features_df_new = df_train_for_preprocess.iloc[:,cols_to_keep]\n",
        "features_df_new.columns"
      ],
      "execution_count": 37,
      "outputs": [
        {
          "output_type": "execute_result",
          "data": {
            "text/plain": [
              "Index(['doctor_recc_h1n1', 'opinion_seas_risk', 'doctor_recc_seasonal',\n",
              "       'opinion_h1n1_risk'],\n",
              "      dtype='object')"
            ]
          },
          "metadata": {
            "tags": []
          },
          "execution_count": 37
        }
      ]
    },
    {
      "cell_type": "code",
      "metadata": {
        "id": "u2c1uqI4I-HF",
        "colab": {
          "base_uri": "https://localhost:8080/",
          "height": 1000
        },
        "outputId": "edd24456-c5ad-412a-83a4-b91c3e65ef5f"
      },
      "source": [
        "fs = SelectKBest(score_func=mutual_info_classif, k='all')\n",
        "\n",
        "# df_train_processed = data_preparation_pipeline.fit_transform(df_train_for_preprocess)\n",
        "fs.fit(df_train_for_preprocess, labels_train['h1n1_vaccine'])\n",
        "\n",
        "for i in range(len(fs.scores_)):\n",
        "\tprint('Feature %s: %f' % (columns[i], fs.scores_[i]))\n",
        "\n",
        "# plot the scores\n",
        "plt.figure(figsize=(12,10))\n",
        "plt.barh(y=[columns[i] for i in range(len(fs.scores_))], width=fs.scores_)\n",
        "plt.show()"
      ],
      "execution_count": 38,
      "outputs": [
        {
          "output_type": "stream",
          "text": [
            "Feature h1n1_concern: 0.004609\n",
            "Feature health_insurance: 0.002640\n",
            "Feature h1n1_knowledge: 0.009518\n",
            "Feature behavioral_face_mask: 0.004724\n",
            "Feature opinion_seas_sick_from_vacc: 0.001967\n",
            "Feature child_under_6_months: 0.005487\n",
            "Feature opinion_seas_vacc_effective: 0.020026\n",
            "Feature behavioral_touch_face: 0.005124\n",
            "Feature doctor_recc_h1n1: 0.063397\n",
            "Feature behavioral_antiviral_meds: 0.000000\n",
            "Feature opinion_h1n1_vacc_effective: 0.046167\n",
            "Feature behavioral_outside_home: 0.000000\n",
            "Feature behavioral_wash_hands: 0.000000\n",
            "Feature opinion_seas_risk: 0.032113\n",
            "Feature behavioral_avoidance: 0.001615\n",
            "Feature household_adults: 0.003834\n",
            "Feature chronic_med_condition: 0.005080\n",
            "Feature behavioral_large_gatherings: 0.000000\n",
            "Feature rent_or_own_Own: 0.000000\n",
            "Feature rent_or_own_Rent: 0.000385\n",
            "Feature opinion_h1n1_sick_from_vacc: 0.009136\n",
            "Feature race_White: 0.000000\n",
            "Feature race_Black: 0.002804\n",
            "Feature race_Other or Multiple: 0.001558\n",
            "Feature race_Hispanic: 0.000000\n",
            "Feature household_children: 0.006113\n",
            "Feature doctor_recc_seasonal: 0.019017\n",
            "Feature opinion_h1n1_risk: 0.051204\n",
            "Feature health_worker: 0.011063\n",
            "Feature employment_status_NaN: 0.000000\n",
            "Feature employment_status_Not in Labor Force: 0.000000\n",
            "Feature employment_status_Employed: 0.003920\n",
            "Feature employment_status_Unemployed: 0.000789\n",
            "Feature census_msa_Non-MSA: 0.001714\n",
            "Feature census_msa_MSA, Principle City: 0.000197\n",
            "Feature census_msa_MSA, Not Principle  City: 0.003084\n",
            "Feature hhs_geo_region: 0.000000\n",
            "Feature sex_Female: 0.003933\n",
            "Feature sex_Male: 0.000000\n",
            "Feature marital_status_NaN: 0.001866\n",
            "Feature marital_status_Not Married: 0.000000\n",
            "Feature marital_status_Married: 0.003136\n",
            "Feature age_group: 0.002395\n",
            "Feature income_poverty: 0.000000\n",
            "Feature employment_occupation: 0.011357\n",
            "Feature education: 0.004190\n",
            "Feature employment_industry: 0.017747\n"
          ],
          "name": "stdout"
        },
        {
          "output_type": "display_data",
          "data": {
            "image/png": "[encoded data removed]",
            "text/plain": [
              "<Figure size 864x720 with 1 Axes>"
            ]
          },
          "metadata": {
            "tags": [],
            "needs_background": "light"
          }
        }
      ]
    },
    {
      "cell_type": "markdown",
      "metadata": {
        "id": "bCyzglwpgdvQ"
      },
      "source": [
        "## Testing Models"
      ]
    },
    {
      "cell_type": "code",
      "metadata": {
        "id": "SG3YUgtNgYHY"
      },
      "source": [
        "MODELS_FOLDER = './models'\n",
        "\n",
        "def save_model_pipeline_and_info(model_pipe_and_info, file_name):\n",
        "  full_path = os.path.join(MODELS_FOLDER, file_name)\n",
        "  with open(full_path, 'wb') as model_pipeline_and_info_file:\n",
        "    pickle.dump(model_pipe_and_info, model_pipeline_and_info_file)\n",
        "            \n",
        "def get_model_pipeline_and_info(file_name):\n",
        "  full_path = os.path.join(MODELS_FOLDER, file_name)\n",
        "  if os.path.exists(full_path):\n",
        "    with open(full_path, 'rb') as model_pipeline_and_info_file:\n",
        "      model_pipe_and_info = pickle.load(model_pipeline_and_info_file)\n",
        "  else:\n",
        "      return None\n",
        "  return model_pipe_and_info"
      ],
      "execution_count": 39,
      "outputs": []
    },
    {
      "cell_type": "code",
      "metadata": {
        "id": "nbipGSbiaUZ-"
      },
      "source": [
        "float_features_to_classify_by = float_features_to_preprocess\n",
        "string_features_to_classify_by = string_features_to_preprocess\n",
        "\n",
        "FEATURES_TO_CLASSIFY_BY = float_features_to_classify_by | string_features_to_classify_by\n",
        "df_train_for_clf = df_train[FEATURES_TO_CLASSIFY_BY]\n",
        "df_val_for_clf = df_val[FEATURES_TO_CLASSIFY_BY]\n",
        "\n",
        "labels_train_for_clf = labels_train['h1n1_vaccine']\n",
        "labels_val_for_clf = labels_val['h1n1_vaccine']"
      ],
      "execution_count": 40,
      "outputs": []
    },
    {
      "cell_type": "code",
      "metadata": {
        "id": "z-CDDiDfH0sh"
      },
      "source": [
        "# EVAL_METRIC = 'auc'\n",
        "# EARLY_STOP_EVAL_SET = df_val_for_clf\n",
        "ROC_AUC_IMPROVEMENT_MARGIN = 0.03\n",
        "\n",
        "old_best_model_so_far = get_model_pipeline_and_info(file_name='best_model_so_far.pickle')\n",
        "best_model_so_far = dict(old_best_model_so_far)\n",
        "\n",
        "def is_model_fame_worthy(scores):\n",
        "  global best_model_so_far\n",
        "  return scores['Validation'] >= (best_model_so_far['scores']['Validation'] + ROC_AUC_IMPROVEMENT_MARGIN)\n",
        "\n",
        "dict_of_fame = {\n",
        "    old_best_model_so_far['name'] : old_best_model_so_far['scores']\n",
        "    }"
      ],
      "execution_count": 43,
      "outputs": []
    },
    {
      "cell_type": "markdown",
      "metadata": {
        "id": "adovzumzYJpM"
      },
      "source": [
        "#### Classifiers"
      ]
    },
    {
      "cell_type": "code",
      "metadata": {
        "id": "tY7AXZWOhhkB"
      },
      "source": [
        "model_pipes_to_evaluate = dict()"
      ],
      "execution_count": 54,
      "outputs": []
    },
    {
      "cell_type": "markdown",
      "metadata": {
        "id": "dDlH7wD_N3kd"
      },
      "source": [
        "##### Logistic Regressor"
      ]
    },
    {
      "cell_type": "code",
      "metadata": {
        "id": "XHJUme2hN3kf"
      },
      "source": [
        "model = LogisticRegression(C=1, n_jobs=-1, verbose=False)\n",
        "model_name = 'Simple Logit Regressor'\n",
        "fit_params = dict()\n",
        "\n",
        "pipeline = Pipeline([('preprocess', data_preparation_pipeline), \n",
        "                     (model_name, model)])\n",
        "model_pipes_to_evaluate[model_name] = (pipeline, dict(fit_params))"
      ],
      "execution_count": 55,
      "outputs": []
    },
    {
      "cell_type": "markdown",
      "metadata": {
        "id": "Bdo_mFydRP9i"
      },
      "source": [
        "##### SVM"
      ]
    },
    {
      "cell_type": "code",
      "metadata": {
        "id": "y1uGPr49RP9j"
      },
      "source": [
        "model = SVC(verbose=False)\n",
        "model_name = 'Simple SVM classifier'\n",
        "fit_params = dict()\n",
        "\n",
        "pipeline = Pipeline([('preprocess', data_preparation_pipeline), \n",
        "                     (model_name, model)])\n",
        "model_pipes_to_evaluate[model_name] = (pipeline, dict(fit_params))"
      ],
      "execution_count": 57,
      "outputs": []
    },
    {
      "cell_type": "markdown",
      "metadata": {
        "id": "zxWWzL1GRu7j"
      },
      "source": [
        "##### Random Forest"
      ]
    },
    {
      "cell_type": "code",
      "metadata": {
        "id": "suK_wGK8Ru7k"
      },
      "source": [
        "model = RandomForestClassifier(n_jobs=-1, verbose=False)\n",
        "model_name = 'Simple Random Forest'\n",
        "fit_params = dict()\n",
        "\n",
        "pipeline = Pipeline([('preprocess', data_preparation_pipeline), \n",
        "                     (model_name, model)])\n",
        "model_pipes_to_evaluate[model_name] = (pipeline, dict(fit_params))"
      ],
      "execution_count": 58,
      "outputs": []
    },
    {
      "cell_type": "markdown",
      "metadata": {
        "id": "_yVi6Ay-PEXN"
      },
      "source": [
        "##### XGBoost"
      ]
    },
    {
      "cell_type": "code",
      "metadata": {
        "id": "9oAr_hy5PJnk"
      },
      "source": [
        "model_name = 'Guessed HyperParams XGBClassifier'\n",
        "model = XGBClassifier(objective = 'binary:logistic',\n",
        "                     n_estimators = 1000,\n",
        "                     learning_rate = 0.01,\n",
        "                     n_jobs = -1) # ,\n",
        "                    #  tree_method = 'gpu_hist')\n",
        "fit_params = {\n",
        "    # model_name + '__early_stopping_rounds' : 30,\n",
        "    # model_name + '__eval_set' : EARLY_STOP_EVAL_SET, \n",
        "    # model_name + '__eval_metric' : EVAL_METRIC,\n",
        "    model_name + '__verbose' : False\n",
        "}\n",
        "\n",
        "pipeline = Pipeline([('preprocess', data_preparation_pipeline), \n",
        "                     (model_name, model)])\n",
        "model_pipes_to_evaluate[model_name] = (pipeline, dict(fit_params))"
      ],
      "execution_count": 59,
      "outputs": []
    },
    {
      "cell_type": "markdown",
      "metadata": {
        "id": "T02M8vXUg35r"
      },
      "source": [
        "##### LightGBM"
      ]
    },
    {
      "cell_type": "code",
      "metadata": {
        "id": "2hh_7GlEg35w"
      },
      "source": [
        "model_name = 'Guessed HyperParams LightGBM'\n",
        "model = LGBMClassifier(n_estimators=1000, n_jobs = -1, objective = 'binary')\n",
        "fit_params = {\n",
        "    # model_name + '__early_stopping_rounds' : 30,\n",
        "    # model_name + '__eval_set' : EARLY_STOP_EVAL_SET, \n",
        "    # model_name + '__eval_metric' : EVAL_METRIC,\n",
        "    model_name + '__verbose' : False\n",
        "}\n",
        "\n",
        "pipeline = Pipeline([('preprocess', data_preparation_pipeline), \n",
        "                     (model_name, model)])\n",
        "model_pipes_to_evaluate[model_name] = (pipeline, dict(fit_params))"
      ],
      "execution_count": 60,
      "outputs": []
    },
    {
      "cell_type": "markdown",
      "metadata": {
        "id": "u2Lu3OeYaDUy"
      },
      "source": [
        "#### And for the results:"
      ]
    },
    {
      "cell_type": "code",
      "metadata": {
        "id": "2P7qyGp6qQ4C",
        "colab": {
          "base_uri": "https://localhost:8080/"
        },
        "outputId": "307b69f1-530d-4812-9d94-4a73102dead9"
      },
      "source": [
        "def evaluate_model_pipelines(model_pipelines):\n",
        "  for name, (model_pipeline, fit_params) in tqdm(model_pipelines.items()):\n",
        "    print('\\n###########################################################################')\n",
        "    print('# Model type: {}'.format(name))\n",
        "    print('###########################################################################')\n",
        "    \n",
        "    # Train the model\n",
        "    fit_start = perf_counter()\n",
        "    model_pipeline.fit(df_train_for_clf, labels_train_for_clf, **fit_params)\n",
        "    fit_end = perf_counter()\n",
        "\n",
        "    # plot_model_performance(model_history)\n",
        "    \n",
        "    # Calculate the current model's performance and time\n",
        "    # fit time is in seconds\n",
        "    fit_time = fit_end - fit_start\n",
        "    fit_time_hours = int(fit_time / 60 / 60)\n",
        "    fit_time_minutes = int(fit_time / 60 )\n",
        "    fit_time_seconds = int(fit_time % 60)\n",
        "\n",
        "    print(\"Training time: {} hours, {} minutes, {} seconds\".format(fit_time_hours, fit_time_minutes, fit_time_seconds))\n",
        "\n",
        "    train_predictions = model_pipeline.predict(df_train_for_clf)\n",
        "    val_predictions = model_pipeline.predict(df_val_for_clf)\n",
        "    # test_predictions = model_pipeline.predict(df_test_for_clf)\n",
        "\n",
        "    scores = {\n",
        "        'Training' : roc_auc_score(labels_train_for_clf, train_predictions),\n",
        "        'Validation' : roc_auc_score(labels_val_for_clf, val_predictions)\n",
        "        # 'Test' : accuracy_score(labels_test_for_clf, test_predictions)\n",
        "        }\n",
        "        \n",
        "    print()\n",
        "    for dataset_name, score in scores.items():\n",
        "      print (\"%s auc: %0.5f \" % (dataset_name, score))\n",
        "\n",
        "    if is_model_fame_worthy(scores):\n",
        "      global best_model_so_far\n",
        "      best_model_so_far = {\n",
        "          'name' : name, # Name of the model\n",
        "          'pipeline_and_params' : (model_pipeline, fit_params), # A tuple containing a sklearn.Pipeline object and a parameters dict\n",
        "          'scores' : scores, # A dict of scores on each dataset\n",
        "          'time' : fit_time # Training time in seconds\n",
        "          }\n",
        "      dict_of_fame[name] = scores\n",
        "\n",
        "  print('\\n@@@@@@@@@@@@@@@@@@@@@@@@@@@@@@@@@@@@@@@@@@@@@@@@@@@@@@@@@@@@@@@@@@@@@@@')\n",
        "  print('@ Best models roundup')\n",
        "  print('@@@@@@@@@@@@@@@@@@@@@@@@@@@@@@@@@@@@@@@@@@@@@@@@@@@@@@@@@@@@@@@@@@@@@@@')\n",
        "  for name, score in dict_of_fame.items():\n",
        "    print(f'Name: {name}\\n Scores: {score}')\n",
        "\n",
        "evaluate_model_pipelines(model_pipes_to_evaluate)"
      ],
      "execution_count": 62,
      "outputs": [
        {
          "output_type": "stream",
          "text": [
            "\n",
            "  0%|          | 0/5 [00:00<?, ?it/s]\u001b[A"
          ],
          "name": "stderr"
        },
        {
          "output_type": "stream",
          "text": [
            "\n",
            "###########################################################################\n",
            "# Model type: Simple Logit Regressor\n",
            "###########################################################################\n"
          ],
          "name": "stdout"
        },
        {
          "output_type": "stream",
          "text": [
            "/usr/local/lib/python3.6/dist-packages/category_encoders/utils.py:21: FutureWarning: is_categorical is deprecated and will be removed in a future version.  Use is_categorical_dtype instead\n",
            "  elif pd.api.types.is_categorical(cols):\n",
            "/usr/local/lib/python3.6/dist-packages/category_encoders/utils.py:21: FutureWarning: is_categorical is deprecated and will be removed in a future version.  Use is_categorical_dtype instead\n",
            "  elif pd.api.types.is_categorical(cols):\n"
          ],
          "name": "stderr"
        },
        {
          "output_type": "stream",
          "text": [
            "Training time: 0 hours, 0 minutes, 2 seconds\n"
          ],
          "name": "stdout"
        },
        {
          "output_type": "stream",
          "text": [
            "\n",
            " 20%|██        | 1/5 [00:03<00:12,  3.11s/it]\u001b[A"
          ],
          "name": "stderr"
        },
        {
          "output_type": "stream",
          "text": [
            "\n",
            "Training auc: 0.68120 \n",
            "Validation auc: 0.68569 \n",
            "\n",
            "###########################################################################\n",
            "# Model type: Simple SVM classifier\n",
            "###########################################################################\n"
          ],
          "name": "stdout"
        },
        {
          "output_type": "stream",
          "text": [
            "/usr/local/lib/python3.6/dist-packages/category_encoders/utils.py:21: FutureWarning: is_categorical is deprecated and will be removed in a future version.  Use is_categorical_dtype instead\n",
            "  elif pd.api.types.is_categorical(cols):\n",
            "/usr/local/lib/python3.6/dist-packages/category_encoders/utils.py:21: FutureWarning: is_categorical is deprecated and will be removed in a future version.  Use is_categorical_dtype instead\n",
            "  elif pd.api.types.is_categorical(cols):\n"
          ],
          "name": "stderr"
        },
        {
          "output_type": "stream",
          "text": [
            "Training time: 0 hours, 0 minutes, 26 seconds\n"
          ],
          "name": "stdout"
        },
        {
          "output_type": "stream",
          "text": [
            "\n",
            " 40%|████      | 2/5 [00:51<00:49, 16.65s/it]\u001b[A"
          ],
          "name": "stderr"
        },
        {
          "output_type": "stream",
          "text": [
            "\n",
            "Training auc: 0.65911 \n",
            "Validation auc: 0.65513 \n",
            "\n",
            "###########################################################################\n",
            "# Model type: Simple Random Forest\n",
            "###########################################################################\n"
          ],
          "name": "stdout"
        },
        {
          "output_type": "stream",
          "text": [
            "/usr/local/lib/python3.6/dist-packages/category_encoders/utils.py:21: FutureWarning: is_categorical is deprecated and will be removed in a future version.  Use is_categorical_dtype instead\n",
            "  elif pd.api.types.is_categorical(cols):\n",
            "/usr/local/lib/python3.6/dist-packages/category_encoders/utils.py:21: FutureWarning: is_categorical is deprecated and will be removed in a future version.  Use is_categorical_dtype instead\n",
            "  elif pd.api.types.is_categorical(cols):\n"
          ],
          "name": "stderr"
        },
        {
          "output_type": "stream",
          "text": [
            "Training time: 0 hours, 0 minutes, 2 seconds\n"
          ],
          "name": "stdout"
        },
        {
          "output_type": "stream",
          "text": [
            "\n",
            " 60%|██████    | 3/5 [00:55<00:25, 12.92s/it]\u001b[A"
          ],
          "name": "stderr"
        },
        {
          "output_type": "stream",
          "text": [
            "\n",
            "Training auc: 1.00000 \n",
            "Validation auc: 0.67469 \n",
            "\n",
            "###########################################################################\n",
            "# Model type: Guessed HyperParams XGBClassifier\n",
            "###########################################################################\n"
          ],
          "name": "stdout"
        },
        {
          "output_type": "stream",
          "text": [
            "/usr/local/lib/python3.6/dist-packages/category_encoders/utils.py:21: FutureWarning: is_categorical is deprecated and will be removed in a future version.  Use is_categorical_dtype instead\n",
            "  elif pd.api.types.is_categorical(cols):\n",
            "/usr/local/lib/python3.6/dist-packages/category_encoders/utils.py:21: FutureWarning: is_categorical is deprecated and will be removed in a future version.  Use is_categorical_dtype instead\n",
            "  elif pd.api.types.is_categorical(cols):\n"
          ],
          "name": "stderr"
        },
        {
          "output_type": "stream",
          "text": [
            "Training time: 0 hours, 0 minutes, 20 seconds\n"
          ],
          "name": "stdout"
        },
        {
          "output_type": "stream",
          "text": [
            "\n",
            " 80%|████████  | 4/5 [01:17<00:15, 15.63s/it]\u001b[A"
          ],
          "name": "stderr"
        },
        {
          "output_type": "stream",
          "text": [
            "\n",
            "Training auc: 0.69634 \n",
            "Validation auc: 0.69490 \n",
            "\n",
            "###########################################################################\n",
            "# Model type: Guessed HyperParams LightGBM\n",
            "###########################################################################\n"
          ],
          "name": "stdout"
        },
        {
          "output_type": "stream",
          "text": [
            "/usr/local/lib/python3.6/dist-packages/category_encoders/utils.py:21: FutureWarning: is_categorical is deprecated and will be removed in a future version.  Use is_categorical_dtype instead\n",
            "  elif pd.api.types.is_categorical(cols):\n",
            "/usr/local/lib/python3.6/dist-packages/category_encoders/utils.py:21: FutureWarning: is_categorical is deprecated and will be removed in a future version.  Use is_categorical_dtype instead\n",
            "  elif pd.api.types.is_categorical(cols):\n"
          ],
          "name": "stderr"
        },
        {
          "output_type": "stream",
          "text": [
            "Training time: 0 hours, 0 minutes, 4 seconds\n"
          ],
          "name": "stdout"
        },
        {
          "output_type": "stream",
          "text": [
            "\n",
            "100%|██████████| 5/5 [01:23<00:00, 16.72s/it]"
          ],
          "name": "stderr"
        },
        {
          "output_type": "stream",
          "text": [
            "\n",
            "Training auc: 0.95029 \n",
            "Validation auc: 0.70544 \n",
            "\n",
            "@@@@@@@@@@@@@@@@@@@@@@@@@@@@@@@@@@@@@@@@@@@@@@@@@@@@@@@@@@@@@@@@@@@@@@@\n",
            "@ Best models roundup\n",
            "@@@@@@@@@@@@@@@@@@@@@@@@@@@@@@@@@@@@@@@@@@@@@@@@@@@@@@@@@@@@@@@@@@@@@@@\n",
            "Name: Guessed HyperParams LightGBM\n",
            " Scores: {'Training': 0.9502881745724211, 'Validation': 0.7054415777513073}\n"
          ],
          "name": "stdout"
        },
        {
          "output_type": "stream",
          "text": [
            "\n"
          ],
          "name": "stderr"
        }
      ]
    },
    {
      "cell_type": "code",
      "metadata": {
        "colab": {
          "base_uri": "https://localhost:8080/"
        },
        "id": "1JenMkpnrw37",
        "outputId": "db837c91-0b2d-475c-9d90-e39d214caa64"
      },
      "source": [
        "save_model_pipeline_and_info(best_model_so_far, file_name='best_model_so_far.pickle')\r\n",
        "best_model_so_far"
      ],
      "execution_count": null,
      "outputs": [
        {
          "output_type": "execute_result",
          "data": {
            "text/plain": [
              "{'name': 'Guessed HyperParams LightGBM',\n",
              " 'pipeline_and_params': (Pipeline(memory=None,\n",
              "           steps=[('preprocess',\n",
              "                   Pipeline(memory=None,\n",
              "                            steps=[('Impute',\n",
              "                                    DataFrameMapper(default=False, df_out=True,\n",
              "                                                    features=[(['opinion_seas_vacc_effective'],\n",
              "                                                               [SimpleImputer(add_indicator=False,\n",
              "                                                                              copy=True,\n",
              "                                                                              fill_value=None,\n",
              "                                                                              missing_values=nan,\n",
              "                                                                              strategy='most_frequent',\n",
              "                                                                              verbose=0)]),\n",
              "                                                              (['behavioral_avoidance'],\n",
              "                                                               [SimpleImputer(add_indicator=False,\n",
              "                                                                              copy=T...\n",
              "                   LGBMClassifier(boosting_type='gbdt', class_weight=None,\n",
              "                                  colsample_bytree=1.0, importance_type='split',\n",
              "                                  learning_rate=0.1, max_depth=-1,\n",
              "                                  min_child_samples=20, min_child_weight=0.001,\n",
              "                                  min_split_gain=0.0, n_estimators=1000,\n",
              "                                  n_jobs=-1, num_leaves=31, objective='binary',\n",
              "                                  random_state=None, reg_alpha=0.0,\n",
              "                                  reg_lambda=0.0, silent=True, subsample=1.0,\n",
              "                                  subsample_for_bin=200000, subsample_freq=0))],\n",
              "           verbose=False), {'LightGBM__verbose': False}),\n",
              " 'scores': {'Training': 0.9502881745724211, 'Validation': 0.7054415777513073},\n",
              " 'time': 4.6376927830024215}"
            ]
          },
          "metadata": {
            "tags": []
          },
          "execution_count": 69
        }
      ]
    }
  ]
}