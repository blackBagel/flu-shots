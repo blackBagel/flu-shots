{
  "nbformat": 4,
  "nbformat_minor": 0,
  "metadata": {
    "colab": {
      "name": "Flu shot forecast.ipynb",
      "provenance": [],
      "collapsed_sections": [],
      "authorship_tag": "ABX9TyMkDgJEqdch9HAGqaHLY7kp",
      "include_colab_link": true
    },
    "kernelspec": {
      "name": "python3",
      "display_name": "Python 3"
    }
  },
  "cells": [
    {
      "cell_type": "markdown",
      "metadata": {
        "id": "view-in-github",
        "colab_type": "text"
      },
      "source": [
        "<a href=\"https://colab.research.google.com/github/blackBagel/flu-shots/blob/main/Flu_shot_forecast.ipynb\" target=\"_parent\"><img src=\"https://colab.research.google.com/assets/colab-badge.svg\" alt=\"Open In Colab\"/></a>"
      ]
    },
    {
      "cell_type": "code",
      "metadata": {
        "colab": {
          "base_uri": "https://localhost:8080/"
        },
        "id": "eMrl6usofinv",
        "outputId": "ebe6533c-6117-4294-d1ea-a64269c907f7"
      },
      "source": [
        "! pip install category_encoders sklearn-pandas"
      ],
      "execution_count": 1,
      "outputs": [
        {
          "output_type": "stream",
          "text": [
            "Collecting category_encoders\n",
            "\u001b[?25l  Downloading https://files.pythonhosted.org/packages/44/57/fcef41c248701ee62e8325026b90c432adea35555cbc870aff9cfba23727/category_encoders-2.2.2-py2.py3-none-any.whl (80kB)\n",
            "\r\u001b[K     |████                            | 10kB 12.9MB/s eta 0:00:01\r\u001b[K     |████████▏                       | 20kB 18.3MB/s eta 0:00:01\r\u001b[K     |████████████▏                   | 30kB 22.8MB/s eta 0:00:01\r\u001b[K     |████████████████▎               | 40kB 26.4MB/s eta 0:00:01\r\u001b[K     |████████████████████▎           | 51kB 4.3MB/s eta 0:00:01\r\u001b[K     |████████████████████████▍       | 61kB 5.0MB/s eta 0:00:01\r\u001b[K     |████████████████████████████▍   | 71kB 5.7MB/s eta 0:00:01\r\u001b[K     |████████████████████████████████| 81kB 3.8MB/s \n",
            "\u001b[?25hRequirement already satisfied: sklearn-pandas in /usr/local/lib/python3.6/dist-packages (1.8.0)\n",
            "Requirement already satisfied: pandas>=0.21.1 in /usr/local/lib/python3.6/dist-packages (from category_encoders) (1.1.5)\n",
            "Requirement already satisfied: statsmodels>=0.9.0 in /usr/local/lib/python3.6/dist-packages (from category_encoders) (0.10.2)\n",
            "Requirement already satisfied: scikit-learn>=0.20.0 in /usr/local/lib/python3.6/dist-packages (from category_encoders) (0.22.2.post1)\n",
            "Requirement already satisfied: scipy>=1.0.0 in /usr/local/lib/python3.6/dist-packages (from category_encoders) (1.4.1)\n",
            "Requirement already satisfied: numpy>=1.14.0 in /usr/local/lib/python3.6/dist-packages (from category_encoders) (1.19.4)\n",
            "Requirement already satisfied: patsy>=0.5.1 in /usr/local/lib/python3.6/dist-packages (from category_encoders) (0.5.1)\n",
            "Requirement already satisfied: pytz>=2017.2 in /usr/local/lib/python3.6/dist-packages (from pandas>=0.21.1->category_encoders) (2018.9)\n",
            "Requirement already satisfied: python-dateutil>=2.7.3 in /usr/local/lib/python3.6/dist-packages (from pandas>=0.21.1->category_encoders) (2.8.1)\n",
            "Requirement already satisfied: joblib>=0.11 in /usr/local/lib/python3.6/dist-packages (from scikit-learn>=0.20.0->category_encoders) (1.0.0)\n",
            "Requirement already satisfied: six in /usr/local/lib/python3.6/dist-packages (from patsy>=0.5.1->category_encoders) (1.15.0)\n",
            "Installing collected packages: category-encoders\n",
            "Successfully installed category-encoders-2.2.2\n"
          ],
          "name": "stdout"
        }
      ]
    },
    {
      "cell_type": "code",
      "metadata": {
        "id": "q0zKwjfW3nWP",
        "colab": {
          "base_uri": "https://localhost:8080/"
        },
        "outputId": "403ea39a-8dd0-4116-e9f1-0e1047f7d233"
      },
      "source": [
        "# from __future__ import print_function\n",
        "import pandas as pd\n",
        "import numpy as np\n",
        "import os\n",
        "from google.colab import drive\n",
        "from tqdm import tqdm\n",
        "# from joblib import Parallel, delayed\n",
        "# import re\n",
        "import math\n",
        "from sklearn.impute import SimpleImputer\n",
        "# from sklearn.experimental import enable_iterative_imputer\n",
        "# from sklearn.impute import IterativeImputer\n",
        "from sklearn_pandas import DataFrameMapper, gen_features\n",
        "from category_encoders import OneHotEncoder, OrdinalEncoder\n",
        "# from category_encoders import CountEncoder\n",
        "# from sklearn.model_selection import train_test_split\n",
        "from sklearn.model_selection import cross_validate, StratifiedShuffleSplit\n",
        "from sklearn.metrics import roc_auc_score\n",
        "from sklearn.pipeline import Pipeline\n",
        "# from sklearn.compose import ColumnTransformer\n",
        "from sklearn.feature_selection import SelectKBest, chi2, mutual_info_classif\n",
        "\n",
        "from sklearn.linear_model import LogisticRegression\n",
        "from sklearn.svm import SVC\n",
        "# from sklearn.naive_bayes import MultinomialNB\n",
        "from sklearn.ensemble import RandomForestClassifier\n",
        "from xgboost import XGBClassifier\n",
        "from lightgbm import LGBMClassifier\n",
        "\n",
        "# import eli5\n",
        "import pickle\n",
        "from time import perf_counter\n",
        "import matplotlib.pyplot as plt\n",
        "%matplotlib inline"
      ],
      "execution_count": 2,
      "outputs": [
        {
          "output_type": "stream",
          "text": [
            "/usr/local/lib/python3.6/dist-packages/statsmodels/tools/_testing.py:19: FutureWarning: pandas.util.testing is deprecated. Use the functions in the public API at pandas.testing instead.\n",
            "  import pandas.util.testing as tm\n"
          ],
          "name": "stderr"
        }
      ]
    },
    {
      "cell_type": "code",
      "metadata": {
        "id": "s3rl9ji-gO6L",
        "colab": {
          "base_uri": "https://localhost:8080/"
        },
        "outputId": "2039dd94-c62f-4218-9dda-c408947ff917"
      },
      "source": [
        "DRIVE_PATH = '/gdrive/My Drive/Data_Projects/Flu_Shots'\n",
        "drive.mount('/gdrive')\n",
        "os.chdir(DRIVE_PATH)\n",
        "!ls"
      ],
      "execution_count": 3,
      "outputs": [
        {
          "output_type": "stream",
          "text": [
            "Mounted at /gdrive\n",
            "models\t\t       test_set_features.csv\t  training_set_labels.csv\n",
            "submission_format.csv  training_set_features.csv\n"
          ],
          "name": "stdout"
        }
      ]
    },
    {
      "cell_type": "code",
      "metadata": {
        "id": "Ye0RaaW3_-8c"
      },
      "source": [
        "df_train = pd.read_csv(\"training_set_features.csv\")\n",
        "labels_train = pd.read_csv(\"training_set_labels.csv\")"
      ],
      "execution_count": 4,
      "outputs": []
    },
    {
      "cell_type": "code",
      "metadata": {
        "id": "w02OyLWKl7mD",
        "colab": {
          "base_uri": "https://localhost:8080/",
          "height": 730
        },
        "outputId": "94a99acf-970c-4259-a97b-6473d43d150b"
      },
      "source": [
        "df_train"
      ],
      "execution_count": 5,
      "outputs": [
        {
          "output_type": "execute_result",
          "data": {
            "text/html": [
              "<div>\n",
              "<style scoped>\n",
              "    .dataframe tbody tr th:only-of-type {\n",
              "        vertical-align: middle;\n",
              "    }\n",
              "\n",
              "    .dataframe tbody tr th {\n",
              "        vertical-align: top;\n",
              "    }\n",
              "\n",
              "    .dataframe thead th {\n",
              "        text-align: right;\n",
              "    }\n",
              "</style>\n",
              "<table border=\"1\" class=\"dataframe\">\n",
              "  <thead>\n",
              "    <tr style=\"text-align: right;\">\n",
              "      <th></th>\n",
              "      <th>respondent_id</th>\n",
              "      <th>h1n1_concern</th>\n",
              "      <th>h1n1_knowledge</th>\n",
              "      <th>behavioral_antiviral_meds</th>\n",
              "      <th>behavioral_avoidance</th>\n",
              "      <th>behavioral_face_mask</th>\n",
              "      <th>behavioral_wash_hands</th>\n",
              "      <th>behavioral_large_gatherings</th>\n",
              "      <th>behavioral_outside_home</th>\n",
              "      <th>behavioral_touch_face</th>\n",
              "      <th>doctor_recc_h1n1</th>\n",
              "      <th>doctor_recc_seasonal</th>\n",
              "      <th>chronic_med_condition</th>\n",
              "      <th>child_under_6_months</th>\n",
              "      <th>health_worker</th>\n",
              "      <th>health_insurance</th>\n",
              "      <th>opinion_h1n1_vacc_effective</th>\n",
              "      <th>opinion_h1n1_risk</th>\n",
              "      <th>opinion_h1n1_sick_from_vacc</th>\n",
              "      <th>opinion_seas_vacc_effective</th>\n",
              "      <th>opinion_seas_risk</th>\n",
              "      <th>opinion_seas_sick_from_vacc</th>\n",
              "      <th>age_group</th>\n",
              "      <th>education</th>\n",
              "      <th>race</th>\n",
              "      <th>sex</th>\n",
              "      <th>income_poverty</th>\n",
              "      <th>marital_status</th>\n",
              "      <th>rent_or_own</th>\n",
              "      <th>employment_status</th>\n",
              "      <th>hhs_geo_region</th>\n",
              "      <th>census_msa</th>\n",
              "      <th>household_adults</th>\n",
              "      <th>household_children</th>\n",
              "      <th>employment_industry</th>\n",
              "      <th>employment_occupation</th>\n",
              "    </tr>\n",
              "  </thead>\n",
              "  <tbody>\n",
              "    <tr>\n",
              "      <th>0</th>\n",
              "      <td>0</td>\n",
              "      <td>1.0</td>\n",
              "      <td>0.0</td>\n",
              "      <td>0.0</td>\n",
              "      <td>0.0</td>\n",
              "      <td>0.0</td>\n",
              "      <td>0.0</td>\n",
              "      <td>0.0</td>\n",
              "      <td>1.0</td>\n",
              "      <td>1.0</td>\n",
              "      <td>0.0</td>\n",
              "      <td>0.0</td>\n",
              "      <td>0.0</td>\n",
              "      <td>0.0</td>\n",
              "      <td>0.0</td>\n",
              "      <td>1.0</td>\n",
              "      <td>3.0</td>\n",
              "      <td>1.0</td>\n",
              "      <td>2.0</td>\n",
              "      <td>2.0</td>\n",
              "      <td>1.0</td>\n",
              "      <td>2.0</td>\n",
              "      <td>55 - 64 Years</td>\n",
              "      <td>&lt; 12 Years</td>\n",
              "      <td>White</td>\n",
              "      <td>Female</td>\n",
              "      <td>Below Poverty</td>\n",
              "      <td>Not Married</td>\n",
              "      <td>Own</td>\n",
              "      <td>Not in Labor Force</td>\n",
              "      <td>oxchjgsf</td>\n",
              "      <td>Non-MSA</td>\n",
              "      <td>0.0</td>\n",
              "      <td>0.0</td>\n",
              "      <td>NaN</td>\n",
              "      <td>NaN</td>\n",
              "    </tr>\n",
              "    <tr>\n",
              "      <th>1</th>\n",
              "      <td>1</td>\n",
              "      <td>3.0</td>\n",
              "      <td>2.0</td>\n",
              "      <td>0.0</td>\n",
              "      <td>1.0</td>\n",
              "      <td>0.0</td>\n",
              "      <td>1.0</td>\n",
              "      <td>0.0</td>\n",
              "      <td>1.0</td>\n",
              "      <td>1.0</td>\n",
              "      <td>0.0</td>\n",
              "      <td>0.0</td>\n",
              "      <td>0.0</td>\n",
              "      <td>0.0</td>\n",
              "      <td>0.0</td>\n",
              "      <td>1.0</td>\n",
              "      <td>5.0</td>\n",
              "      <td>4.0</td>\n",
              "      <td>4.0</td>\n",
              "      <td>4.0</td>\n",
              "      <td>2.0</td>\n",
              "      <td>4.0</td>\n",
              "      <td>35 - 44 Years</td>\n",
              "      <td>12 Years</td>\n",
              "      <td>White</td>\n",
              "      <td>Male</td>\n",
              "      <td>Below Poverty</td>\n",
              "      <td>Not Married</td>\n",
              "      <td>Rent</td>\n",
              "      <td>Employed</td>\n",
              "      <td>bhuqouqj</td>\n",
              "      <td>MSA, Not Principle  City</td>\n",
              "      <td>0.0</td>\n",
              "      <td>0.0</td>\n",
              "      <td>pxcmvdjn</td>\n",
              "      <td>xgwztkwe</td>\n",
              "    </tr>\n",
              "    <tr>\n",
              "      <th>2</th>\n",
              "      <td>2</td>\n",
              "      <td>1.0</td>\n",
              "      <td>1.0</td>\n",
              "      <td>0.0</td>\n",
              "      <td>1.0</td>\n",
              "      <td>0.0</td>\n",
              "      <td>0.0</td>\n",
              "      <td>0.0</td>\n",
              "      <td>0.0</td>\n",
              "      <td>0.0</td>\n",
              "      <td>NaN</td>\n",
              "      <td>NaN</td>\n",
              "      <td>1.0</td>\n",
              "      <td>0.0</td>\n",
              "      <td>0.0</td>\n",
              "      <td>NaN</td>\n",
              "      <td>3.0</td>\n",
              "      <td>1.0</td>\n",
              "      <td>1.0</td>\n",
              "      <td>4.0</td>\n",
              "      <td>1.0</td>\n",
              "      <td>2.0</td>\n",
              "      <td>18 - 34 Years</td>\n",
              "      <td>College Graduate</td>\n",
              "      <td>White</td>\n",
              "      <td>Male</td>\n",
              "      <td>&lt;= $75,000, Above Poverty</td>\n",
              "      <td>Not Married</td>\n",
              "      <td>Own</td>\n",
              "      <td>Employed</td>\n",
              "      <td>qufhixun</td>\n",
              "      <td>MSA, Not Principle  City</td>\n",
              "      <td>2.0</td>\n",
              "      <td>0.0</td>\n",
              "      <td>rucpziij</td>\n",
              "      <td>xtkaffoo</td>\n",
              "    </tr>\n",
              "    <tr>\n",
              "      <th>3</th>\n",
              "      <td>3</td>\n",
              "      <td>1.0</td>\n",
              "      <td>1.0</td>\n",
              "      <td>0.0</td>\n",
              "      <td>1.0</td>\n",
              "      <td>0.0</td>\n",
              "      <td>1.0</td>\n",
              "      <td>1.0</td>\n",
              "      <td>0.0</td>\n",
              "      <td>0.0</td>\n",
              "      <td>0.0</td>\n",
              "      <td>1.0</td>\n",
              "      <td>1.0</td>\n",
              "      <td>0.0</td>\n",
              "      <td>0.0</td>\n",
              "      <td>NaN</td>\n",
              "      <td>3.0</td>\n",
              "      <td>3.0</td>\n",
              "      <td>5.0</td>\n",
              "      <td>5.0</td>\n",
              "      <td>4.0</td>\n",
              "      <td>1.0</td>\n",
              "      <td>65+ Years</td>\n",
              "      <td>12 Years</td>\n",
              "      <td>White</td>\n",
              "      <td>Female</td>\n",
              "      <td>Below Poverty</td>\n",
              "      <td>Not Married</td>\n",
              "      <td>Rent</td>\n",
              "      <td>Not in Labor Force</td>\n",
              "      <td>lrircsnp</td>\n",
              "      <td>MSA, Principle City</td>\n",
              "      <td>0.0</td>\n",
              "      <td>0.0</td>\n",
              "      <td>NaN</td>\n",
              "      <td>NaN</td>\n",
              "    </tr>\n",
              "    <tr>\n",
              "      <th>4</th>\n",
              "      <td>4</td>\n",
              "      <td>2.0</td>\n",
              "      <td>1.0</td>\n",
              "      <td>0.0</td>\n",
              "      <td>1.0</td>\n",
              "      <td>0.0</td>\n",
              "      <td>1.0</td>\n",
              "      <td>1.0</td>\n",
              "      <td>0.0</td>\n",
              "      <td>1.0</td>\n",
              "      <td>0.0</td>\n",
              "      <td>0.0</td>\n",
              "      <td>0.0</td>\n",
              "      <td>0.0</td>\n",
              "      <td>0.0</td>\n",
              "      <td>NaN</td>\n",
              "      <td>3.0</td>\n",
              "      <td>3.0</td>\n",
              "      <td>2.0</td>\n",
              "      <td>3.0</td>\n",
              "      <td>1.0</td>\n",
              "      <td>4.0</td>\n",
              "      <td>45 - 54 Years</td>\n",
              "      <td>Some College</td>\n",
              "      <td>White</td>\n",
              "      <td>Female</td>\n",
              "      <td>&lt;= $75,000, Above Poverty</td>\n",
              "      <td>Married</td>\n",
              "      <td>Own</td>\n",
              "      <td>Employed</td>\n",
              "      <td>qufhixun</td>\n",
              "      <td>MSA, Not Principle  City</td>\n",
              "      <td>1.0</td>\n",
              "      <td>0.0</td>\n",
              "      <td>wxleyezf</td>\n",
              "      <td>emcorrxb</td>\n",
              "    </tr>\n",
              "    <tr>\n",
              "      <th>...</th>\n",
              "      <td>...</td>\n",
              "      <td>...</td>\n",
              "      <td>...</td>\n",
              "      <td>...</td>\n",
              "      <td>...</td>\n",
              "      <td>...</td>\n",
              "      <td>...</td>\n",
              "      <td>...</td>\n",
              "      <td>...</td>\n",
              "      <td>...</td>\n",
              "      <td>...</td>\n",
              "      <td>...</td>\n",
              "      <td>...</td>\n",
              "      <td>...</td>\n",
              "      <td>...</td>\n",
              "      <td>...</td>\n",
              "      <td>...</td>\n",
              "      <td>...</td>\n",
              "      <td>...</td>\n",
              "      <td>...</td>\n",
              "      <td>...</td>\n",
              "      <td>...</td>\n",
              "      <td>...</td>\n",
              "      <td>...</td>\n",
              "      <td>...</td>\n",
              "      <td>...</td>\n",
              "      <td>...</td>\n",
              "      <td>...</td>\n",
              "      <td>...</td>\n",
              "      <td>...</td>\n",
              "      <td>...</td>\n",
              "      <td>...</td>\n",
              "      <td>...</td>\n",
              "      <td>...</td>\n",
              "      <td>...</td>\n",
              "      <td>...</td>\n",
              "    </tr>\n",
              "    <tr>\n",
              "      <th>26702</th>\n",
              "      <td>26702</td>\n",
              "      <td>2.0</td>\n",
              "      <td>0.0</td>\n",
              "      <td>0.0</td>\n",
              "      <td>1.0</td>\n",
              "      <td>0.0</td>\n",
              "      <td>0.0</td>\n",
              "      <td>0.0</td>\n",
              "      <td>1.0</td>\n",
              "      <td>0.0</td>\n",
              "      <td>0.0</td>\n",
              "      <td>0.0</td>\n",
              "      <td>0.0</td>\n",
              "      <td>0.0</td>\n",
              "      <td>0.0</td>\n",
              "      <td>NaN</td>\n",
              "      <td>3.0</td>\n",
              "      <td>1.0</td>\n",
              "      <td>1.0</td>\n",
              "      <td>5.0</td>\n",
              "      <td>2.0</td>\n",
              "      <td>2.0</td>\n",
              "      <td>65+ Years</td>\n",
              "      <td>Some College</td>\n",
              "      <td>White</td>\n",
              "      <td>Female</td>\n",
              "      <td>&lt;= $75,000, Above Poverty</td>\n",
              "      <td>Not Married</td>\n",
              "      <td>Own</td>\n",
              "      <td>Not in Labor Force</td>\n",
              "      <td>qufhixun</td>\n",
              "      <td>Non-MSA</td>\n",
              "      <td>0.0</td>\n",
              "      <td>0.0</td>\n",
              "      <td>NaN</td>\n",
              "      <td>NaN</td>\n",
              "    </tr>\n",
              "    <tr>\n",
              "      <th>26703</th>\n",
              "      <td>26703</td>\n",
              "      <td>1.0</td>\n",
              "      <td>2.0</td>\n",
              "      <td>0.0</td>\n",
              "      <td>1.0</td>\n",
              "      <td>0.0</td>\n",
              "      <td>1.0</td>\n",
              "      <td>0.0</td>\n",
              "      <td>0.0</td>\n",
              "      <td>0.0</td>\n",
              "      <td>1.0</td>\n",
              "      <td>1.0</td>\n",
              "      <td>0.0</td>\n",
              "      <td>0.0</td>\n",
              "      <td>1.0</td>\n",
              "      <td>1.0</td>\n",
              "      <td>4.0</td>\n",
              "      <td>2.0</td>\n",
              "      <td>2.0</td>\n",
              "      <td>5.0</td>\n",
              "      <td>1.0</td>\n",
              "      <td>1.0</td>\n",
              "      <td>18 - 34 Years</td>\n",
              "      <td>College Graduate</td>\n",
              "      <td>White</td>\n",
              "      <td>Male</td>\n",
              "      <td>&lt;= $75,000, Above Poverty</td>\n",
              "      <td>Not Married</td>\n",
              "      <td>Rent</td>\n",
              "      <td>Employed</td>\n",
              "      <td>lzgpxyit</td>\n",
              "      <td>MSA, Principle City</td>\n",
              "      <td>1.0</td>\n",
              "      <td>0.0</td>\n",
              "      <td>fcxhlnwr</td>\n",
              "      <td>cmhcxjea</td>\n",
              "    </tr>\n",
              "    <tr>\n",
              "      <th>26704</th>\n",
              "      <td>26704</td>\n",
              "      <td>2.0</td>\n",
              "      <td>2.0</td>\n",
              "      <td>0.0</td>\n",
              "      <td>1.0</td>\n",
              "      <td>1.0</td>\n",
              "      <td>1.0</td>\n",
              "      <td>1.0</td>\n",
              "      <td>0.0</td>\n",
              "      <td>1.0</td>\n",
              "      <td>0.0</td>\n",
              "      <td>0.0</td>\n",
              "      <td>0.0</td>\n",
              "      <td>0.0</td>\n",
              "      <td>0.0</td>\n",
              "      <td>NaN</td>\n",
              "      <td>4.0</td>\n",
              "      <td>4.0</td>\n",
              "      <td>2.0</td>\n",
              "      <td>5.0</td>\n",
              "      <td>4.0</td>\n",
              "      <td>2.0</td>\n",
              "      <td>55 - 64 Years</td>\n",
              "      <td>Some College</td>\n",
              "      <td>White</td>\n",
              "      <td>Female</td>\n",
              "      <td>NaN</td>\n",
              "      <td>Not Married</td>\n",
              "      <td>Own</td>\n",
              "      <td>NaN</td>\n",
              "      <td>lzgpxyit</td>\n",
              "      <td>MSA, Not Principle  City</td>\n",
              "      <td>0.0</td>\n",
              "      <td>0.0</td>\n",
              "      <td>NaN</td>\n",
              "      <td>NaN</td>\n",
              "    </tr>\n",
              "    <tr>\n",
              "      <th>26705</th>\n",
              "      <td>26705</td>\n",
              "      <td>1.0</td>\n",
              "      <td>1.0</td>\n",
              "      <td>0.0</td>\n",
              "      <td>0.0</td>\n",
              "      <td>0.0</td>\n",
              "      <td>0.0</td>\n",
              "      <td>0.0</td>\n",
              "      <td>0.0</td>\n",
              "      <td>NaN</td>\n",
              "      <td>0.0</td>\n",
              "      <td>0.0</td>\n",
              "      <td>0.0</td>\n",
              "      <td>0.0</td>\n",
              "      <td>0.0</td>\n",
              "      <td>0.0</td>\n",
              "      <td>3.0</td>\n",
              "      <td>1.0</td>\n",
              "      <td>2.0</td>\n",
              "      <td>2.0</td>\n",
              "      <td>1.0</td>\n",
              "      <td>2.0</td>\n",
              "      <td>18 - 34 Years</td>\n",
              "      <td>Some College</td>\n",
              "      <td>Hispanic</td>\n",
              "      <td>Female</td>\n",
              "      <td>&lt;= $75,000, Above Poverty</td>\n",
              "      <td>Married</td>\n",
              "      <td>Rent</td>\n",
              "      <td>Employed</td>\n",
              "      <td>lrircsnp</td>\n",
              "      <td>Non-MSA</td>\n",
              "      <td>1.0</td>\n",
              "      <td>0.0</td>\n",
              "      <td>fcxhlnwr</td>\n",
              "      <td>haliazsg</td>\n",
              "    </tr>\n",
              "    <tr>\n",
              "      <th>26706</th>\n",
              "      <td>26706</td>\n",
              "      <td>0.0</td>\n",
              "      <td>0.0</td>\n",
              "      <td>0.0</td>\n",
              "      <td>1.0</td>\n",
              "      <td>0.0</td>\n",
              "      <td>0.0</td>\n",
              "      <td>0.0</td>\n",
              "      <td>0.0</td>\n",
              "      <td>0.0</td>\n",
              "      <td>0.0</td>\n",
              "      <td>0.0</td>\n",
              "      <td>0.0</td>\n",
              "      <td>0.0</td>\n",
              "      <td>0.0</td>\n",
              "      <td>1.0</td>\n",
              "      <td>5.0</td>\n",
              "      <td>1.0</td>\n",
              "      <td>1.0</td>\n",
              "      <td>5.0</td>\n",
              "      <td>1.0</td>\n",
              "      <td>1.0</td>\n",
              "      <td>65+ Years</td>\n",
              "      <td>Some College</td>\n",
              "      <td>White</td>\n",
              "      <td>Male</td>\n",
              "      <td>&lt;= $75,000, Above Poverty</td>\n",
              "      <td>Married</td>\n",
              "      <td>Own</td>\n",
              "      <td>Not in Labor Force</td>\n",
              "      <td>mlyzmhmf</td>\n",
              "      <td>MSA, Principle City</td>\n",
              "      <td>1.0</td>\n",
              "      <td>0.0</td>\n",
              "      <td>NaN</td>\n",
              "      <td>NaN</td>\n",
              "    </tr>\n",
              "  </tbody>\n",
              "</table>\n",
              "<p>26707 rows × 36 columns</p>\n",
              "</div>"
            ],
            "text/plain": [
              "       respondent_id  h1n1_concern  ...  employment_industry  employment_occupation\n",
              "0                  0           1.0  ...                  NaN                    NaN\n",
              "1                  1           3.0  ...             pxcmvdjn               xgwztkwe\n",
              "2                  2           1.0  ...             rucpziij               xtkaffoo\n",
              "3                  3           1.0  ...                  NaN                    NaN\n",
              "4                  4           2.0  ...             wxleyezf               emcorrxb\n",
              "...              ...           ...  ...                  ...                    ...\n",
              "26702          26702           2.0  ...                  NaN                    NaN\n",
              "26703          26703           1.0  ...             fcxhlnwr               cmhcxjea\n",
              "26704          26704           2.0  ...                  NaN                    NaN\n",
              "26705          26705           1.0  ...             fcxhlnwr               haliazsg\n",
              "26706          26706           0.0  ...                  NaN                    NaN\n",
              "\n",
              "[26707 rows x 36 columns]"
            ]
          },
          "metadata": {
            "tags": []
          },
          "execution_count": 5
        }
      ]
    },
    {
      "cell_type": "code",
      "metadata": {
        "id": "6g-lCEkmmO6T",
        "colab": {
          "base_uri": "https://localhost:8080/",
          "height": 415
        },
        "outputId": "0419795a-03cb-4d24-9670-37e3f8e1c76f"
      },
      "source": [
        "labels_train"
      ],
      "execution_count": 6,
      "outputs": [
        {
          "output_type": "execute_result",
          "data": {
            "text/html": [
              "<div>\n",
              "<style scoped>\n",
              "    .dataframe tbody tr th:only-of-type {\n",
              "        vertical-align: middle;\n",
              "    }\n",
              "\n",
              "    .dataframe tbody tr th {\n",
              "        vertical-align: top;\n",
              "    }\n",
              "\n",
              "    .dataframe thead th {\n",
              "        text-align: right;\n",
              "    }\n",
              "</style>\n",
              "<table border=\"1\" class=\"dataframe\">\n",
              "  <thead>\n",
              "    <tr style=\"text-align: right;\">\n",
              "      <th></th>\n",
              "      <th>respondent_id</th>\n",
              "      <th>h1n1_vaccine</th>\n",
              "      <th>seasonal_vaccine</th>\n",
              "    </tr>\n",
              "  </thead>\n",
              "  <tbody>\n",
              "    <tr>\n",
              "      <th>0</th>\n",
              "      <td>0</td>\n",
              "      <td>0</td>\n",
              "      <td>0</td>\n",
              "    </tr>\n",
              "    <tr>\n",
              "      <th>1</th>\n",
              "      <td>1</td>\n",
              "      <td>0</td>\n",
              "      <td>1</td>\n",
              "    </tr>\n",
              "    <tr>\n",
              "      <th>2</th>\n",
              "      <td>2</td>\n",
              "      <td>0</td>\n",
              "      <td>0</td>\n",
              "    </tr>\n",
              "    <tr>\n",
              "      <th>3</th>\n",
              "      <td>3</td>\n",
              "      <td>0</td>\n",
              "      <td>1</td>\n",
              "    </tr>\n",
              "    <tr>\n",
              "      <th>4</th>\n",
              "      <td>4</td>\n",
              "      <td>0</td>\n",
              "      <td>0</td>\n",
              "    </tr>\n",
              "    <tr>\n",
              "      <th>...</th>\n",
              "      <td>...</td>\n",
              "      <td>...</td>\n",
              "      <td>...</td>\n",
              "    </tr>\n",
              "    <tr>\n",
              "      <th>26702</th>\n",
              "      <td>26702</td>\n",
              "      <td>0</td>\n",
              "      <td>0</td>\n",
              "    </tr>\n",
              "    <tr>\n",
              "      <th>26703</th>\n",
              "      <td>26703</td>\n",
              "      <td>0</td>\n",
              "      <td>0</td>\n",
              "    </tr>\n",
              "    <tr>\n",
              "      <th>26704</th>\n",
              "      <td>26704</td>\n",
              "      <td>0</td>\n",
              "      <td>1</td>\n",
              "    </tr>\n",
              "    <tr>\n",
              "      <th>26705</th>\n",
              "      <td>26705</td>\n",
              "      <td>0</td>\n",
              "      <td>0</td>\n",
              "    </tr>\n",
              "    <tr>\n",
              "      <th>26706</th>\n",
              "      <td>26706</td>\n",
              "      <td>0</td>\n",
              "      <td>0</td>\n",
              "    </tr>\n",
              "  </tbody>\n",
              "</table>\n",
              "<p>26707 rows × 3 columns</p>\n",
              "</div>"
            ],
            "text/plain": [
              "       respondent_id  h1n1_vaccine  seasonal_vaccine\n",
              "0                  0             0                 0\n",
              "1                  1             0                 1\n",
              "2                  2             0                 0\n",
              "3                  3             0                 1\n",
              "4                  4             0                 0\n",
              "...              ...           ...               ...\n",
              "26702          26702             0                 0\n",
              "26703          26703             0                 0\n",
              "26704          26704             0                 1\n",
              "26705          26705             0                 0\n",
              "26706          26706             0                 0\n",
              "\n",
              "[26707 rows x 3 columns]"
            ]
          },
          "metadata": {
            "tags": []
          },
          "execution_count": 6
        }
      ]
    },
    {
      "cell_type": "code",
      "metadata": {
        "id": "hh9MIJcKmGjK",
        "colab": {
          "base_uri": "https://localhost:8080/"
        },
        "outputId": "e1cdedad-c797-46e5-d8e1-62cf09fcad6d"
      },
      "source": [
        "df_train = df_train.set_index(\"respondent_id\")\n",
        "labels_train = labels_train.set_index(\"respondent_id\")\n",
        "\n",
        "# Checking if there are inconcistency issues in the data\n",
        "(df_train.index != labels_train.index).sum()"
      ],
      "execution_count": 7,
      "outputs": [
        {
          "output_type": "execute_result",
          "data": {
            "text/plain": [
              "0"
            ]
          },
          "metadata": {
            "tags": []
          },
          "execution_count": 7
        }
      ]
    },
    {
      "cell_type": "code",
      "metadata": {
        "colab": {
          "base_uri": "https://localhost:8080/",
          "height": 317
        },
        "id": "yfvAzyY7F_h3",
        "outputId": "01573fea-ffa4-4aa7-82b8-2d8d1741cfca"
      },
      "source": [
        "# checking distribution of labels to understand what type of CV split i need\r\n",
        "\r\n",
        "# fig, (ax1, ax2) = plt.subplots(2,1)\r\n",
        "# labels_train.h1n1_vaccine.plot(kind='hist', ax=ax1, title='h1n1')\r\n",
        "# labels_train.seasonal_vaccine.plot(kind='hist', ax=ax2, title='seasonal')\r\n",
        "# fig.tight_layout()\r\n",
        "labels_train.plot(kind='hist', subplots = True)"
      ],
      "execution_count": 8,
      "outputs": [
        {
          "output_type": "execute_result",
          "data": {
            "text/plain": [
              "array([<matplotlib.axes._subplots.AxesSubplot object at 0x7ffa4c7f8fd0>,\n",
              "       <matplotlib.axes._subplots.AxesSubplot object at 0x7ffa4c769278>],\n",
              "      dtype=object)"
            ]
          },
          "metadata": {
            "tags": []
          },
          "execution_count": 8
        },
        {
          "output_type": "display_data",
          "data": {
            "image/png": "[encoded data removed]",
            "text/plain": [
              "<Figure size 432x288 with 2 Axes>"
            ]
          },
          "metadata": {
            "tags": [],
            "needs_background": "light"
          }
        }
      ]
    },
    {
      "cell_type": "markdown",
      "metadata": {
        "id": "br-jjNbdjqnz"
      },
      "source": [
        "#### Train validation split"
      ]
    },
    {
      "cell_type": "code",
      "metadata": {
        "id": "AJzxLq7LjzYD",
        "colab": {
          "base_uri": "https://localhost:8080/"
        },
        "outputId": "495eb4db-1a73-4c95-d1e4-2b24126df83a"
      },
      "source": [
        "# Checking how many observations in test set\n",
        "! wc -l \"test_set_features.csv\""
      ],
      "execution_count": 9,
      "outputs": [
        {
          "output_type": "stream",
          "text": [
            "26709 test_set_features.csv\n"
          ],
          "name": "stdout"
        }
      ]
    },
    {
      "cell_type": "markdown",
      "metadata": {
        "id": "9RQDMUYdlGuK"
      },
      "source": [
        "Unfortunately, the test set is the same size as the train set.  \n",
        "So since i can't create a validation set as big, i'll just take a small fraction of the train set for validation"
      ]
    },
    {
      "cell_type": "code",
      "metadata": {
        "id": "6DvOuOZOjDcD"
      },
      "source": [
        "# TRAIN_VAL_RAND_STATE = 1\n",
        "# TRAIN_VAL_SPLIT = 0.2\n",
        "\n",
        "# # We use the same train-test split to test all of the models\n",
        "# df_train_for_val, df_val, labels_train_for_val, labels_val = train_test_split(df_train,\n",
        "#                                                                               labels_train,\n",
        "#                                                                               random_state=TRAIN_VAL_RAND_STATE,\n",
        "#                                                                               test_size=TRAIN_VAL_SPLIT,\n",
        "#                                                                               shuffle=True)\n",
        "\n",
        "# print(f\"train size: {len(df_train)}\")\n",
        "# print(f\"val size: {len(df_val)}\")\n",
        "# print(f\"train labels size: {len(labels_train)}\")\n",
        "# print(f\"val labels size: {len(labels_val)}\")"
      ],
      "execution_count": 10,
      "outputs": []
    },
    {
      "cell_type": "markdown",
      "metadata": {
        "id": "BZIj5fOuewkJ"
      },
      "source": [
        "#### Creating functions for testing preprocessors"
      ]
    },
    {
      "cell_type": "code",
      "metadata": {
        "id": "lnY-Elx07q2G"
      },
      "source": [
        "# def get_columns_after_transform(column_transformer):\n",
        "#   columns_after_processing = [column for _,_,columns in column_transformer.transformers_ for column in columns]\n",
        "#   return columns_after_processing"
      ],
      "execution_count": 11,
      "outputs": []
    },
    {
      "cell_type": "code",
      "metadata": {
        "id": "02GIVsXwK1UU"
      },
      "source": [
        "# def pass_through_transformer(df, transformer):\n",
        "#   df_processed = df.copy()\n",
        "#   df_processed = transformer.fit_transform(df_processed)\n",
        "\n",
        "#   columns_after_processing = get_columns_after_transform(transformer)\n",
        "\n",
        "#   df_processed = pd.DataFrame(df_processed,\n",
        "#                               columns = columns_after_processing,\n",
        "#                               index=df.index)\n",
        "  \n",
        "#   return df_processed"
      ],
      "execution_count": 12,
      "outputs": []
    },
    {
      "cell_type": "markdown",
      "metadata": {
        "id": "HqpPXWOqFIoo"
      },
      "source": [
        "Making sure i assigned the correct columns to the transformed df  \n",
        "And that I processed the columns as intended "
      ]
    },
    {
      "cell_type": "code",
      "metadata": {
        "id": "XKwtBJBJ9MCM"
      },
      "source": [
        "def compare_df_row_changes(df_from, df_to):\n",
        "  '''\n",
        "    Expects DFs with identical ids and column order!\n",
        "  '''\n",
        "  df1 = df_from.copy()\n",
        "  df2 = df_to.copy()\n",
        "\n",
        "  ne_stacked = (df1 != df2).stack()\n",
        "  changed = ne_stacked[ne_stacked]\n",
        "  changed.index.names = ['id', 'column']\n",
        "\n",
        "  difference_locations = np.where(df1 != df2)\n",
        "\n",
        "  changed_from = df1.values[difference_locations]\n",
        "  changed_to = df2.values[difference_locations]\n",
        "\n",
        "  print(pd.DataFrame({'from': changed_from, 'to': changed_to}, index=changed.index))"
      ],
      "execution_count": 13,
      "outputs": []
    },
    {
      "cell_type": "code",
      "metadata": {
        "id": "__xPrVEnIrcQ"
      },
      "source": [
        "def test_column_transformer(df, transformer):\r\n",
        "  # df_before = df.copy()\r\n",
        "  # df_after = pass_through_transformer(df_before, transformer)\r\n",
        "\r\n",
        "  # columns_after_processing = get_columns_after_transform(transformer)\r\n",
        "\r\n",
        "  # df1 = df_before[columns_after_processing].iloc[[0,1], :]\r\n",
        "  # df2 = df_after.iloc[[0,1], :]\r\n",
        "  df_before  = df.copy()\r\n",
        "  df_after = data_preparation_pipeline.fit_transform(df_before)\r\n",
        "\r\n",
        "  df_before_compared = df_before[df_after.columns].iloc[[0,1], :]\r\n",
        "  df_after_compared = df_after.iloc[[0,1], :]\r\n",
        "\r\n",
        "  compare_df_row_changes(df_before_compared, df_after_compared)"
      ],
      "execution_count": 14,
      "outputs": []
    },
    {
      "cell_type": "code",
      "metadata": {
        "id": "c_pMDzsnca-s",
        "colab": {
          "base_uri": "https://localhost:8080/"
        },
        "outputId": "90c23b30-2cc7-4552-bd38-5be79e74d1e9"
      },
      "source": [
        "def describe_columns(df):\n",
        "  TOO_MANY_NULLS_PERCENT = 0.01\n",
        "  columns_with_lots_of_nulls = []\n",
        "\n",
        "  print(f\"The df has {df.shape[1]} columns\")\n",
        "  print(\"Column name                  | dtype   | Amount of nulls\")\n",
        "  print(\"--------------------------------------------------------\")\n",
        "  for column in df.columns:\n",
        "    num_of_nulls = df[column].isnull().sum()\n",
        "    col_dtype = str(df.dtypes[column])\n",
        "    print(f\"{column:<28} | {col_dtype:<7} | {num_of_nulls}\")\n",
        "\n",
        "    if num_of_nulls > len(df_train) * TOO_MANY_NULLS_PERCENT:\n",
        "      columns_with_lots_of_nulls.append(column)\n",
        "\n",
        "  print()\n",
        "  print(f\"Columns that have more than {TOO_MANY_NULLS_PERCENT * 100}% null values:\")\n",
        "  print(columns_with_lots_of_nulls)\n",
        "\n",
        "describe_columns(df_train)"
      ],
      "execution_count": 15,
      "outputs": [
        {
          "output_type": "stream",
          "text": [
            "The df has 35 columns\n",
            "Column name                  | dtype   | Amount of nulls\n",
            "--------------------------------------------------------\n",
            "h1n1_concern                 | float64 | 92\n",
            "h1n1_knowledge               | float64 | 116\n",
            "behavioral_antiviral_meds    | float64 | 71\n",
            "behavioral_avoidance         | float64 | 208\n",
            "behavioral_face_mask         | float64 | 19\n",
            "behavioral_wash_hands        | float64 | 42\n",
            "behavioral_large_gatherings  | float64 | 87\n",
            "behavioral_outside_home      | float64 | 82\n",
            "behavioral_touch_face        | float64 | 128\n",
            "doctor_recc_h1n1             | float64 | 2160\n",
            "doctor_recc_seasonal         | float64 | 2160\n",
            "chronic_med_condition        | float64 | 971\n",
            "child_under_6_months         | float64 | 820\n",
            "health_worker                | float64 | 804\n",
            "health_insurance             | float64 | 12274\n",
            "opinion_h1n1_vacc_effective  | float64 | 391\n",
            "opinion_h1n1_risk            | float64 | 388\n",
            "opinion_h1n1_sick_from_vacc  | float64 | 395\n",
            "opinion_seas_vacc_effective  | float64 | 462\n",
            "opinion_seas_risk            | float64 | 514\n",
            "opinion_seas_sick_from_vacc  | float64 | 537\n",
            "age_group                    | object  | 0\n",
            "education                    | object  | 1407\n",
            "race                         | object  | 0\n",
            "sex                          | object  | 0\n",
            "income_poverty               | object  | 4423\n",
            "marital_status               | object  | 1408\n",
            "rent_or_own                  | object  | 2042\n",
            "employment_status            | object  | 1463\n",
            "hhs_geo_region               | object  | 0\n",
            "census_msa                   | object  | 0\n",
            "household_adults             | float64 | 249\n",
            "household_children           | float64 | 249\n",
            "employment_industry          | object  | 13330\n",
            "employment_occupation        | object  | 13470\n",
            "\n",
            "Columns that have more than 1.0% null values:\n",
            "['doctor_recc_h1n1', 'doctor_recc_seasonal', 'chronic_med_condition', 'child_under_6_months', 'health_worker', 'health_insurance', 'opinion_h1n1_vacc_effective', 'opinion_h1n1_risk', 'opinion_h1n1_sick_from_vacc', 'opinion_seas_vacc_effective', 'opinion_seas_risk', 'opinion_seas_sick_from_vacc', 'education', 'income_poverty', 'marital_status', 'rent_or_own', 'employment_status', 'employment_industry', 'employment_occupation']\n"
          ],
          "name": "stdout"
        }
      ]
    },
    {
      "cell_type": "markdown",
      "metadata": {
        "id": "5_VtC4ROKpyr"
      },
      "source": [
        "### Handling nulls"
      ]
    },
    {
      "cell_type": "code",
      "metadata": {
        "id": "NGDLUq6yPAyU"
      },
      "source": [
        "columns_with_type_float = df_train.select_dtypes(include=['float64']).columns.tolist()\n",
        "columns_with_type_string = df_train.select_dtypes(include=['object']).columns.tolist()"
      ],
      "execution_count": 16,
      "outputs": []
    },
    {
      "cell_type": "markdown",
      "metadata": {
        "id": "WmYIz10oB4yv"
      },
      "source": [
        "#### Float64 Features "
      ]
    },
    {
      "cell_type": "code",
      "metadata": {
        "id": "vV6wj6Y0e32U",
        "colab": {
          "base_uri": "https://localhost:8080/",
          "height": 981
        },
        "outputId": "671c9b79-bb45-4d1c-ad3d-c1c793ee4f43"
      },
      "source": [
        "fig, axes = plt.subplots(ncols=3, nrows=8, figsize=(22,18))\n",
        "axes_list = [item for sublist in axes for item in sublist] \n",
        "\n",
        "# plot every month's daily count of transactions\n",
        "for column in tqdm(columns_with_type_float):\n",
        "  ax = axes_list.pop(0)\n",
        "  df_train[column].plot(kind='hist', ax=ax)\n",
        "  ax.set_title(column)\n",
        "\n",
        "fig.tight_layout()"
      ],
      "execution_count": 17,
      "outputs": [
        {
          "output_type": "stream",
          "text": [
            "100%|██████████| 23/23 [00:00<00:00, 39.71it/s]\n"
          ],
          "name": "stderr"
        },
        {
          "output_type": "display_data",
          "data": {
            "image/png": "[encoded data removed]",
            "text/plain": [
              "<Figure size 1584x1296 with 24 Axes>"
            ]
          },
          "metadata": {
            "tags": [],
            "needs_background": "light"
          }
        }
      ]
    },
    {
      "cell_type": "code",
      "metadata": {
        "id": "fKTsMvv9uv9c"
      },
      "source": [
        "# columns_that_can_have_better_impute = ['doctor_recc_h1n1', # X\n",
        "#                                        'doctor_recc_seasonal', # X\n",
        "#                                        'health_insurance', # V\n",
        "#                                        'education', # \n",
        "#                                        'income_poverty',\n",
        "#                                        'marital_status',\n",
        "#                                        'rent_or_own',\n",
        "#                                        'employment_status', \n",
        "#                                        'employment_industry',\n",
        "#                                        'employment_occupation']\n"
      ],
      "execution_count": 18,
      "outputs": []
    },
    {
      "cell_type": "code",
      "metadata": {
        "id": "3TUB_BmywBY1"
      },
      "source": [
        "features_to_not_impute = {'respondent_id'}\n",
        "\n",
        "# for now i'll impute the doctor_recc features with most freq values\n",
        "# mostly because a placeholder value is too much of a hassle for a temporary setup\n",
        "float_features_for_placeholder_impute = set()\n",
        "# float_features_for_placeholder_impute = {'doctor_recc_h1n1',\n",
        "#                                          'doctor_recc_seasonal'}\n",
        "\n",
        "# Since all the data is categorical, all the features will be MF imputed by default \n",
        "# Feautures that need to be specially imputed are the odd ones\n",
        "# And i'll explicitly take them out of the default list\n",
        "all_float_features = set(df_train.select_dtypes(include=['float64']).columns)\n",
        "\n",
        "float_features_for_mf_impute =  all_float_features - \\\n",
        " float_features_for_placeholder_impute - \\\n",
        " features_to_not_impute\n",
        "\n",
        "float_features_to_preprocess = float_features_for_mf_impute | \\\n",
        " float_features_for_placeholder_impute"
      ],
      "execution_count": 19,
      "outputs": []
    },
    {
      "cell_type": "markdown",
      "metadata": {
        "id": "vUOlYRWqCKne"
      },
      "source": [
        "#### String Categorical Features"
      ]
    },
    {
      "cell_type": "code",
      "metadata": {
        "id": "FU2aqxv3CTGL",
        "colab": {
          "base_uri": "https://localhost:8080/",
          "height": 1000
        },
        "outputId": "83f6bc2f-e390-4228-bbe1-f2007aa10ae9"
      },
      "source": [
        "PLOTS_PER_ROW = 2\n",
        "n_rows = math.ceil(len(columns_with_type_string) / PLOTS_PER_ROW)\n",
        "fig, axes = plt.subplots(ncols=PLOTS_PER_ROW, nrows=n_rows, figsize=(22,20))\n",
        "axes_list = [column for row in axes for column in row] \n",
        "\n",
        "# plot every feature's frequency of each value\n",
        "for column in tqdm(columns_with_type_string):\n",
        "  ax = axes_list.pop(0)\n",
        "  df_train.groupby(column).size().plot(kind='barh', title=column, ax=ax)\n",
        "\n",
        "fig.tight_layout()"
      ],
      "execution_count": 20,
      "outputs": [
        {
          "output_type": "stream",
          "text": [
            "100%|██████████| 12/12 [00:00<00:00, 45.59it/s]\n"
          ],
          "name": "stderr"
        },
        {
          "output_type": "display_data",
          "data": {
            "image/png": "[encoded data removed]",
            "text/plain": [
              "<Figure size 1584x1440 with 12 Axes>"
            ]
          },
          "metadata": {
            "tags": [],
            "needs_background": "light"
          }
        }
      ]
    },
    {
      "cell_type": "markdown",
      "metadata": {
        "id": "P7sKsMbXN9zG"
      },
      "source": [
        "Since I don't want to start fiddling with Advanced imputation techniques, for now I'll only impute `race` and `rent_or_own` using the most frequent value, and all the rest of the features will simply have a literal string `NaN` where empty so I could still get some sense of which features are useful for this classification"
      ]
    },
    {
      "cell_type": "code",
      "metadata": {
        "id": "PXHe3n48Oqdd"
      },
      "source": [
        "string_features_for_mf_impute = { 'race', 'rent_or_own' }\n",
        "string_features_for_placeholder_impute = set(columns_with_type_string) - string_features_for_mf_impute\n",
        "string_features_to_preprocess = string_features_for_mf_impute | string_features_for_placeholder_impute"
      ],
      "execution_count": 21,
      "outputs": []
    },
    {
      "cell_type": "markdown",
      "metadata": {
        "id": "SHMtpYKwCUNk"
      },
      "source": [
        "#### Imputation"
      ]
    },
    {
      "cell_type": "code",
      "metadata": {
        "id": "D9dHg3Vz184P",
        "colab": {
          "base_uri": "https://localhost:8080/",
          "height": 409
        },
        "outputId": "c8284da4-49d2-4368-8f19-4feedcefb90a"
      },
      "source": [
        "df_train.head()"
      ],
      "execution_count": 22,
      "outputs": [
        {
          "output_type": "execute_result",
          "data": {
            "text/html": [
              "<div>\n",
              "<style scoped>\n",
              "    .dataframe tbody tr th:only-of-type {\n",
              "        vertical-align: middle;\n",
              "    }\n",
              "\n",
              "    .dataframe tbody tr th {\n",
              "        vertical-align: top;\n",
              "    }\n",
              "\n",
              "    .dataframe thead th {\n",
              "        text-align: right;\n",
              "    }\n",
              "</style>\n",
              "<table border=\"1\" class=\"dataframe\">\n",
              "  <thead>\n",
              "    <tr style=\"text-align: right;\">\n",
              "      <th></th>\n",
              "      <th>h1n1_concern</th>\n",
              "      <th>h1n1_knowledge</th>\n",
              "      <th>behavioral_antiviral_meds</th>\n",
              "      <th>behavioral_avoidance</th>\n",
              "      <th>behavioral_face_mask</th>\n",
              "      <th>behavioral_wash_hands</th>\n",
              "      <th>behavioral_large_gatherings</th>\n",
              "      <th>behavioral_outside_home</th>\n",
              "      <th>behavioral_touch_face</th>\n",
              "      <th>doctor_recc_h1n1</th>\n",
              "      <th>doctor_recc_seasonal</th>\n",
              "      <th>chronic_med_condition</th>\n",
              "      <th>child_under_6_months</th>\n",
              "      <th>health_worker</th>\n",
              "      <th>health_insurance</th>\n",
              "      <th>opinion_h1n1_vacc_effective</th>\n",
              "      <th>opinion_h1n1_risk</th>\n",
              "      <th>opinion_h1n1_sick_from_vacc</th>\n",
              "      <th>opinion_seas_vacc_effective</th>\n",
              "      <th>opinion_seas_risk</th>\n",
              "      <th>opinion_seas_sick_from_vacc</th>\n",
              "      <th>age_group</th>\n",
              "      <th>education</th>\n",
              "      <th>race</th>\n",
              "      <th>sex</th>\n",
              "      <th>income_poverty</th>\n",
              "      <th>marital_status</th>\n",
              "      <th>rent_or_own</th>\n",
              "      <th>employment_status</th>\n",
              "      <th>hhs_geo_region</th>\n",
              "      <th>census_msa</th>\n",
              "      <th>household_adults</th>\n",
              "      <th>household_children</th>\n",
              "      <th>employment_industry</th>\n",
              "      <th>employment_occupation</th>\n",
              "    </tr>\n",
              "    <tr>\n",
              "      <th>respondent_id</th>\n",
              "      <th></th>\n",
              "      <th></th>\n",
              "      <th></th>\n",
              "      <th></th>\n",
              "      <th></th>\n",
              "      <th></th>\n",
              "      <th></th>\n",
              "      <th></th>\n",
              "      <th></th>\n",
              "      <th></th>\n",
              "      <th></th>\n",
              "      <th></th>\n",
              "      <th></th>\n",
              "      <th></th>\n",
              "      <th></th>\n",
              "      <th></th>\n",
              "      <th></th>\n",
              "      <th></th>\n",
              "      <th></th>\n",
              "      <th></th>\n",
              "      <th></th>\n",
              "      <th></th>\n",
              "      <th></th>\n",
              "      <th></th>\n",
              "      <th></th>\n",
              "      <th></th>\n",
              "      <th></th>\n",
              "      <th></th>\n",
              "      <th></th>\n",
              "      <th></th>\n",
              "      <th></th>\n",
              "      <th></th>\n",
              "      <th></th>\n",
              "      <th></th>\n",
              "      <th></th>\n",
              "    </tr>\n",
              "  </thead>\n",
              "  <tbody>\n",
              "    <tr>\n",
              "      <th>0</th>\n",
              "      <td>1.0</td>\n",
              "      <td>0.0</td>\n",
              "      <td>0.0</td>\n",
              "      <td>0.0</td>\n",
              "      <td>0.0</td>\n",
              "      <td>0.0</td>\n",
              "      <td>0.0</td>\n",
              "      <td>1.0</td>\n",
              "      <td>1.0</td>\n",
              "      <td>0.0</td>\n",
              "      <td>0.0</td>\n",
              "      <td>0.0</td>\n",
              "      <td>0.0</td>\n",
              "      <td>0.0</td>\n",
              "      <td>1.0</td>\n",
              "      <td>3.0</td>\n",
              "      <td>1.0</td>\n",
              "      <td>2.0</td>\n",
              "      <td>2.0</td>\n",
              "      <td>1.0</td>\n",
              "      <td>2.0</td>\n",
              "      <td>55 - 64 Years</td>\n",
              "      <td>&lt; 12 Years</td>\n",
              "      <td>White</td>\n",
              "      <td>Female</td>\n",
              "      <td>Below Poverty</td>\n",
              "      <td>Not Married</td>\n",
              "      <td>Own</td>\n",
              "      <td>Not in Labor Force</td>\n",
              "      <td>oxchjgsf</td>\n",
              "      <td>Non-MSA</td>\n",
              "      <td>0.0</td>\n",
              "      <td>0.0</td>\n",
              "      <td>NaN</td>\n",
              "      <td>NaN</td>\n",
              "    </tr>\n",
              "    <tr>\n",
              "      <th>1</th>\n",
              "      <td>3.0</td>\n",
              "      <td>2.0</td>\n",
              "      <td>0.0</td>\n",
              "      <td>1.0</td>\n",
              "      <td>0.0</td>\n",
              "      <td>1.0</td>\n",
              "      <td>0.0</td>\n",
              "      <td>1.0</td>\n",
              "      <td>1.0</td>\n",
              "      <td>0.0</td>\n",
              "      <td>0.0</td>\n",
              "      <td>0.0</td>\n",
              "      <td>0.0</td>\n",
              "      <td>0.0</td>\n",
              "      <td>1.0</td>\n",
              "      <td>5.0</td>\n",
              "      <td>4.0</td>\n",
              "      <td>4.0</td>\n",
              "      <td>4.0</td>\n",
              "      <td>2.0</td>\n",
              "      <td>4.0</td>\n",
              "      <td>35 - 44 Years</td>\n",
              "      <td>12 Years</td>\n",
              "      <td>White</td>\n",
              "      <td>Male</td>\n",
              "      <td>Below Poverty</td>\n",
              "      <td>Not Married</td>\n",
              "      <td>Rent</td>\n",
              "      <td>Employed</td>\n",
              "      <td>bhuqouqj</td>\n",
              "      <td>MSA, Not Principle  City</td>\n",
              "      <td>0.0</td>\n",
              "      <td>0.0</td>\n",
              "      <td>pxcmvdjn</td>\n",
              "      <td>xgwztkwe</td>\n",
              "    </tr>\n",
              "    <tr>\n",
              "      <th>2</th>\n",
              "      <td>1.0</td>\n",
              "      <td>1.0</td>\n",
              "      <td>0.0</td>\n",
              "      <td>1.0</td>\n",
              "      <td>0.0</td>\n",
              "      <td>0.0</td>\n",
              "      <td>0.0</td>\n",
              "      <td>0.0</td>\n",
              "      <td>0.0</td>\n",
              "      <td>NaN</td>\n",
              "      <td>NaN</td>\n",
              "      <td>1.0</td>\n",
              "      <td>0.0</td>\n",
              "      <td>0.0</td>\n",
              "      <td>NaN</td>\n",
              "      <td>3.0</td>\n",
              "      <td>1.0</td>\n",
              "      <td>1.0</td>\n",
              "      <td>4.0</td>\n",
              "      <td>1.0</td>\n",
              "      <td>2.0</td>\n",
              "      <td>18 - 34 Years</td>\n",
              "      <td>College Graduate</td>\n",
              "      <td>White</td>\n",
              "      <td>Male</td>\n",
              "      <td>&lt;= $75,000, Above Poverty</td>\n",
              "      <td>Not Married</td>\n",
              "      <td>Own</td>\n",
              "      <td>Employed</td>\n",
              "      <td>qufhixun</td>\n",
              "      <td>MSA, Not Principle  City</td>\n",
              "      <td>2.0</td>\n",
              "      <td>0.0</td>\n",
              "      <td>rucpziij</td>\n",
              "      <td>xtkaffoo</td>\n",
              "    </tr>\n",
              "    <tr>\n",
              "      <th>3</th>\n",
              "      <td>1.0</td>\n",
              "      <td>1.0</td>\n",
              "      <td>0.0</td>\n",
              "      <td>1.0</td>\n",
              "      <td>0.0</td>\n",
              "      <td>1.0</td>\n",
              "      <td>1.0</td>\n",
              "      <td>0.0</td>\n",
              "      <td>0.0</td>\n",
              "      <td>0.0</td>\n",
              "      <td>1.0</td>\n",
              "      <td>1.0</td>\n",
              "      <td>0.0</td>\n",
              "      <td>0.0</td>\n",
              "      <td>NaN</td>\n",
              "      <td>3.0</td>\n",
              "      <td>3.0</td>\n",
              "      <td>5.0</td>\n",
              "      <td>5.0</td>\n",
              "      <td>4.0</td>\n",
              "      <td>1.0</td>\n",
              "      <td>65+ Years</td>\n",
              "      <td>12 Years</td>\n",
              "      <td>White</td>\n",
              "      <td>Female</td>\n",
              "      <td>Below Poverty</td>\n",
              "      <td>Not Married</td>\n",
              "      <td>Rent</td>\n",
              "      <td>Not in Labor Force</td>\n",
              "      <td>lrircsnp</td>\n",
              "      <td>MSA, Principle City</td>\n",
              "      <td>0.0</td>\n",
              "      <td>0.0</td>\n",
              "      <td>NaN</td>\n",
              "      <td>NaN</td>\n",
              "    </tr>\n",
              "    <tr>\n",
              "      <th>4</th>\n",
              "      <td>2.0</td>\n",
              "      <td>1.0</td>\n",
              "      <td>0.0</td>\n",
              "      <td>1.0</td>\n",
              "      <td>0.0</td>\n",
              "      <td>1.0</td>\n",
              "      <td>1.0</td>\n",
              "      <td>0.0</td>\n",
              "      <td>1.0</td>\n",
              "      <td>0.0</td>\n",
              "      <td>0.0</td>\n",
              "      <td>0.0</td>\n",
              "      <td>0.0</td>\n",
              "      <td>0.0</td>\n",
              "      <td>NaN</td>\n",
              "      <td>3.0</td>\n",
              "      <td>3.0</td>\n",
              "      <td>2.0</td>\n",
              "      <td>3.0</td>\n",
              "      <td>1.0</td>\n",
              "      <td>4.0</td>\n",
              "      <td>45 - 54 Years</td>\n",
              "      <td>Some College</td>\n",
              "      <td>White</td>\n",
              "      <td>Female</td>\n",
              "      <td>&lt;= $75,000, Above Poverty</td>\n",
              "      <td>Married</td>\n",
              "      <td>Own</td>\n",
              "      <td>Employed</td>\n",
              "      <td>qufhixun</td>\n",
              "      <td>MSA, Not Principle  City</td>\n",
              "      <td>1.0</td>\n",
              "      <td>0.0</td>\n",
              "      <td>wxleyezf</td>\n",
              "      <td>emcorrxb</td>\n",
              "    </tr>\n",
              "  </tbody>\n",
              "</table>\n",
              "</div>"
            ],
            "text/plain": [
              "               h1n1_concern  ...  employment_occupation\n",
              "respondent_id                ...                       \n",
              "0                       1.0  ...                    NaN\n",
              "1                       3.0  ...               xgwztkwe\n",
              "2                       1.0  ...               xtkaffoo\n",
              "3                       1.0  ...                    NaN\n",
              "4                       2.0  ...               emcorrxb\n",
              "\n",
              "[5 rows x 35 columns]"
            ]
          },
          "metadata": {
            "tags": []
          },
          "execution_count": 22
        }
      ]
    },
    {
      "cell_type": "code",
      "metadata": {
        "id": "OoDGzX4_0A-Q"
      },
      "source": [
        "features_for_mf_impute = float_features_for_mf_impute | string_features_for_mf_impute\n",
        "features_for_placeholder_impute = float_features_for_placeholder_impute | string_features_for_placeholder_impute\n",
        "\n",
        "features_for_mf_impute_for_DfMapper = [[feature] for feature in features_for_mf_impute]\n",
        "features_for_placeholder_impute_for_DfMapper = [[feature] for feature in features_for_placeholder_impute]\n",
        "\n",
        "# most_freq_imputer = SimpleImputer(strategy='most_frequent')\n",
        "# placeholder_imputer = SimpleImputer(strategy='constant', fill_value='NaN')\n",
        "\n",
        "# data_preparation_imputer = ColumnTransformer([\n",
        "#                                               ('mf', most_freq_imputer, features_for_mf_impute),\n",
        "#                                               ('nan', placeholder_imputer, features_for_placeholder_impute)\n",
        "# ])\n",
        "\n",
        "feature_def_for_mf_impute = gen_features(\n",
        "    columns = features_for_mf_impute_for_DfMapper,\n",
        "    classes = [{'class': SimpleImputer, 'strategy':'most_frequent'}]\n",
        ")\n",
        "feature_def_for_placeholder_impute = gen_features(\n",
        "    columns = features_for_placeholder_impute_for_DfMapper,\n",
        "    classes = [{'class': SimpleImputer, 'strategy':'constant', 'fill_value': 'NaN'}]\n",
        ")\n",
        "feature_def_for_impute = feature_def_for_mf_impute + feature_def_for_placeholder_impute\n",
        "\n",
        "data_preparation_imputer = DataFrameMapper(feature_def_for_impute, df_out=True)\n",
        "\n",
        "data_preparation_pipeline = Pipeline([('Impute', data_preparation_imputer)])"
      ],
      "execution_count": 23,
      "outputs": []
    },
    {
      "cell_type": "code",
      "metadata": {
        "id": "ohVZt7RD3jKi"
      },
      "source": [
        "FEATURES_TO_PREPROCESS = float_features_to_preprocess | string_features_to_preprocess\n",
        "df_train_for_preprocess = df_train[FEATURES_TO_PREPROCESS]"
      ],
      "execution_count": 24,
      "outputs": []
    },
    {
      "cell_type": "code",
      "metadata": {
        "colab": {
          "base_uri": "https://localhost:8080/"
        },
        "id": "VvUga6tzYoAA",
        "outputId": "9e92646c-2823-40d2-956c-bfddaced8baf"
      },
      "source": [
        "test_column_transformer(df_train_for_preprocess, data_preparation_imputer)"
      ],
      "execution_count": 25,
      "outputs": [
        {
          "output_type": "stream",
          "text": [
            "                         from   to\n",
            "id column                         \n",
            "0  employment_occupation  NaN  NaN\n",
            "   employment_industry    NaN  NaN\n"
          ],
          "name": "stdout"
        }
      ]
    },
    {
      "cell_type": "markdown",
      "metadata": {
        "id": "Serl6SpcKk-L"
      },
      "source": [
        "### Encoding string columns"
      ]
    },
    {
      "cell_type": "code",
      "metadata": {
        "id": "rzfDFbh7JunA"
      },
      "source": [
        "df_train_for_preprocess = data_preparation_imputer.fit_transform(df_train_for_preprocess)"
      ],
      "execution_count": 26,
      "outputs": []
    },
    {
      "cell_type": "markdown",
      "metadata": {
        "id": "gF-dZsO3Mwvn"
      },
      "source": [
        "##############################################  \n",
        "TBD: Handle bad NaNs with advanced imputers \n",
        "##############################################"
      ]
    },
    {
      "cell_type": "markdown",
      "metadata": {
        "id": "LarkJbnlSGNH"
      },
      "source": [
        "#### Handling categories with order"
      ]
    },
    {
      "cell_type": "code",
      "metadata": {
        "id": "6MZgPO72SNBP"
      },
      "source": [
        "ORDERED_CATEGORIES_MAPPING = [\n",
        "    {'col' : 'age_group', 'mapping' : {'18 - 34 Years' : 0,\n",
        "                                       '35 - 44 Years' : 1,\n",
        "                                       '45 - 54 Years' : 2,\n",
        "                                       '55 - 64 Years' : 3,\n",
        "                                       '65+ Years' : 4 }}, \n",
        "    {'col' : 'education', 'mapping' : {'NaN' : 0, ########################################\n",
        "                                       '< 12 Years' : 1,\n",
        "                                       '12 Years' : 2,\n",
        "                                       'Some College' : 3,\n",
        "                                       'College Graduate' : 4}}, \n",
        "    {'col' : 'income_poverty', 'mapping' : {'NaN': 0, ########################################\n",
        "                                            'Below Poverty' : 1,\n",
        "                                            '<= $75,000, Above Poverty' : 2,\n",
        "                                            '> $75,000' : 3}}\n",
        "]\n",
        "\n",
        "string_features_for_ordered_encode = {column_mapping['col'] for column_mapping in ORDERED_CATEGORIES_MAPPING}"
      ],
      "execution_count": 27,
      "outputs": []
    },
    {
      "cell_type": "code",
      "metadata": {
        "id": "CDcXgkBcZgfU"
      },
      "source": [
        "#################################################################################\n",
        "# for some annoying reason, ordinal encoder expects a list of categories to convert at once\n",
        "# So i'll try to pass all the categories into a single transformer in the ctf \n",
        "# and will have to make sure they'll come out the same with regards to order and everything\n",
        "#################################################################################\n",
        "# age_group_oe = OrdinalEncoder(categories = [ORDERED_CATEGORIES['age_group'], ORDERED_CATEGORIES['education']])\n",
        "# age_group_oe.fit_transform(df_train_for_preprocess[['age_group', 'education']])"
      ],
      "execution_count": 28,
      "outputs": []
    },
    {
      "cell_type": "markdown",
      "metadata": {
        "id": "abjcJ2gtSNpo"
      },
      "source": [
        "#### Checking which categories can be OneHot encoded"
      ]
    },
    {
      "cell_type": "code",
      "metadata": {
        "colab": {
          "base_uri": "https://localhost:8080/"
        },
        "id": "YZBoy9pdMC_W",
        "outputId": "cbfcd231-b56e-4d1a-a7b9-a0050a0ea09a"
      },
      "source": [
        "for feature in string_features_to_preprocess:\n",
        "  print(f'{feature}\\'s Cardinality is {df_train[feature].nunique()}')"
      ],
      "execution_count": 29,
      "outputs": [
        {
          "output_type": "stream",
          "text": [
            "sex's Cardinality is 2\n",
            "income_poverty's Cardinality is 3\n",
            "employment_occupation's Cardinality is 23\n",
            "marital_status's Cardinality is 2\n",
            "hhs_geo_region's Cardinality is 10\n",
            "employment_industry's Cardinality is 21\n",
            "race's Cardinality is 4\n",
            "rent_or_own's Cardinality is 2\n",
            "census_msa's Cardinality is 3\n",
            "employment_status's Cardinality is 3\n",
            "age_group's Cardinality is 5\n",
            "education's Cardinality is 4\n"
          ],
          "name": "stdout"
        }
      ]
    },
    {
      "cell_type": "markdown",
      "metadata": {
        "id": "lD3CIV5OQxYE"
      },
      "source": [
        "##############################################  \n",
        "TBD: Handle bad NaNs with advanced imputers \n",
        "##############################################"
      ]
    },
    {
      "cell_type": "markdown",
      "metadata": {
        "id": "2TbdLu4coBGY"
      },
      "source": [
        "Looks like 5 is a decent limit of cardinality for choosing which features will be OH encoded"
      ]
    },
    {
      "cell_type": "code",
      "metadata": {
        "id": "jTP4ZamWMfS0"
      },
      "source": [
        "CARDINALITY_LIMIT = 5\n",
        "\n",
        "string_features_for_OH_encode = {\n",
        "    feature for feature in string_features_to_preprocess \n",
        "    if (df_train[feature].nunique() <= CARDINALITY_LIMIT) and\n",
        "    (feature not in string_features_for_ordered_encode)\n",
        "    }"
      ],
      "execution_count": 30,
      "outputs": []
    },
    {
      "cell_type": "markdown",
      "metadata": {
        "id": "jbzrjuPSrPwY"
      },
      "source": [
        "#### All non ordered or non OHed will just be encoded using a plain ordinal encoder"
      ]
    },
    {
      "cell_type": "code",
      "metadata": {
        "id": "eDt2-07_rZfj"
      },
      "source": [
        "string_features_for_plain_encode = string_features_to_preprocess - \\\r\n",
        "                                  string_features_for_ordered_encode - \\\r\n",
        "                                  string_features_for_OH_encode"
      ],
      "execution_count": 31,
      "outputs": []
    },
    {
      "cell_type": "markdown",
      "metadata": {
        "id": "xyIAYhRukc4B"
      },
      "source": [
        "#### Building Categorical encoding pipeline"
      ]
    },
    {
      "cell_type": "code",
      "metadata": {
        "id": "3U35fEi_kpg2"
      },
      "source": [
        "##############################################################\r\n",
        "# Either I use this columntransformer and lose column names\r\n",
        "##############################################################\r\n",
        "# category_encoder = ColumnTransformer([\r\n",
        "#                                     ('ordered', ordered_encoder, list(string_features_for_ordered_encode)),\r\n",
        "#                                     # ('one_hot', OneHotEncoder(sparse=False), list(string_features_for_OH_encode)),\r\n",
        "#                                     ('one_hot', ohe(use_cat_names=True), list(string_features_for_OH_encode)),\r\n",
        "#                                     ('plain_encode', OrdinalEncoder(), list(string_features_for_plain_encode))\r\n",
        "# ])\r\n",
        "\r\n",
        "# category_encoder.fit_transform(df_train_for_preprocess)\r\n",
        "# # Cannot be tested by my func since OH creates more columns than the original df\r\n",
        "# test_column_transformer(df_train_for_preprocess[string_features_for_ordered_encode | string_features_for_plain_encode], category_encoder)\r\n",
        "\r\n",
        "##############################################################\r\n",
        "# Or i use the sklearn_pandas.DataFrameMapper for imputing to preserve column names\r\n",
        "# So i could find the best columns later.\r\n",
        "\r\n",
        "# In any case, i'll assume the pipeline still gets DFs with column names at this stage\r\n",
        "##############################################################\r\n",
        "ordered_encoder = OrdinalEncoder(cols = string_features_for_ordered_encode, mapping = ORDERED_CATEGORIES_MAPPING)\r\n",
        "oh_encoder = OneHotEncoder(cols = string_features_for_OH_encode, use_cat_names=True)\r\n",
        "plain_encoder = OrdinalEncoder(cols = string_features_for_plain_encode)\r\n",
        "\r\n",
        "data_preparation_pipeline.steps.append(('ordered_enc', ordered_encoder))\r\n",
        "data_preparation_pipeline.steps.append(('OH_enc', oh_encoder))\r\n",
        "data_preparation_pipeline.steps.append(('plain_enc', plain_encoder))"
      ],
      "execution_count": 32,
      "outputs": []
    },
    {
      "cell_type": "markdown",
      "metadata": {
        "id": "IQIWmeGpbg7m"
      },
      "source": [
        "# H1N1 shots\n",
        "I want to handle each problem orthonogically. After I'll feel I know enough about H1N1 predictions, I'll start working on improving flu shot scores as well."
      ]
    },
    {
      "cell_type": "markdown",
      "metadata": {
        "id": "IUYq_JJzNof5"
      },
      "source": [
        "### Selecting Best Features"
      ]
    },
    {
      "cell_type": "markdown",
      "metadata": {
        "id": "bz1ErnrOC_pj"
      },
      "source": [
        "Running all the data preprocess pipeline so far at once as a quick integration test for the preprocessing so far"
      ]
    },
    {
      "cell_type": "code",
      "metadata": {
        "colab": {
          "base_uri": "https://localhost:8080/"
        },
        "id": "7XEln53t_MVT",
        "outputId": "26bf50b8-f032-4762-a569-f5b5cd694e0e"
      },
      "source": [
        "df_train_for_preprocess = data_preparation_pipeline.fit_transform(df_train[FEATURES_TO_PREPROCESS])"
      ],
      "execution_count": 33,
      "outputs": [
        {
          "output_type": "stream",
          "text": [
            "/usr/local/lib/python3.6/dist-packages/category_encoders/utils.py:21: FutureWarning: is_categorical is deprecated and will be removed in a future version.  Use is_categorical_dtype instead\n",
            "  elif pd.api.types.is_categorical(cols):\n"
          ],
          "name": "stderr"
        }
      ]
    },
    {
      "cell_type": "code",
      "metadata": {
        "id": "BIsj9_mIzfdU",
        "colab": {
          "base_uri": "https://localhost:8080/",
          "height": 1000
        },
        "outputId": "1494392e-4aab-475a-aa5a-0f4bd5f39eae"
      },
      "source": [
        "fs = SelectKBest(score_func=chi2, k='all')\n",
        "fs.fit(df_train_for_preprocess, labels_train['h1n1_vaccine'])\n",
        "\n",
        "columns = df_train_for_preprocess.columns\n",
        "for i in range(len(fs.scores_)):\n",
        "\tprint('Feature %s: %f' % (columns[i], fs.scores_[i]))\n",
        "\n",
        "# plot the scores\n",
        "plt.figure(figsize=(12,10))\n",
        "plt.barh(y=[columns[i] for i in range(len(fs.scores_))], width=fs.scores_)\n",
        "plt.show()"
      ],
      "execution_count": 34,
      "outputs": [
        {
          "output_type": "stream",
          "text": [
            "Feature opinion_h1n1_risk: 1914.151226\n",
            "Feature behavioral_outside_home: 8.641545\n",
            "Feature household_children: 0.284434\n",
            "Feature chronic_med_condition: 172.886102\n",
            "Feature household_adults: 0.907646\n",
            "Feature behavioral_large_gatherings: 5.614840\n",
            "Feature behavioral_face_mask: 123.284462\n",
            "Feature opinion_seas_risk: 1222.319922\n",
            "Feature race_White: 5.232609\n",
            "Feature race_Black: 51.410561\n",
            "Feature race_Other or Multiple: 0.157839\n",
            "Feature race_Hispanic: 0.210187\n",
            "Feature h1n1_concern: 201.358892\n",
            "Feature doctor_recc_seasonal: 892.499456\n",
            "Feature behavioral_wash_hands: 25.856864\n",
            "Feature child_under_6_months: 109.342915\n",
            "Feature opinion_seas_vacc_effective: 243.320341\n",
            "Feature behavioral_touch_face: 43.065378\n",
            "Feature health_insurance: 3.046439\n",
            "Feature opinion_h1n1_sick_from_vacc: 115.654361\n",
            "Feature behavioral_antiviral_meds: 41.109698\n",
            "Feature doctor_recc_h1n1: 3307.810188\n",
            "Feature h1n1_knowledge: 111.808117\n",
            "Feature behavioral_avoidance: 15.950408\n",
            "Feature rent_or_own_Own: 5.689314\n",
            "Feature rent_or_own_Rent: 19.938027\n",
            "Feature opinion_h1n1_vacc_effective: 495.639893\n",
            "Feature opinion_seas_sick_from_vacc: 2.015818\n",
            "Feature health_worker: 672.405011\n",
            "Feature sex_Female: 4.636082\n",
            "Feature sex_Male: 6.776568\n",
            "Feature income_poverty: 35.872444\n",
            "Feature employment_occupation: 290.868596\n",
            "Feature marital_status_Not Married: 30.561431\n",
            "Feature marital_status_Married: 36.620116\n",
            "Feature marital_status_NaN: 7.897902\n",
            "Feature hhs_geo_region: 54.515844\n",
            "Feature employment_industry: 47.546380\n",
            "Feature census_msa_Non-MSA: 0.008724\n",
            "Feature census_msa_MSA, Not Principle  City: 0.025314\n",
            "Feature census_msa_MSA, Principle City: 0.080072\n",
            "Feature employment_status_Not in Labor Force: 2.812499\n",
            "Feature employment_status_Employed: 0.782255\n",
            "Feature employment_status_Unemployed: 21.143354\n",
            "Feature employment_status_NaN: 6.477561\n",
            "Feature age_group: 43.769495\n",
            "Feature education: 54.064047\n"
          ],
          "name": "stdout"
        },
        {
          "output_type": "display_data",
          "data": {
            "image/png": "[encoded data removed]",
            "text/plain": [
              "<Figure size 864x720 with 1 Axes>"
            ]
          },
          "metadata": {
            "tags": [],
            "needs_background": "light"
          }
        }
      ]
    },
    {
      "cell_type": "code",
      "metadata": {
        "id": "kwtPytzHHYVU",
        "colab": {
          "base_uri": "https://localhost:8080/"
        },
        "outputId": "7ad7e9bc-062f-4ec4-e04a-e0509f8c0b5c"
      },
      "source": [
        "# Only here to show the graph above is correct with column assigments\n",
        "fs_top_4 = SelectKBest(score_func=chi2, k=4)\n",
        "\n",
        "fs_top_4.fit(df_train_for_preprocess, labels_train['h1n1_vaccine'])\n",
        "cols_to_keep = fs_top_4.get_support(indices=True)\n",
        "features_df_new = df_train_for_preprocess.iloc[:,cols_to_keep]\n",
        "features_df_new.columns"
      ],
      "execution_count": 35,
      "outputs": [
        {
          "output_type": "execute_result",
          "data": {
            "text/plain": [
              "Index(['opinion_h1n1_risk', 'opinion_seas_risk', 'doctor_recc_seasonal',\n",
              "       'doctor_recc_h1n1'],\n",
              "      dtype='object')"
            ]
          },
          "metadata": {
            "tags": []
          },
          "execution_count": 35
        }
      ]
    },
    {
      "cell_type": "code",
      "metadata": {
        "id": "u2c1uqI4I-HF",
        "colab": {
          "base_uri": "https://localhost:8080/",
          "height": 1000
        },
        "outputId": "d4d178ff-8766-4ab9-add6-634bb5a30319"
      },
      "source": [
        "fs = SelectKBest(score_func=mutual_info_classif, k='all')\n",
        "\n",
        "# df_train_processed = data_preparation_pipeline.fit_transform(df_train_for_preprocess)\n",
        "fs.fit(df_train_for_preprocess, labels_train['h1n1_vaccine'])\n",
        "\n",
        "for i in range(len(fs.scores_)):\n",
        "\tprint('Feature %s: %f' % (columns[i], fs.scores_[i]))\n",
        "\n",
        "# plot the scores\n",
        "plt.figure(figsize=(12,10))\n",
        "plt.barh(y=[columns[i] for i in range(len(fs.scores_))], width=fs.scores_)\n",
        "plt.show()"
      ],
      "execution_count": 36,
      "outputs": [
        {
          "output_type": "stream",
          "text": [
            "Feature opinion_h1n1_risk: 0.052611\n",
            "Feature behavioral_outside_home: 0.000053\n",
            "Feature household_children: 0.000090\n",
            "Feature chronic_med_condition: 0.004615\n",
            "Feature household_adults: 0.000000\n",
            "Feature behavioral_large_gatherings: 0.000000\n",
            "Feature behavioral_face_mask: 0.002862\n",
            "Feature opinion_seas_risk: 0.033415\n",
            "Feature race_White: 0.003513\n",
            "Feature race_Black: 0.004145\n",
            "Feature race_Other or Multiple: 0.004421\n",
            "Feature race_Hispanic: 0.001378\n",
            "Feature h1n1_concern: 0.007972\n",
            "Feature doctor_recc_seasonal: 0.019900\n",
            "Feature behavioral_wash_hands: 0.005512\n",
            "Feature child_under_6_months: 0.000000\n",
            "Feature opinion_seas_vacc_effective: 0.018304\n",
            "Feature behavioral_touch_face: 0.006307\n",
            "Feature health_insurance: 0.003199\n",
            "Feature opinion_h1n1_sick_from_vacc: 0.008622\n",
            "Feature behavioral_antiviral_meds: 0.000000\n",
            "Feature doctor_recc_h1n1: 0.066957\n",
            "Feature h1n1_knowledge: 0.005193\n",
            "Feature behavioral_avoidance: 0.001710\n",
            "Feature rent_or_own_Own: 0.002428\n",
            "Feature rent_or_own_Rent: 0.000209\n",
            "Feature opinion_h1n1_vacc_effective: 0.050121\n",
            "Feature opinion_seas_sick_from_vacc: 0.000000\n",
            "Feature health_worker: 0.010623\n",
            "Feature sex_Female: 0.000000\n",
            "Feature sex_Male: 0.002506\n",
            "Feature income_poverty: 0.005482\n",
            "Feature employment_occupation: 0.016048\n",
            "Feature marital_status_Not Married: 0.002088\n",
            "Feature marital_status_Married: 0.005329\n",
            "Feature marital_status_NaN: 0.000000\n",
            "Feature hhs_geo_region: 0.001058\n",
            "Feature employment_industry: 0.014241\n",
            "Feature census_msa_Non-MSA: 0.001154\n",
            "Feature census_msa_MSA, Not Principle  City: 0.002775\n",
            "Feature census_msa_MSA, Principle City: 0.000000\n",
            "Feature employment_status_Not in Labor Force: 0.003234\n",
            "Feature employment_status_Employed: 0.001765\n",
            "Feature employment_status_Unemployed: 0.000000\n",
            "Feature employment_status_NaN: 0.000000\n",
            "Feature age_group: 0.004948\n",
            "Feature education: 0.004884\n"
          ],
          "name": "stdout"
        },
        {
          "output_type": "display_data",
          "data": {
            "image/png": "[encoded data removed]",
            "text/plain": [
              "<Figure size 864x720 with 1 Axes>"
            ]
          },
          "metadata": {
            "tags": [],
            "needs_background": "light"
          }
        }
      ]
    },
    {
      "cell_type": "markdown",
      "metadata": {
        "id": "bCyzglwpgdvQ"
      },
      "source": [
        "## Testing Models"
      ]
    },
    {
      "cell_type": "code",
      "metadata": {
        "id": "SG3YUgtNgYHY"
      },
      "source": [
        "MODELS_FOLDER = './models'\n",
        "\n",
        "def save_model_pipeline_and_info(model_pipe_and_info, file_name):\n",
        "  full_path = os.path.join(MODELS_FOLDER, file_name)\n",
        "  with open(full_path, 'wb') as model_pipeline_and_info_file:\n",
        "    pickle.dump(model_pipe_and_info, model_pipeline_and_info_file)\n",
        "            \n",
        "def get_model_pipeline_and_info(file_name):\n",
        "  full_path = os.path.join(MODELS_FOLDER, file_name)\n",
        "  if os.path.exists(full_path):\n",
        "    with open(full_path, 'rb') as model_pipeline_and_info_file:\n",
        "      model_pipe_and_info = pickle.load(model_pipeline_and_info_file)\n",
        "  else:\n",
        "      return None\n",
        "  return model_pipe_and_info"
      ],
      "execution_count": 37,
      "outputs": []
    },
    {
      "cell_type": "code",
      "metadata": {
        "id": "nbipGSbiaUZ-"
      },
      "source": [
        "float_features_to_classify_by = float_features_to_preprocess\n",
        "string_features_to_classify_by = string_features_to_preprocess\n",
        "\n",
        "FEATURES_TO_CLASSIFY_BY = float_features_to_classify_by | string_features_to_classify_by\n",
        "df_train_for_clf = df_train[FEATURES_TO_CLASSIFY_BY]\n",
        "# df_val_for_clf = df_val[FEATURES_TO_CLASSIFY_BY]\n",
        "\n",
        "labels_train_for_clf = labels_train['h1n1_vaccine']\n",
        "# labels_val_for_clf = labels_val['h1n1_vaccine']"
      ],
      "execution_count": 88,
      "outputs": []
    },
    {
      "cell_type": "code",
      "metadata": {
        "id": "z-CDDiDfH0sh"
      },
      "source": [
        "# EVAL_METRIC = 'auc'\n",
        "# EARLY_STOP_EVAL_SET = df_val_for_clf\n",
        "SCORE_IMPROVEMENT_MARGIN = 0.01\n",
        "\n",
        "old_best_model_so_far = get_model_pipeline_and_info(file_name='best_model_so_far.pickle')\n",
        "best_model_so_far = dict(old_best_model_so_far)\n",
        "\n",
        "def is_model_fame_worthy(scores):\n",
        "  global best_model_so_far\n",
        "  return scores.mean() >= (best_model_so_far['scores']['validation'].mean() + SCORE_IMPROVEMENT_MARGIN)\n",
        "\n",
        "dict_of_fame = {\n",
        "    old_best_model_so_far['name'] : old_best_model_so_far['scores']\n",
        "    }"
      ],
      "execution_count": 89,
      "outputs": []
    },
    {
      "cell_type": "code",
      "metadata": {
        "id": "zVeroG7sQ9Sw"
      },
      "source": [
        "def report_fit_time(fit_start, fit_end):\r\n",
        "  # Calculate the current model's performance and time\r\n",
        "  # fit time is in seconds\r\n",
        "  fit_time = fit_end - fit_start\r\n",
        "  fit_time_hours = int(fit_time / 60 / 60)\r\n",
        "  fit_time_minutes = int(fit_time / 60 )\r\n",
        "  fit_time_seconds = int(fit_time % 60)\r\n",
        "\r\n",
        "  print(\"Cross Validation time: {} hours, {} minutes, {} seconds\".format(fit_time_hours, fit_time_minutes, fit_time_seconds))\r\n",
        "  return fit_time"
      ],
      "execution_count": 90,
      "outputs": []
    },
    {
      "cell_type": "markdown",
      "metadata": {
        "id": "adovzumzYJpM"
      },
      "source": [
        "#### Classifiers"
      ]
    },
    {
      "cell_type": "code",
      "metadata": {
        "id": "tY7AXZWOhhkB"
      },
      "source": [
        "model_pipes_to_evaluate = dict()"
      ],
      "execution_count": 91,
      "outputs": []
    },
    {
      "cell_type": "markdown",
      "metadata": {
        "id": "dDlH7wD_N3kd"
      },
      "source": [
        "##### Logistic Regressor"
      ]
    },
    {
      "cell_type": "code",
      "metadata": {
        "id": "XHJUme2hN3kf"
      },
      "source": [
        "model = LogisticRegression(C=1, n_jobs=-1, verbose=False)\n",
        "model_name = 'Simple Logit Regressor'\n",
        "fit_params = dict()\n",
        "\n",
        "pipeline = Pipeline([('preprocess', data_preparation_pipeline), \n",
        "                     (model_name, model)])\n",
        "model_pipes_to_evaluate[model_name] = (pipeline, dict(fit_params))"
      ],
      "execution_count": 92,
      "outputs": []
    },
    {
      "cell_type": "markdown",
      "metadata": {
        "id": "Bdo_mFydRP9i"
      },
      "source": [
        "##### SVM"
      ]
    },
    {
      "cell_type": "code",
      "metadata": {
        "id": "y1uGPr49RP9j"
      },
      "source": [
        "model = SVC(verbose=False)\n",
        "model_name = 'Simple SVM classifier'\n",
        "fit_params = dict()\n",
        "\n",
        "pipeline = Pipeline([('preprocess', data_preparation_pipeline), \n",
        "                     (model_name, model)])\n",
        "model_pipes_to_evaluate[model_name] = (pipeline, dict(fit_params))"
      ],
      "execution_count": 93,
      "outputs": []
    },
    {
      "cell_type": "markdown",
      "metadata": {
        "id": "zxWWzL1GRu7j"
      },
      "source": [
        "##### Random Forest"
      ]
    },
    {
      "cell_type": "code",
      "metadata": {
        "id": "suK_wGK8Ru7k"
      },
      "source": [
        "model = RandomForestClassifier(n_jobs=-1, verbose=False)\n",
        "model_name = 'Simple Random Forest'\n",
        "fit_params = dict()\n",
        "\n",
        "pipeline = Pipeline([('preprocess', data_preparation_pipeline), \n",
        "                     (model_name, model)])\n",
        "model_pipes_to_evaluate[model_name] = (pipeline, dict(fit_params))"
      ],
      "execution_count": 94,
      "outputs": []
    },
    {
      "cell_type": "markdown",
      "metadata": {
        "id": "_yVi6Ay-PEXN"
      },
      "source": [
        "##### XGBoost"
      ]
    },
    {
      "cell_type": "code",
      "metadata": {
        "id": "9oAr_hy5PJnk"
      },
      "source": [
        "model_name = 'Guessed HyperParams XGBClassifier'\n",
        "model = XGBClassifier(objective = 'binary:logistic',\n",
        "                     n_estimators = 1000,\n",
        "                     learning_rate = 0.01,\n",
        "                     n_jobs = -1) # ,\n",
        "                    #  tree_method = 'gpu_hist')\n",
        "fit_params = {\n",
        "    # model_name + '__early_stopping_rounds' : 30,\n",
        "    # model_name + '__eval_set' : EARLY_STOP_EVAL_SET, \n",
        "    # model_name + '__eval_metric' : EVAL_METRIC,\n",
        "    model_name + '__verbose' : False\n",
        "}\n",
        "\n",
        "pipeline = Pipeline([('preprocess', data_preparation_pipeline), \n",
        "                     (model_name, model)])\n",
        "model_pipes_to_evaluate[model_name] = (pipeline, dict(fit_params))"
      ],
      "execution_count": 95,
      "outputs": []
    },
    {
      "cell_type": "markdown",
      "metadata": {
        "id": "T02M8vXUg35r"
      },
      "source": [
        "##### LightGBM"
      ]
    },
    {
      "cell_type": "code",
      "metadata": {
        "id": "2hh_7GlEg35w"
      },
      "source": [
        "model_name = 'Guessed HyperParams LightGBM'\n",
        "model = LGBMClassifier(n_estimators=1000, n_jobs = -1, objective = 'binary')\n",
        "fit_params = {\n",
        "    # model_name + '__early_stopping_rounds' : 30,\n",
        "    # model_name + '__eval_set' : EARLY_STOP_EVAL_SET, \n",
        "    # model_name + '__eval_metric' : EVAL_METRIC,\n",
        "    model_name + '__verbose' : False\n",
        "}\n",
        "\n",
        "pipeline = Pipeline([('preprocess', data_preparation_pipeline), \n",
        "                     (model_name, model)])\n",
        "model_pipes_to_evaluate[model_name] = (pipeline, dict(fit_params))"
      ],
      "execution_count": 96,
      "outputs": []
    },
    {
      "cell_type": "markdown",
      "metadata": {
        "id": "u2Lu3OeYaDUy"
      },
      "source": [
        "#### And for the results:"
      ]
    },
    {
      "cell_type": "code",
      "metadata": {
        "id": "W6Y6VzqqLPu-"
      },
      "source": [
        "# scores = cross_validate(model_pipeline, df_train_for_clf, labels_train_for_clf,\r\n",
        "#                         cv=CROSS_VALIDATOR,\r\n",
        "#                         n_jobs = -1,\r\n",
        "#                         scoring='roc_auc',\r\n",
        "#                         return_train_score=True)"
      ],
      "execution_count": 97,
      "outputs": []
    },
    {
      "cell_type": "code",
      "metadata": {
        "id": "Dm-YEvzzjB-m"
      },
      "source": [
        "# df_train_for_clf = df_train[FEATURES_TO_CLASSIFY_BY].iloc[:100,:]\r\n",
        "\r\n",
        "# labels_train_for_clf = labels_train['h1n1_vaccine'].iloc[:100]"
      ],
      "execution_count": 98,
      "outputs": []
    },
    {
      "cell_type": "code",
      "metadata": {
        "id": "2P7qyGp6qQ4C",
        "colab": {
          "base_uri": "https://localhost:8080/"
        },
        "outputId": "c63adc0e-2f32-470a-b314-3429822fee3a"
      },
      "source": [
        "CROSS_VALIDATOR = StratifiedShuffleSplit(n_splits=5, test_size=0.2, random_state=0)\n",
        "\n",
        "def evaluate_model_pipelines(model_pipelines):\n",
        "  train_cv_scoreboard = pd.DataFrame()\n",
        "  val_cv_scoreboard = pd.DataFrame()\n",
        "\n",
        "  for name, (model_pipeline, fit_params) in tqdm(model_pipelines.items()):\n",
        "    print('\\n###########################################################################')\n",
        "    print('# Model type: {}'.format(name))\n",
        "    print('###########################################################################')\n",
        "    \n",
        "    # Train the model\n",
        "    fit_start = perf_counter()\n",
        "    cv_scores = cross_validate(model_pipeline, df_train_for_clf, labels_train_for_clf,\n",
        "                            fit_params = fit_params,\n",
        "                            cv=CROSS_VALIDATOR,\n",
        "                            n_jobs = -1,\n",
        "                            scoring='roc_auc',\n",
        "                            return_train_score=True)\n",
        "    fit_end = perf_counter()\n",
        "\n",
        "    print()\n",
        "    fit_time = report_fit_time(fit_start, fit_end)\n",
        "    \n",
        "    # plot_model_performance(model_history)\n",
        "    # train_predictions = model_pipeline.predict(df_train_for_clf)\n",
        "    # val_predictions = model_pipeline.predict(df_val_for_clf)\n",
        "    # test_predictions = model_pipeline.predict(df_test_for_clf)\n",
        "\n",
        "    train_cv_scoreboard[name] = cv_scores['train_score']\n",
        "    val_cv_scoreboard[name] = cv_scores['test_score']\n",
        "        \n",
        "    # scores = {\n",
        "    #     'Training' : cv_scores['train_score'].mean(),\n",
        "    #     'Validation' : cv_scores['test_score'].mean()\n",
        "    #     # 'Test' : accuracy_score(labels_test_for_clf, test_predictions)\n",
        "    #     }\n",
        "\n",
        "    # for dataset_name, score in scores.items():\n",
        "      # print (\"%s auc: %0.5f \" % (dataset_name, score))  \n",
        "    # print(f'''Training:\n",
        "    # Mean Score: {cv_scores['train_score'].mean()}\n",
        "    # Score Standad Deviation: {cv_scores['train_score'].std()}''')\n",
        "\n",
        "    # print(f'''Validation:\n",
        "    # Mean Score: {cv_scores['test_score'].mean()}\n",
        "    # Score Standad Deviation: {cv_scores['test_score'].std()}''')\n",
        "\n",
        "    if is_model_fame_worthy(val_cv_scoreboard[name]):\n",
        "      model_pipeline.fit(df_train_for_clf, labels_train_for_clf, **fit_params)\n",
        "\n",
        "      global best_model_so_far\n",
        "      best_model_so_far = {\n",
        "          'name' : name, # Name of the model\n",
        "          'pipeline_and_params' : (model_pipeline, fit_params), # A tuple containing a sklearn.Pipeline object and a parameters dict\n",
        "          'scores' : {\n",
        "              'train' : train_cv_scoreboard[name],\n",
        "              'validation' : val_cv_scoreboard[name]\n",
        "          }, # The cv scores of the model\n",
        "          'time' : fit_time # Training time in seconds\n",
        "          }\n",
        "      dict_of_fame[name] = scores\n",
        "\n",
        "  print()\n",
        "  print('@@@@@@@@@@@@@@@@@@@@@@@@@@@@@@@@@@@@@@@@@@@@@@@@@@@@@@@@@@@@@@@@@@@@@@@')\n",
        "  print('@ Best models roundup')\n",
        "  print('@@@@@@@@@@@@@@@@@@@@@@@@@@@@@@@@@@@@@@@@@@@@@@@@@@@@@@@@@@@@@@@@@@@@@@@')\n",
        "  for name, score in dict_of_fame.items():\n",
        "    print(f'Name: {name}\\n Scores: {score}')\n",
        "\n",
        "  train_cv_scoreboard['Best So Far'] = best_model_so_far['scores']['train']\n",
        "  val_cv_scoreboard['Best So Far'] = best_model_so_far['scores']['validation']\n",
        "  \n",
        "  return train_cv_scoreboard, val_cv_scoreboard\n",
        "\n",
        "train_cv_scoreboard, val_cv_scoreboard = evaluate_model_pipelines(model_pipes_to_evaluate)"
      ],
      "execution_count": 103,
      "outputs": [
        {
          "output_type": "stream",
          "text": [
            "\r  0%|          | 0/5 [00:00<?, ?it/s]"
          ],
          "name": "stderr"
        },
        {
          "output_type": "stream",
          "text": [
            "\n",
            "###########################################################################\n",
            "# Model type: Simple Logit Regressor\n",
            "###########################################################################\n"
          ],
          "name": "stdout"
        },
        {
          "output_type": "stream",
          "text": [
            "\r 20%|██        | 1/5 [00:06<00:27,  6.76s/it]"
          ],
          "name": "stderr"
        },
        {
          "output_type": "stream",
          "text": [
            "\n",
            "Cross Validation time: 0 hours, 0 minutes, 6 seconds\n",
            "\n",
            "###########################################################################\n",
            "# Model type: Simple SVM classifier\n",
            "###########################################################################\n"
          ],
          "name": "stdout"
        },
        {
          "output_type": "stream",
          "text": [
            "\r 40%|████      | 2/5 [02:54<02:45, 55.17s/it]"
          ],
          "name": "stderr"
        },
        {
          "output_type": "stream",
          "text": [
            "\n",
            "Cross Validation time: 0 hours, 2 minutes, 48 seconds\n",
            "\n",
            "###########################################################################\n",
            "# Model type: Simple Random Forest\n",
            "###########################################################################\n"
          ],
          "name": "stdout"
        },
        {
          "output_type": "stream",
          "text": [
            "\r 60%|██████    | 3/5 [03:13<01:28, 44.31s/it]"
          ],
          "name": "stderr"
        },
        {
          "output_type": "stream",
          "text": [
            "\n",
            "Cross Validation time: 0 hours, 0 minutes, 18 seconds\n",
            "\n",
            "###########################################################################\n",
            "# Model type: Guessed HyperParams XGBClassifier\n",
            "###########################################################################\n"
          ],
          "name": "stdout"
        },
        {
          "output_type": "stream",
          "text": [
            "\r 80%|████████  | 4/5 [05:02<01:03, 63.72s/it]"
          ],
          "name": "stderr"
        },
        {
          "output_type": "stream",
          "text": [
            "\n",
            "Cross Validation time: 0 hours, 1 minutes, 48 seconds\n",
            "\n",
            "###########################################################################\n",
            "# Model type: Guessed HyperParams LightGBM\n",
            "###########################################################################\n"
          ],
          "name": "stdout"
        },
        {
          "output_type": "stream",
          "text": [
            "100%|██████████| 5/5 [05:33<00:00, 66.72s/it]"
          ],
          "name": "stderr"
        },
        {
          "output_type": "stream",
          "text": [
            "\n",
            "Cross Validation time: 0 hours, 0 minutes, 30 seconds\n",
            "\n",
            "@@@@@@@@@@@@@@@@@@@@@@@@@@@@@@@@@@@@@@@@@@@@@@@@@@@@@@@@@@@@@@@@@@@@@@@\n",
            "@ Best models roundup\n",
            "@@@@@@@@@@@@@@@@@@@@@@@@@@@@@@@@@@@@@@@@@@@@@@@@@@@@@@@@@@@@@@@@@@@@@@@\n",
            "Name: Guessed HyperParams XGBClassifier\n",
            " Scores: {'Training': 0.8500201641376517, 'Validation': 0.8399624917145643}\n"
          ],
          "name": "stdout"
        },
        {
          "output_type": "stream",
          "text": [
            "\n"
          ],
          "name": "stderr"
        }
      ]
    },
    {
      "cell_type": "code",
      "metadata": {
        "id": "gjic3jti4U5-"
      },
      "source": [
        "# best_model_so_far = {\r\n",
        "#           'name' : 'Guessed HyperParams XGBClassifier', # Name of the model\r\n",
        "#           'pipeline_and_params' : best_model_so_far['pipeline_and_params'], # A tuple containing a sklearn.Pipeline object and a parameters dict\r\n",
        "#           'scores' : {\r\n",
        "#               'train' : train_cv_scoreboard['Guessed HyperParams XGBClassifier'],\r\n",
        "#               'validation' : val_cv_scoreboard['Guessed HyperParams XGBClassifier']\r\n",
        "#           }, # The cv scores of the model\r\n",
        "#           'time' : best_model_so_far['time'] # Training time in seconds\r\n",
        "#           }"
      ],
      "execution_count": 101,
      "outputs": []
    },
    {
      "cell_type": "code",
      "metadata": {
        "colab": {
          "base_uri": "https://localhost:8080/",
          "height": 407
        },
        "id": "ro9i5g2Hjrn_",
        "outputId": "3c3d1bf1-46be-42dd-f82b-a2ed15ee587f"
      },
      "source": [
        "val_cv_scoreboard.plot(kind='box', title='validation scores', figsize = (8,6), vert=False)"
      ],
      "execution_count": 110,
      "outputs": [
        {
          "output_type": "execute_result",
          "data": {
            "text/plain": [
              "<matplotlib.axes._subplots.AxesSubplot at 0x7ffa3bee0f60>"
            ]
          },
          "metadata": {
            "tags": []
          },
          "execution_count": 110
        },
        {
          "output_type": "display_data",
          "data": {
            "image/png": "[encoded data removed]",
            "text/plain": [
              "<Figure size 576x432 with 1 Axes>"
            ]
          },
          "metadata": {
            "tags": [],
            "needs_background": "light"
          }
        }
      ]
    },
    {
      "cell_type": "code",
      "metadata": {
        "colab": {
          "base_uri": "https://localhost:8080/"
        },
        "id": "1JenMkpnrw37",
        "outputId": "7523ca12-b556-4425-a189-038147a10b6f"
      },
      "source": [
        "save_model_pipeline_and_info(best_model_so_far, file_name='best_model_so_far.pickle')\r\n",
        "best_model_so_far"
      ],
      "execution_count": 105,
      "outputs": [
        {
          "output_type": "execute_result",
          "data": {
            "text/plain": [
              "{'name': 'Guessed HyperParams XGBClassifier',\n",
              " 'pipeline_and_params': (Pipeline(memory=None,\n",
              "           steps=[('preprocess',\n",
              "                   Pipeline(memory=None,\n",
              "                            steps=[('Impute',\n",
              "                                    DataFrameMapper(default=False, df_out=True,\n",
              "                                                    features=[(['opinion_h1n1_risk'],\n",
              "                                                               TransformerPipeline(steps=[('simpleimputer',\n",
              "                                                                                           SimpleImputer(add_indicator=False,\n",
              "                                                                                                         copy=True,\n",
              "                                                                                                         fill_value=None,\n",
              "                                                                                                         missing_values=nan,\n",
              "                                                                                                         strategy='most_frequent',\n",
              "                                                                                                         verbose=0))]),\n",
              "                                                               {}),\n",
              "                                                              (['behavioral_outside_home'],...\n",
              "                   XGBClassifier(base_score=0.5, booster='gbtree',\n",
              "                                 colsample_bylevel=1, colsample_bynode=1,\n",
              "                                 colsample_bytree=1, gamma=0, learning_rate=0.01,\n",
              "                                 max_delta_step=0, max_depth=3,\n",
              "                                 min_child_weight=1, missing=nan,\n",
              "                                 n_estimators=1000, n_jobs=-1, nthread=None,\n",
              "                                 objective='binary:logistic', random_state=0,\n",
              "                                 reg_alpha=0, reg_lambda=1, scale_pos_weight=1,\n",
              "                                 seed=None, silent=None, subsample=1,\n",
              "                                 verbosity=1))],\n",
              "           verbose=False),\n",
              "  {'Guessed HyperParams XGBClassifier__verbose': False}),\n",
              " 'scores': {'train': 0    0.851147\n",
              "  1    0.849299\n",
              "  2    0.850740\n",
              "  3    0.849165\n",
              "  4    0.849750\n",
              "  Name: Guessed HyperParams XGBClassifier, dtype: float64,\n",
              "  'validation': 0    0.833748\n",
              "  1    0.844580\n",
              "  2    0.836734\n",
              "  3    0.842292\n",
              "  4    0.842458\n",
              "  Name: Guessed HyperParams XGBClassifier, dtype: float64},\n",
              " 'time': 109.059634174}"
            ]
          },
          "metadata": {
            "tags": []
          },
          "execution_count": 105
        }
      ]
    }
  ]
}